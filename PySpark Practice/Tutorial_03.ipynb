{
 "cells": [
  {
   "cell_type": "markdown",
   "id": "b2add7ac-dfc1-4a57-adce-028fb4d90772",
   "metadata": {},
   "source": [
    "## Select Top N rows from each group"
   ]
  },
  {
   "cell_type": "code",
   "execution_count": 1,
   "id": "1244e28d-e70f-45ba-9c7b-59145c56f01e",
   "metadata": {},
   "outputs": [],
   "source": [
    "import findspark\n",
    "findspark.init()"
   ]
  },
  {
   "cell_type": "code",
   "execution_count": 2,
   "id": "75c485f6-e5f2-4452-8c34-93cca8eac055",
   "metadata": {},
   "outputs": [],
   "source": [
    "import pyspark\n",
    "from pyspark.sql import SparkSession"
   ]
  },
  {
   "cell_type": "code",
   "execution_count": 3,
   "id": "f4d2df73-6164-4cb3-b7e6-640f75a2dda4",
   "metadata": {},
   "outputs": [],
   "source": [
    "spark = SparkSession.builder.appName(\"PySpark_Practice_03\").getOrCreate()"
   ]
  },
  {
   "cell_type": "code",
   "execution_count": 4,
   "id": "e502966b-adc8-41cc-9249-ff405c589cd8",
   "metadata": {
    "tags": []
   },
   "outputs": [],
   "source": [
    "from pyspark.sql.functions import current_timestamp, to_timestamp\n",
    "from pyspark.sql.functions import *\n",
    "from pyspark.sql import SparkSession\n",
    "from pyspark.sql.types import IntegerType, DateType, BooleanType"
   ]
  },
  {
   "cell_type": "code",
   "execution_count": 5,
   "id": "ab94deaf-31eb-497f-a920-0981f19f7e84",
   "metadata": {},
   "outputs": [],
   "source": [
    "sampledata = ((\"Nitya\", \"Sales\", 3000), \\\n",
    "                (\"Abhi\", \"Sales\", 4600), \\\n",
    "                (\"Rakesh\", \"Sales\", 4100), \\\n",
    "                (\"Sandeep\", \"finance\", 3000), \\\n",
    "                (\"Abhishek\", \"Sales\", 3000), \\\n",
    "                (\"Shyan\", \"finance\", 3300), \\\n",
    "                (\"Madan\", \"finance\", 3900), \\\n",
    "                (\"Jarin\", \"marketing\", 3000), \\\n",
    "                (\"kumar\", \"marketing\", 2000))"
   ]
  },
  {
   "cell_type": "code",
   "execution_count": 6,
   "id": "21226b9f-fea3-4cff-80d9-8b016bd4838c",
   "metadata": {},
   "outputs": [],
   "source": [
    "columns = [\"employee_name\", \"department\", \"salary\"]"
   ]
  },
  {
   "cell_type": "code",
   "execution_count": 7,
   "id": "043bf1f6-8ce5-419e-a1cd-f4f43f5a324c",
   "metadata": {
    "tags": []
   },
   "outputs": [],
   "source": [
    "df = spark.createDataFrame(sampledata,columns)"
   ]
  },
  {
   "cell_type": "code",
   "execution_count": 8,
   "id": "bf381bf7-91ef-4b57-8116-cc32e156d4eb",
   "metadata": {
    "tags": []
   },
   "outputs": [
    {
     "name": "stdout",
     "output_type": "stream",
     "text": [
      "+-------------+----------+------+\n",
      "|employee_name|department|salary|\n",
      "+-------------+----------+------+\n",
      "|Nitya        |Sales     |3000  |\n",
      "|Abhi         |Sales     |4600  |\n",
      "|Rakesh       |Sales     |4100  |\n",
      "|Sandeep      |finance   |3000  |\n",
      "|Abhishek     |Sales     |3000  |\n",
      "|Shyan        |finance   |3300  |\n",
      "|Madan        |finance   |3900  |\n",
      "|Jarin        |marketing |3000  |\n",
      "|kumar        |marketing |2000  |\n",
      "+-------------+----------+------+\n",
      "\n"
     ]
    }
   ],
   "source": [
    "df.show(truncate=False)"
   ]
  },
  {
   "cell_type": "code",
   "execution_count": 9,
   "id": "ad013db7-46e8-4d0c-ae49-91b2c8e459b0",
   "metadata": {
    "tags": []
   },
   "outputs": [
    {
     "name": "stdout",
     "output_type": "stream",
     "text": [
      "root\n",
      " |-- employee_name: string (nullable = true)\n",
      " |-- department: string (nullable = true)\n",
      " |-- salary: long (nullable = true)\n",
      "\n"
     ]
    }
   ],
   "source": [
    "df.printSchema()"
   ]
  },
  {
   "cell_type": "code",
   "execution_count": 10,
   "id": "8c72495c-4c1c-42d5-a78b-d494ed078332",
   "metadata": {
    "tags": []
   },
   "outputs": [],
   "source": [
    "from pyspark.sql import Window"
   ]
  },
  {
   "cell_type": "code",
   "execution_count": 11,
   "id": "07d3a54b-bf35-4899-81a3-1dcac70b0192",
   "metadata": {
    "tags": []
   },
   "outputs": [],
   "source": [
    "windowSpec = Window.partitionBy(\"department\").orderBy(\"salary\")"
   ]
  },
  {
   "cell_type": "code",
   "execution_count": 16,
   "id": "e69267b7-29cf-445e-aa27-acc098c78ba9",
   "metadata": {
    "tags": []
   },
   "outputs": [
    {
     "name": "stdout",
     "output_type": "stream",
     "text": [
      "+-------------+----------+------+---+\n",
      "|employee_name|department|salary|row|\n",
      "+-------------+----------+------+---+\n",
      "|        Nitya|     Sales|  3000|  1|\n",
      "|     Abhishek|     Sales|  3000|  2|\n",
      "|       Rakesh|     Sales|  4100|  3|\n",
      "|         Abhi|     Sales|  4600|  4|\n",
      "|      Sandeep|   finance|  3000|  1|\n",
      "|        Shyan|   finance|  3300|  2|\n",
      "|        Madan|   finance|  3900|  3|\n",
      "|        kumar| marketing|  2000|  1|\n",
      "|        Jarin| marketing|  3000|  2|\n",
      "+-------------+----------+------+---+\n",
      "\n"
     ]
    }
   ],
   "source": [
    "# Row_number\n",
    "df1 = df.withColumn(\"row\", row_number().over(windowSpec))\n",
    "df1.show()"
   ]
  },
  {
   "cell_type": "code",
   "execution_count": 17,
   "id": "3585336b-b1d4-4be2-b46f-93865e5fe333",
   "metadata": {
    "tags": []
   },
   "outputs": [
    {
     "name": "stdout",
     "output_type": "stream",
     "text": [
      "+-------------+----------+------+---+\n",
      "|employee_name|department|salary|row|\n",
      "+-------------+----------+------+---+\n",
      "|        Nitya|     Sales|  3000|  1|\n",
      "|     Abhishek|     Sales|  3000|  2|\n",
      "|      Sandeep|   finance|  3000|  1|\n",
      "|        Shyan|   finance|  3300|  2|\n",
      "|        kumar| marketing|  2000|  1|\n",
      "|        Jarin| marketing|  3000|  2|\n",
      "+-------------+----------+------+---+\n",
      "\n"
     ]
    }
   ],
   "source": [
    "df2 = df1.filter(col(\"row\") < 3)\n",
    "df2.show()"
   ]
  },
  {
   "cell_type": "code",
   "execution_count": null,
   "id": "1697d630-5b17-4126-9938-ada2c613d743",
   "metadata": {},
   "outputs": [],
   "source": []
  }
 ],
 "metadata": {
  "kernelspec": {
   "display_name": "Python 3 (ipykernel)",
   "language": "python",
   "name": "python3"
  },
  "language_info": {
   "codemirror_mode": {
    "name": "ipython",
    "version": 3
   },
   "file_extension": ".py",
   "mimetype": "text/x-python",
   "name": "python",
   "nbconvert_exporter": "python",
   "pygments_lexer": "ipython3",
   "version": "3.9.18"
  }
 },
 "nbformat": 4,
 "nbformat_minor": 5
}
