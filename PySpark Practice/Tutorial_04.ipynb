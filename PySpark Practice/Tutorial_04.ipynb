{
 "cells": [
  {
   "cell_type": "markdown",
   "id": "b2add7ac-dfc1-4a57-adce-028fb4d90772",
   "metadata": {},
   "source": [
    "## Drop duplicate record"
   ]
  },
  {
   "cell_type": "code",
   "execution_count": 1,
   "id": "1244e28d-e70f-45ba-9c7b-59145c56f01e",
   "metadata": {},
   "outputs": [],
   "source": [
    "import findspark\n",
    "findspark.init()"
   ]
  },
  {
   "cell_type": "code",
   "execution_count": 2,
   "id": "75c485f6-e5f2-4452-8c34-93cca8eac055",
   "metadata": {},
   "outputs": [],
   "source": [
    "import pyspark\n",
    "from pyspark.sql import SparkSession"
   ]
  },
  {
   "cell_type": "code",
   "execution_count": 3,
   "id": "f4d2df73-6164-4cb3-b7e6-640f75a2dda4",
   "metadata": {},
   "outputs": [],
   "source": [
    "spark = SparkSession.builder.appName(\"PySpark_Practice_04\").getOrCreate()"
   ]
  },
  {
   "cell_type": "code",
   "execution_count": 4,
   "id": "e502966b-adc8-41cc-9249-ff405c589cd8",
   "metadata": {
    "tags": []
   },
   "outputs": [],
   "source": [
    "from pyspark.sql.functions import current_timestamp, to_timestamp\n",
    "from pyspark.sql.functions import *\n",
    "from pyspark.sql import SparkSession\n",
    "from pyspark.sql.types import IntegerType, DateType, BooleanType"
   ]
  },
  {
   "cell_type": "code",
   "execution_count": 6,
   "id": "ab94deaf-31eb-497f-a920-0981f19f7e84",
   "metadata": {},
   "outputs": [],
   "source": [
    "sampledata = ([1, \"ramesh\", 1000], \n",
    "               [2, \"Krishna\", 2000], \n",
    "               [3, \"Shri\", 3000], \n",
    "               [4, \"Pradip\",4000],\n",
    "               [1, \"ramesh\", 1000], \n",
    "               [2, \"Krishna\", 2000], \n",
    "               [3, \"Shri\", 3000], \n",
    "               [4, \"Pradip\", 4000])"
   ]
  },
  {
   "cell_type": "code",
   "execution_count": 7,
   "id": "21226b9f-fea3-4cff-80d9-8b016bd4838c",
   "metadata": {},
   "outputs": [],
   "source": [
    "columns = [\"id\", \"name\", \"salary\"]"
   ]
  },
  {
   "cell_type": "code",
   "execution_count": 8,
   "id": "043bf1f6-8ce5-419e-a1cd-f4f43f5a324c",
   "metadata": {
    "tags": []
   },
   "outputs": [],
   "source": [
    "df = spark.createDataFrame(sampledata,columns)"
   ]
  },
  {
   "cell_type": "code",
   "execution_count": 9,
   "id": "bf381bf7-91ef-4b57-8116-cc32e156d4eb",
   "metadata": {
    "tags": []
   },
   "outputs": [
    {
     "name": "stdout",
     "output_type": "stream",
     "text": [
      "+---+-------+------+\n",
      "|id |name   |salary|\n",
      "+---+-------+------+\n",
      "|1  |ramesh |1000  |\n",
      "|2  |Krishna|2000  |\n",
      "|3  |Shri   |3000  |\n",
      "|4  |Pradip |4000  |\n",
      "|1  |ramesh |1000  |\n",
      "|2  |Krishna|2000  |\n",
      "|3  |Shri   |3000  |\n",
      "|4  |Pradip |4000  |\n",
      "+---+-------+------+\n",
      "\n"
     ]
    }
   ],
   "source": [
    "df.show(truncate=False)"
   ]
  },
  {
   "cell_type": "code",
   "execution_count": 10,
   "id": "ad013db7-46e8-4d0c-ae49-91b2c8e459b0",
   "metadata": {
    "tags": []
   },
   "outputs": [
    {
     "name": "stdout",
     "output_type": "stream",
     "text": [
      "root\n",
      " |-- id: long (nullable = true)\n",
      " |-- name: string (nullable = true)\n",
      " |-- salary: long (nullable = true)\n",
      "\n"
     ]
    }
   ],
   "source": [
    "df.printSchema()"
   ]
  },
  {
   "cell_type": "code",
   "execution_count": 11,
   "id": "0252a9b5-3728-4af4-9bda-e50192351bd4",
   "metadata": {
    "tags": []
   },
   "outputs": [
    {
     "name": "stdout",
     "output_type": "stream",
     "text": [
      "+---+-------+------+\n",
      "| id|   name|salary|\n",
      "+---+-------+------+\n",
      "|  1| ramesh|  1000|\n",
      "|  2|Krishna|  2000|\n",
      "|  3|   Shri|  3000|\n",
      "|  4| Pradip|  4000|\n",
      "+---+-------+------+\n",
      "\n"
     ]
    }
   ],
   "source": [
    "df1 = df.distinct()\n",
    "df1.show()"
   ]
  },
  {
   "cell_type": "code",
   "execution_count": 12,
   "id": "a271ec55-ab49-4c1f-ab33-05f527a25d88",
   "metadata": {
    "tags": []
   },
   "outputs": [
    {
     "name": "stdout",
     "output_type": "stream",
     "text": [
      "+---+-------+------+\n",
      "| id|   name|salary|\n",
      "+---+-------+------+\n",
      "|  1| ramesh|  1000|\n",
      "|  2|Krishna|  2000|\n",
      "|  3|   Shri|  3000|\n",
      "|  4| Pradip|  4000|\n",
      "+---+-------+------+\n",
      "\n"
     ]
    }
   ],
   "source": [
    "df2 = df.dropDuplicates()\n",
    "df2.show()"
   ]
  },
  {
   "cell_type": "code",
   "execution_count": 13,
   "id": "e047b4d7-6db5-4d50-9cb4-ac323ea8b944",
   "metadata": {
    "tags": []
   },
   "outputs": [
    {
     "name": "stdout",
     "output_type": "stream",
     "text": [
      "+---+-------+\n",
      "| id|   name|\n",
      "+---+-------+\n",
      "|  1| ramesh|\n",
      "|  2|Krishna|\n",
      "|  3|   Shri|\n",
      "|  4| Pradip|\n",
      "+---+-------+\n",
      "\n"
     ]
    }
   ],
   "source": [
    "df3 = df.select([\"id\", \"name\"]).distinct()\n",
    "df3.show()"
   ]
  },
  {
   "cell_type": "code",
   "execution_count": null,
   "id": "38c3da5d-79c2-4321-b947-783e7ef34a58",
   "metadata": {},
   "outputs": [],
   "source": []
  }
 ],
 "metadata": {
  "kernelspec": {
   "display_name": "Python 3 (ipykernel)",
   "language": "python",
   "name": "python3"
  },
  "language_info": {
   "codemirror_mode": {
    "name": "ipython",
    "version": 3
   },
   "file_extension": ".py",
   "mimetype": "text/x-python",
   "name": "python",
   "nbconvert_exporter": "python",
   "pygments_lexer": "ipython3",
   "version": "3.9.18"
  }
 },
 "nbformat": 4,
 "nbformat_minor": 5
}
