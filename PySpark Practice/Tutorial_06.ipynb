{
 "cells": [
  {
   "cell_type": "markdown",
   "id": "b2add7ac-dfc1-4a57-adce-028fb4d90772",
   "metadata": {},
   "source": [
    "## Splitting multi delimiter row"
   ]
  },
  {
   "cell_type": "code",
   "execution_count": 3,
   "id": "1244e28d-e70f-45ba-9c7b-59145c56f01e",
   "metadata": {},
   "outputs": [],
   "source": [
    "import findspark\n",
    "findspark.init()"
   ]
  },
  {
   "cell_type": "code",
   "execution_count": 4,
   "id": "75c485f6-e5f2-4452-8c34-93cca8eac055",
   "metadata": {},
   "outputs": [],
   "source": [
    "import pyspark\n",
    "from pyspark.sql import SparkSession"
   ]
  },
  {
   "cell_type": "code",
   "execution_count": 5,
   "id": "f4d2df73-6164-4cb3-b7e6-640f75a2dda4",
   "metadata": {},
   "outputs": [],
   "source": [
    "spark = SparkSession.builder.appName(\"PySpark_Practice_06\").getOrCreate()"
   ]
  },
  {
   "cell_type": "code",
   "execution_count": 6,
   "id": "e502966b-adc8-41cc-9249-ff405c589cd8",
   "metadata": {
    "tags": []
   },
   "outputs": [],
   "source": [
    "from pyspark.sql.functions import current_timestamp, to_timestamp\n",
    "from pyspark.sql.functions import *\n",
    "from pyspark.sql import SparkSession\n",
    "from pyspark.sql.types import IntegerType, DateType, BooleanType"
   ]
  },
  {
   "cell_type": "code",
   "execution_count": 7,
   "id": "d4b9238a-9270-472a-b59a-c94422246deb",
   "metadata": {},
   "outputs": [],
   "source": [
    "data = [(1, \"Abhishek\", \"10|30|40\"),\n",
    "        (2, \"Krishna\", \"50|40|70\"),\n",
    "        (3, \"rakesh\", \"20|70|90\")]"
   ]
  },
  {
   "cell_type": "code",
   "execution_count": 8,
   "id": "8a5e2b30-9f51-47dd-9174-5fc2223ff8d6",
   "metadata": {
    "tags": []
   },
   "outputs": [],
   "source": [
    "schema = [\"id\", \"name\", \"marks\"]"
   ]
  },
  {
   "cell_type": "code",
   "execution_count": 9,
   "id": "aae49214-4f9e-4bd7-8dcf-b295afb3f860",
   "metadata": {
    "tags": []
   },
   "outputs": [],
   "source": [
    "df = spark.createDataFrame(data, schema)"
   ]
  },
  {
   "cell_type": "code",
   "execution_count": 10,
   "id": "bb58f81c-a138-47e2-ae8a-7b2eefd319f6",
   "metadata": {
    "tags": []
   },
   "outputs": [
    {
     "name": "stdout",
     "output_type": "stream",
     "text": [
      "+---+--------+--------+\n",
      "|id |name    |marks   |\n",
      "+---+--------+--------+\n",
      "|1  |Abhishek|10|30|40|\n",
      "|2  |Krishna |50|40|70|\n",
      "|3  |rakesh  |20|70|90|\n",
      "+---+--------+--------+\n",
      "\n"
     ]
    }
   ],
   "source": [
    "df.show(truncate=False)"
   ]
  },
  {
   "cell_type": "code",
   "execution_count": 11,
   "id": "22264fbe-0451-46a5-be56-6f859d78b474",
   "metadata": {
    "tags": []
   },
   "outputs": [],
   "source": [
    "from pyspark.sql.functions import split, col"
   ]
  },
  {
   "cell_type": "code",
   "execution_count": 12,
   "id": "36755cd7-e309-41eb-99cf-1f3335c33fbf",
   "metadata": {
    "tags": []
   },
   "outputs": [],
   "source": [
    "df_s = df.withColumn(\"mark_details\", split(col(\"marks\"), \"[|]\")) \\\n",
    "        .withColumn(\"maths\", col(\"mark_details\")[0]) \\\n",
    "        .withColumn(\"physical\", col(\"mark_details\")[1]) \\\n",
    "        .withColumn(\"chemistry\", col(\"mark_details\")[2])"
   ]
  },
  {
   "cell_type": "code",
   "execution_count": 13,
   "id": "fa121077-e387-4a84-83ac-a80c9b1026da",
   "metadata": {
    "tags": []
   },
   "outputs": [
    {
     "name": "stdout",
     "output_type": "stream",
     "text": [
      "+---+--------+--------+------------+-----+--------+---------+\n",
      "|id |name    |marks   |mark_details|maths|physical|chemistry|\n",
      "+---+--------+--------+------------+-----+--------+---------+\n",
      "|1  |Abhishek|10|30|40|[10, 30, 40]|10   |30      |40       |\n",
      "|2  |Krishna |50|40|70|[50, 40, 70]|50   |40      |70       |\n",
      "|3  |rakesh  |20|70|90|[20, 70, 90]|20   |70      |90       |\n",
      "+---+--------+--------+------------+-----+--------+---------+\n",
      "\n"
     ]
    }
   ],
   "source": [
    "df_s.show(truncate=False)"
   ]
  },
  {
   "cell_type": "code",
   "execution_count": null,
   "id": "0394288e-bf00-46cb-8097-2d01ff98929c",
   "metadata": {},
   "outputs": [],
   "source": []
  }
 ],
 "metadata": {
  "kernelspec": {
   "display_name": "Python 3 (ipykernel)",
   "language": "python",
   "name": "python3"
  },
  "language_info": {
   "codemirror_mode": {
    "name": "ipython",
    "version": 3
   },
   "file_extension": ".py",
   "mimetype": "text/x-python",
   "name": "python",
   "nbconvert_exporter": "python",
   "pygments_lexer": "ipython3",
   "version": "3.9.18"
  }
 },
 "nbformat": 4,
 "nbformat_minor": 5
}
