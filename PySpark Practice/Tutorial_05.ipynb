{
 "cells": [
  {
   "cell_type": "markdown",
   "id": "b2add7ac-dfc1-4a57-adce-028fb4d90772",
   "metadata": {},
   "source": [
    "## Explode nested array in PySpark"
   ]
  },
  {
   "cell_type": "code",
   "execution_count": 1,
   "id": "1244e28d-e70f-45ba-9c7b-59145c56f01e",
   "metadata": {},
   "outputs": [],
   "source": [
    "import findspark\n",
    "findspark.init()"
   ]
  },
  {
   "cell_type": "code",
   "execution_count": 2,
   "id": "75c485f6-e5f2-4452-8c34-93cca8eac055",
   "metadata": {},
   "outputs": [],
   "source": [
    "import pyspark\n",
    "from pyspark.sql import SparkSession"
   ]
  },
  {
   "cell_type": "code",
   "execution_count": 3,
   "id": "f4d2df73-6164-4cb3-b7e6-640f75a2dda4",
   "metadata": {},
   "outputs": [],
   "source": [
    "spark = SparkSession.builder.appName(\"PySpark_Practice_05\").getOrCreate()"
   ]
  },
  {
   "cell_type": "code",
   "execution_count": 4,
   "id": "e502966b-adc8-41cc-9249-ff405c589cd8",
   "metadata": {
    "tags": []
   },
   "outputs": [],
   "source": [
    "from pyspark.sql.functions import current_timestamp, to_timestamp\n",
    "from pyspark.sql.functions import *\n",
    "from pyspark.sql import SparkSession\n",
    "from pyspark.sql.types import IntegerType, DateType, BooleanType"
   ]
  },
  {
   "cell_type": "code",
   "execution_count": 5,
   "id": "ab94deaf-31eb-497f-a920-0981f19f7e84",
   "metadata": {},
   "outputs": [],
   "source": [
    "sampledata = [(\"Abhishek\", [[\"Java\", \"scala\", \"perl\"], [\"spark\",\"java\"]]),\n",
    "                (\"Nitya\", [[\"spark\", \"java\", \"c++\"], [\"spark\", \"java\"]]),\n",
    "                (\"Sandeep\", [[\"csharp\", \"vb\"], [\"spark\", \"python\"]])]"
   ]
  },
  {
   "cell_type": "code",
   "execution_count": 6,
   "id": "21226b9f-fea3-4cff-80d9-8b016bd4838c",
   "metadata": {},
   "outputs": [],
   "source": [
    "columns = [\"name\", \"subjects\"]"
   ]
  },
  {
   "cell_type": "code",
   "execution_count": 7,
   "id": "043bf1f6-8ce5-419e-a1cd-f4f43f5a324c",
   "metadata": {
    "tags": []
   },
   "outputs": [],
   "source": [
    "df = spark.createDataFrame(sampledata,columns)"
   ]
  },
  {
   "cell_type": "code",
   "execution_count": 8,
   "id": "bf381bf7-91ef-4b57-8116-cc32e156d4eb",
   "metadata": {
    "tags": []
   },
   "outputs": [
    {
     "name": "stdout",
     "output_type": "stream",
     "text": [
      "+--------+------------------------------------+\n",
      "|name    |subjects                            |\n",
      "+--------+------------------------------------+\n",
      "|Abhishek|[[Java, scala, perl], [spark, java]]|\n",
      "|Nitya   |[[spark, java, c++], [spark, java]] |\n",
      "|Sandeep |[[csharp, vb], [spark, python]]     |\n",
      "+--------+------------------------------------+\n",
      "\n"
     ]
    }
   ],
   "source": [
    "df.show(truncate=False)"
   ]
  },
  {
   "cell_type": "code",
   "execution_count": 9,
   "id": "ad013db7-46e8-4d0c-ae49-91b2c8e459b0",
   "metadata": {
    "tags": []
   },
   "outputs": [
    {
     "name": "stdout",
     "output_type": "stream",
     "text": [
      "root\n",
      " |-- name: string (nullable = true)\n",
      " |-- subjects: array (nullable = true)\n",
      " |    |-- element: array (containsNull = true)\n",
      " |    |    |-- element: string (containsNull = true)\n",
      "\n"
     ]
    }
   ],
   "source": [
    "df.printSchema()"
   ]
  },
  {
   "cell_type": "code",
   "execution_count": 10,
   "id": "38c3da5d-79c2-4321-b947-783e7ef34a58",
   "metadata": {},
   "outputs": [
    {
     "name": "stdout",
     "output_type": "stream",
     "text": [
      "+--------+-------------------+\n",
      "|name    |col                |\n",
      "+--------+-------------------+\n",
      "|Abhishek|[Java, scala, perl]|\n",
      "|Abhishek|[spark, java]      |\n",
      "|Nitya   |[spark, java, c++] |\n",
      "|Nitya   |[spark, java]      |\n",
      "|Sandeep |[csharp, vb]       |\n",
      "|Sandeep |[spark, python]    |\n",
      "+--------+-------------------+\n",
      "\n"
     ]
    }
   ],
   "source": [
    "df.select(df.name, explode(df.subjects)).show(truncate=False)"
   ]
  },
  {
   "cell_type": "code",
   "execution_count": 11,
   "id": "baa30132-4064-4467-92be-5acdaadfca0c",
   "metadata": {
    "tags": []
   },
   "outputs": [
    {
     "name": "stdout",
     "output_type": "stream",
     "text": [
      "+--------+--------------------------------+\n",
      "|name    |flatten(subjects)               |\n",
      "+--------+--------------------------------+\n",
      "|Abhishek|[Java, scala, perl, spark, java]|\n",
      "|Nitya   |[spark, java, c++, spark, java] |\n",
      "|Sandeep |[csharp, vb, spark, python]     |\n",
      "+--------+--------------------------------+\n",
      "\n"
     ]
    }
   ],
   "source": [
    "df.select(df.name, flatten(df.subjects)).show(truncate=False)"
   ]
  },
  {
   "cell_type": "code",
   "execution_count": null,
   "id": "d4b9238a-9270-472a-b59a-c94422246deb",
   "metadata": {},
   "outputs": [],
   "source": []
  }
 ],
 "metadata": {
  "kernelspec": {
   "display_name": "Python 3 (ipykernel)",
   "language": "python",
   "name": "python3"
  },
  "language_info": {
   "codemirror_mode": {
    "name": "ipython",
    "version": 3
   },
   "file_extension": ".py",
   "mimetype": "text/x-python",
   "name": "python",
   "nbconvert_exporter": "python",
   "pygments_lexer": "ipython3",
   "version": "3.9.18"
  }
 },
 "nbformat": 4,
 "nbformat_minor": 5
}
