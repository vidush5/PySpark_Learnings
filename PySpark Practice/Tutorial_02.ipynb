{
 "cells": [
  {
   "cell_type": "markdown",
   "id": "b2add7ac-dfc1-4a57-adce-028fb4d90772",
   "metadata": {},
   "source": [
    "## Date and timestamp functions in PySpark"
   ]
  },
  {
   "cell_type": "code",
   "execution_count": 1,
   "id": "1244e28d-e70f-45ba-9c7b-59145c56f01e",
   "metadata": {},
   "outputs": [],
   "source": [
    "import findspark\n",
    "findspark.init()"
   ]
  },
  {
   "cell_type": "code",
   "execution_count": 2,
   "id": "75c485f6-e5f2-4452-8c34-93cca8eac055",
   "metadata": {},
   "outputs": [],
   "source": [
    "import pyspark\n",
    "from pyspark.sql import SparkSession"
   ]
  },
  {
   "cell_type": "code",
   "execution_count": 3,
   "id": "f4d2df73-6164-4cb3-b7e6-640f75a2dda4",
   "metadata": {},
   "outputs": [],
   "source": [
    "spark = SparkSession.builder.appName(\"PySpark_Practice_02\").getOrCreate()"
   ]
  },
  {
   "cell_type": "code",
   "execution_count": 4,
   "id": "e502966b-adc8-41cc-9249-ff405c589cd8",
   "metadata": {
    "tags": []
   },
   "outputs": [],
   "source": [
    "from pyspark.sql.functions import current_timestamp, to_timestamp\n",
    "from pyspark.sql.functions import *\n",
    "from pyspark.sql import SparkSession\n",
    "from pyspark.sql.types import IntegerType, DateType, BooleanType"
   ]
  },
  {
   "cell_type": "code",
   "execution_count": 5,
   "id": "043bf1f6-8ce5-419e-a1cd-f4f43f5a324c",
   "metadata": {
    "tags": []
   },
   "outputs": [],
   "source": [
    "df = spark.createDataFrame([[\"1\", \"2019-07-01 12:01:19.000\"],\n",
    "                           [\"2\", \"2019-06-24 12:01:19.000\"]],\n",
    "                          [\"id\", \"input_timestamp\"])"
   ]
  },
  {
   "cell_type": "code",
   "execution_count": 11,
   "id": "bf381bf7-91ef-4b57-8116-cc32e156d4eb",
   "metadata": {
    "tags": []
   },
   "outputs": [
    {
     "name": "stdout",
     "output_type": "stream",
     "text": [
      "+---+-----------------------+\n",
      "|id |input_timestamp        |\n",
      "+---+-----------------------+\n",
      "|1  |2019-07-01 12:01:19.000|\n",
      "|2  |2019-06-24 12:01:19.000|\n",
      "+---+-----------------------+\n",
      "\n"
     ]
    }
   ],
   "source": [
    "df.show(truncate=False)"
   ]
  },
  {
   "cell_type": "code",
   "execution_count": 12,
   "id": "ad013db7-46e8-4d0c-ae49-91b2c8e459b0",
   "metadata": {
    "tags": []
   },
   "outputs": [
    {
     "name": "stdout",
     "output_type": "stream",
     "text": [
      "root\n",
      " |-- id: string (nullable = true)\n",
      " |-- input_timestamp: string (nullable = true)\n",
      "\n"
     ]
    }
   ],
   "source": [
    "df.printSchema()"
   ]
  },
  {
   "cell_type": "markdown",
   "id": "3845f923-ff68-44d6-a13a-0f083ee6cb28",
   "metadata": {},
   "source": [
    "#### Converting string datatype to timestamp"
   ]
  },
  {
   "cell_type": "code",
   "execution_count": 15,
   "id": "41aff4aa-9434-4546-baa2-ff25a0640435",
   "metadata": {
    "tags": []
   },
   "outputs": [
    {
     "name": "stdout",
     "output_type": "stream",
     "text": [
      "+---+-----------------------+-------------------+\n",
      "|id |input_timestamp        |timestamptype      |\n",
      "+---+-----------------------+-------------------+\n",
      "|1  |2019-07-01 12:01:19.000|2019-07-01 12:01:19|\n",
      "|2  |2019-06-24 12:01:19.000|2019-06-24 12:01:19|\n",
      "+---+-----------------------+-------------------+\n",
      "\n"
     ]
    }
   ],
   "source": [
    "df1 = df.withColumn(\"timestamptype\",\n",
    "                   to_timestamp(\"input_timestamp\"))\n",
    "\n",
    "df1.show(truncate=False)"
   ]
  },
  {
   "cell_type": "code",
   "execution_count": 16,
   "id": "1ef69cfc-3884-4cda-bb6d-b03bd3db6ebb",
   "metadata": {
    "tags": []
   },
   "outputs": [
    {
     "name": "stdout",
     "output_type": "stream",
     "text": [
      "+---+-------------------+\n",
      "|id |input_timestamp    |\n",
      "+---+-------------------+\n",
      "|1  |2019-07-01 12:01:19|\n",
      "|2  |2019-06-24 12:01:19|\n",
      "+---+-------------------+\n",
      "\n"
     ]
    }
   ],
   "source": [
    "## Selecting only necessary column and renaming\n",
    "df2 = df1.select(\"id\", \"timestamptype\").withColumnRenamed(\"timestamptype\", \"input_timestamp\")\n",
    "df2.show(truncate=False)"
   ]
  },
  {
   "cell_type": "code",
   "execution_count": 18,
   "id": "a38b9353-1839-45d8-9292-4a1ffb9ae4df",
   "metadata": {
    "tags": []
   },
   "outputs": [
    {
     "name": "stdout",
     "output_type": "stream",
     "text": [
      "+---+-------------------+\n",
      "|id |input_timestamp    |\n",
      "+---+-------------------+\n",
      "|1  |2019-07-01 12:01:19|\n",
      "|2  |2019-06-24 12:01:19|\n",
      "+---+-------------------+\n",
      "\n",
      "root\n",
      " |-- id: string (nullable = true)\n",
      " |-- input_timestamp: string (nullable = true)\n",
      "\n"
     ]
    }
   ],
   "source": [
    "# using cast to convert timestamp to DateType\n",
    "df3 = df2.select(col(\"id\"), col(\"input_timestamp\").cast('string'))\n",
    "df3.show(truncate=False)\n",
    "df3.printSchema()"
   ]
  },
  {
   "cell_type": "code",
   "execution_count": 19,
   "id": "96e995fa-8991-4595-a653-cfc4974d5ea8",
   "metadata": {
    "tags": []
   },
   "outputs": [
    {
     "name": "stdout",
     "output_type": "stream",
     "text": [
      "+---+------------------------+\n",
      "|id |to_date(input_timestamp)|\n",
      "+---+------------------------+\n",
      "|1  |2019-07-01              |\n",
      "|2  |2019-06-24              |\n",
      "+---+------------------------+\n",
      "\n"
     ]
    }
   ],
   "source": [
    "# timestamp type to datetype\n",
    "df4 = df2.select(col(\"id\"), to_date(col(\"input_timestamp\")))\n",
    "df4.show(truncate=False)"
   ]
  },
  {
   "cell_type": "code",
   "execution_count": null,
   "id": "57e711f3-23fb-42db-beeb-e66d5a9d69c5",
   "metadata": {},
   "outputs": [],
   "source": []
  },
  {
   "cell_type": "code",
   "execution_count": null,
   "id": "2298b101-5a9e-496a-b7da-50632103cab6",
   "metadata": {},
   "outputs": [],
   "source": []
  }
 ],
 "metadata": {
  "kernelspec": {
   "display_name": "Python 3 (ipykernel)",
   "language": "python",
   "name": "python3"
  },
  "language_info": {
   "codemirror_mode": {
    "name": "ipython",
    "version": 3
   },
   "file_extension": ".py",
   "mimetype": "text/x-python",
   "name": "python",
   "nbconvert_exporter": "python",
   "pygments_lexer": "ipython3",
   "version": "3.9.18"
  }
 },
 "nbformat": 4,
 "nbformat_minor": 5
}
