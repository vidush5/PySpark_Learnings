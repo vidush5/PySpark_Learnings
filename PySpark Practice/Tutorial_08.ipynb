{
 "cells": [
  {
   "cell_type": "markdown",
   "id": "b2add7ac-dfc1-4a57-adce-028fb4d90772",
   "metadata": {},
   "source": [
    "## PySpark Join"
   ]
  },
  {
   "cell_type": "code",
   "execution_count": 3,
   "id": "1244e28d-e70f-45ba-9c7b-59145c56f01e",
   "metadata": {},
   "outputs": [],
   "source": [
    "import findspark\n",
    "findspark.init()"
   ]
  },
  {
   "cell_type": "code",
   "execution_count": 4,
   "id": "75c485f6-e5f2-4452-8c34-93cca8eac055",
   "metadata": {},
   "outputs": [],
   "source": [
    "import pyspark\n",
    "from pyspark.sql import SparkSession"
   ]
  },
  {
   "cell_type": "code",
   "execution_count": 5,
   "id": "f4d2df73-6164-4cb3-b7e6-640f75a2dda4",
   "metadata": {},
   "outputs": [],
   "source": [
    "spark = SparkSession.builder.appName(\"PySpark_Practice_08\").getOrCreate()"
   ]
  },
  {
   "cell_type": "code",
   "execution_count": 6,
   "id": "e502966b-adc8-41cc-9249-ff405c589cd8",
   "metadata": {
    "tags": []
   },
   "outputs": [],
   "source": [
    "from pyspark.sql.functions import current_timestamp, to_timestamp\n",
    "from pyspark.sql.functions import *\n",
    "from pyspark.sql import SparkSession\n",
    "from pyspark.sql.types import IntegerType, DateType, BooleanType"
   ]
  },
  {
   "cell_type": "code",
   "execution_count": 7,
   "id": "c29d0281-daf0-4747-832f-a476f5ebb423",
   "metadata": {},
   "outputs": [],
   "source": [
    "data = [[\"1\", \"Saroj\", \"company 1\"],\n",
    "        [\"2\", \"Nitya\", \"company 1\"],\n",
    "        [\"3\", \"Abhishek\", \"company 2\"],\n",
    "        [\"4\", \"Sandeep\", \"company 1\"],\n",
    "        [\"5\", \"Rakesh\", \"company 1\"]]"
   ]
  },
  {
   "cell_type": "code",
   "execution_count": 8,
   "id": "ca7a970c-d295-4b61-9bd5-4631cd57f55a",
   "metadata": {
    "tags": []
   },
   "outputs": [],
   "source": [
    "columns = ['ID', 'NAME', 'Company']"
   ]
  },
  {
   "cell_type": "code",
   "execution_count": 9,
   "id": "270c21cf-32f3-4e85-9bdc-5af265dc8935",
   "metadata": {
    "tags": []
   },
   "outputs": [],
   "source": [
    "df = spark.createDataFrame(data, columns)"
   ]
  },
  {
   "cell_type": "code",
   "execution_count": 10,
   "id": "9d5c6e8a-04e6-4946-8de7-b793e80f1acb",
   "metadata": {
    "tags": []
   },
   "outputs": [
    {
     "name": "stdout",
     "output_type": "stream",
     "text": [
      "+---+--------+---------+\n",
      "|ID |NAME    |Company  |\n",
      "+---+--------+---------+\n",
      "|1  |Saroj   |company 1|\n",
      "|2  |Nitya   |company 1|\n",
      "|3  |Abhishek|company 2|\n",
      "|4  |Sandeep |company 1|\n",
      "|5  |Rakesh  |company 1|\n",
      "+---+--------+---------+\n",
      "\n"
     ]
    }
   ],
   "source": [
    "df.show(truncate=False)"
   ]
  },
  {
   "cell_type": "code",
   "execution_count": 11,
   "id": "64124acb-4f99-4e76-afe6-ddabc4cf8350",
   "metadata": {
    "tags": []
   },
   "outputs": [
    {
     "name": "stdout",
     "output_type": "stream",
     "text": [
      "+---+------+----------+\n",
      "|ID |salary|department|\n",
      "+---+------+----------+\n",
      "|1  |45000 |IT        |\n",
      "|2  |145000|Manager   |\n",
      "|6  |45000 |HR        |\n",
      "|5  |34000 |Sales     |\n",
      "+---+------+----------+\n",
      "\n"
     ]
    }
   ],
   "source": [
    "data1 = [[\"1\", \"45000\", \"IT\"],\n",
    "[\"2\", \"145000\", \"Manager\"],\n",
    "[\"6\", \"45000\", \"HR\"],\n",
    "[\"5\", \"34000\", \"Sales\"]]\n",
    "columns1 = ['ID', 'salary', 'department']\n",
    "df1 = spark.createDataFrame(data1, columns1)\n",
    "df1.show(truncate=False)"
   ]
  },
  {
   "cell_type": "markdown",
   "id": "c20d8106-8821-4a5d-a6e0-cfc968e74f3f",
   "metadata": {},
   "source": [
    "# Inner Join"
   ]
  },
  {
   "cell_type": "code",
   "execution_count": 12,
   "id": "762499dd-5143-477f-867a-2f80a873348a",
   "metadata": {
    "tags": []
   },
   "outputs": [
    {
     "name": "stdout",
     "output_type": "stream",
     "text": [
      "+---+------+---------+---+------+----------+\n",
      "| ID|  NAME|  Company| ID|salary|department|\n",
      "+---+------+---------+---+------+----------+\n",
      "|  1| Saroj|company 1|  1| 45000|        IT|\n",
      "|  2| Nitya|company 1|  2|145000|   Manager|\n",
      "|  5|Rakesh|company 1|  5| 34000|     Sales|\n",
      "+---+------+---------+---+------+----------+\n",
      "\n"
     ]
    }
   ],
   "source": [
    "df.join(df1, df.ID == df1.ID, \"inner\").show()"
   ]
  },
  {
   "cell_type": "markdown",
   "id": "4407dd5a-ae8d-4643-b732-94d6d7358315",
   "metadata": {},
   "source": [
    "# Left Join"
   ]
  },
  {
   "cell_type": "code",
   "execution_count": null,
   "id": "e188ef46-40eb-4a8b-a607-8a7c59630454",
   "metadata": {
    "tags": []
   },
   "outputs": [],
   "source": [
    "df.join(df1, df.ID == df1.ID, \"left\").show()"
   ]
  },
  {
   "cell_type": "code",
   "execution_count": null,
   "id": "db9a4382-fb83-4f9e-adf3-df7fbead389b",
   "metadata": {},
   "outputs": [],
   "source": []
  }
 ],
 "metadata": {
  "kernelspec": {
   "display_name": "Python 3 (ipykernel)",
   "language": "python",
   "name": "python3"
  },
  "language_info": {
   "codemirror_mode": {
    "name": "ipython",
    "version": 3
   },
   "file_extension": ".py",
   "mimetype": "text/x-python",
   "name": "python",
   "nbconvert_exporter": "python",
   "pygments_lexer": "ipython3",
   "version": "3.9.18"
  }
 },
 "nbformat": 4,
 "nbformat_minor": 5
}
