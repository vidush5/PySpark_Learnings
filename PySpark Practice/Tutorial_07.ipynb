{
 "cells": [
  {
   "cell_type": "markdown",
   "id": "b2add7ac-dfc1-4a57-adce-028fb4d90772",
   "metadata": {},
   "source": [
    "## How to check required column is exists or not"
   ]
  },
  {
   "cell_type": "code",
   "execution_count": 1,
   "id": "1244e28d-e70f-45ba-9c7b-59145c56f01e",
   "metadata": {},
   "outputs": [],
   "source": [
    "import findspark\n",
    "findspark.init()"
   ]
  },
  {
   "cell_type": "code",
   "execution_count": 2,
   "id": "75c485f6-e5f2-4452-8c34-93cca8eac055",
   "metadata": {},
   "outputs": [],
   "source": [
    "import pyspark\n",
    "from pyspark.sql import SparkSession"
   ]
  },
  {
   "cell_type": "code",
   "execution_count": 3,
   "id": "f4d2df73-6164-4cb3-b7e6-640f75a2dda4",
   "metadata": {},
   "outputs": [],
   "source": [
    "spark = SparkSession.builder.appName(\"PySpark_Practice_07\").getOrCreate()"
   ]
  },
  {
   "cell_type": "code",
   "execution_count": 4,
   "id": "e502966b-adc8-41cc-9249-ff405c589cd8",
   "metadata": {
    "tags": []
   },
   "outputs": [],
   "source": [
    "from pyspark.sql.functions import current_timestamp, to_timestamp\n",
    "from pyspark.sql.functions import *\n",
    "from pyspark.sql import SparkSession\n",
    "from pyspark.sql.types import IntegerType, DateType, BooleanType"
   ]
  },
  {
   "cell_type": "code",
   "execution_count": 5,
   "id": "0394288e-bf00-46cb-8097-2d01ff98929c",
   "metadata": {},
   "outputs": [],
   "source": [
    "datacolumn = ['empid', 'empname']\n",
    "\n",
    "data = [(10, 'Krishna'), (20, 'mahesh'), (30, 'Rakesh')]"
   ]
  },
  {
   "cell_type": "code",
   "execution_count": 6,
   "id": "e49fbb10-2555-4ddc-8464-c7842aba6ffa",
   "metadata": {
    "tags": []
   },
   "outputs": [],
   "source": [
    "df = spark.createDataFrame(data=data, schema=datacolumn)"
   ]
  },
  {
   "cell_type": "code",
   "execution_count": 7,
   "id": "5082426f-c1b0-4379-a807-836f4d4cedbc",
   "metadata": {
    "tags": []
   },
   "outputs": [
    {
     "name": "stdout",
     "output_type": "stream",
     "text": [
      "+-----+-------+\n",
      "|empid|empname|\n",
      "+-----+-------+\n",
      "|10   |Krishna|\n",
      "|20   |mahesh |\n",
      "|30   |Rakesh |\n",
      "+-----+-------+\n",
      "\n"
     ]
    }
   ],
   "source": [
    "df.show(truncate=False)"
   ]
  },
  {
   "cell_type": "code",
   "execution_count": 8,
   "id": "e0fb83b2-f1e0-4544-a6cc-fae07d23aad5",
   "metadata": {
    "tags": []
   },
   "outputs": [
    {
     "data": {
      "text/plain": [
       "['empid', 'empname']"
      ]
     },
     "execution_count": 8,
     "metadata": {},
     "output_type": "execute_result"
    }
   ],
   "source": [
    "df.schema.fieldNames()"
   ]
  },
  {
   "cell_type": "code",
   "execution_count": 9,
   "id": "68c75528-1560-4fe4-a47a-1c72ffc11a9e",
   "metadata": {
    "tags": []
   },
   "outputs": [
    {
     "name": "stdout",
     "output_type": "stream",
     "text": [
      "empid exists in the dataframe\n"
     ]
    }
   ],
   "source": [
    "columns = df.schema.fieldNames()\n",
    "if columns.count('empid')>0:\n",
    "    print('empid exists in the dataframe')\n",
    "else:\n",
    "    print('not exists')"
   ]
  },
  {
   "cell_type": "code",
   "execution_count": null,
   "id": "c29d0281-daf0-4747-832f-a476f5ebb423",
   "metadata": {},
   "outputs": [],
   "source": []
  }
 ],
 "metadata": {
  "kernelspec": {
   "display_name": "Python 3 (ipykernel)",
   "language": "python",
   "name": "python3"
  },
  "language_info": {
   "codemirror_mode": {
    "name": "ipython",
    "version": 3
   },
   "file_extension": ".py",
   "mimetype": "text/x-python",
   "name": "python",
   "nbconvert_exporter": "python",
   "pygments_lexer": "ipython3",
   "version": "3.9.18"
  }
 },
 "nbformat": 4,
 "nbformat_minor": 5
}
