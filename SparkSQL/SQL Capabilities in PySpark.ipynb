{
 "cells": [
  {
   "cell_type": "code",
   "execution_count": 1,
   "id": "4e4056d9-8d9e-434b-a857-1bcb144e90be",
   "metadata": {
    "tags": []
   },
   "outputs": [],
   "source": [
    "import findspark\n",
    "findspark.init()"
   ]
  },
  {
   "cell_type": "code",
   "execution_count": 2,
   "id": "a02fa39c-12a5-49ea-a03f-bdc827281a10",
   "metadata": {
    "tags": []
   },
   "outputs": [],
   "source": [
    "import pyspark\n",
    "from pyspark.sql import SparkSession"
   ]
  },
  {
   "cell_type": "code",
   "execution_count": 3,
   "id": "cbefa900-8d86-4053-90a8-0ca199cee988",
   "metadata": {
    "tags": []
   },
   "outputs": [],
   "source": [
    "from pyspark.sql.types import StructType, StructField, StringType, IntegerType"
   ]
  },
  {
   "cell_type": "code",
   "execution_count": 4,
   "id": "942208dc-bf63-41f4-a644-cc55b78edf07",
   "metadata": {
    "tags": []
   },
   "outputs": [],
   "source": [
    "# Initialize SparkSession\n",
    "spark = SparkSession.builder.appName(\"SparkSQL\").getOrCreate()"
   ]
  },
  {
   "cell_type": "code",
   "execution_count": 5,
   "id": "820bf09a-7fa3-44d0-a76e-6a7a29140413",
   "metadata": {
    "tags": []
   },
   "outputs": [],
   "source": [
    "# Create Scehama for employee DataFrame\n",
    "employee_schema = StructType([\\\n",
    "    StructField(\"employee_id\", IntegerType(), True),\\\n",
    "    StructField(\"name\", StringType(), True),\\\n",
    "    StructField(\"age\", IntegerType(), True),\\\n",
    "    StructField(\"department_id\", IntegerType(), True),\\\n",
    "    StructField(\"salary\", IntegerType(), True)])"
   ]
  },
  {
   "cell_type": "code",
   "execution_count": 6,
   "id": "a601d23c-b952-40d7-9314-8c32172edde5",
   "metadata": {
    "tags": []
   },
   "outputs": [],
   "source": [
    "# Create Scehema for department DataFrame\n",
    "department_schema = StructType([\\\n",
    "    StructField(\"department_id\", IntegerType(), True),\\\n",
    "    StructField(\"department_name\", StringType(), True),\\\n",
    "    StructField(\"location\", StringType(), True)\n",
    "])"
   ]
  },
  {
   "cell_type": "code",
   "execution_count": 7,
   "id": "7d9ef4ba-1751-48dd-bf9e-8e8439d11f3c",
   "metadata": {
    "tags": []
   },
   "outputs": [],
   "source": [
    "# Sample data for employees\n",
    "employee_data = [\n",
    "    (1, \"John\", 35, 101, 60000),\n",
    "    (2, \"Alice\", 28, 102, 55000),\n",
    "    (3, \"Bob\", 40, 101, 62000),\n",
    "    (4, \"Mary\", 32, 103, 58000),\n",
    "    (5, \"David\", 29, 102, 56000),\n",
    "    (6, \"Michael\", 45, 101, 65000),\n",
    "    (7, \"Emily\", 31, 103, 59000),\n",
    "    (8, \"Daniel\", 33, 102, 57000),\n",
    "    (9, \"Sarah\", 36, 101, 61000),\n",
    "    (10, \"James\", 27, 103, 57000),\n",
    "    (11, \"Emma\", 29, 102, 59000),\n",
    "    (12, \"Ryan\", 38, 101, 63000),\n",
    "    (13, \"Sophia\", 34, 103, 60000),\n",
    "    (14, \"Matthew\", 31, 102, 58000),\n",
    "    (15, \"Olivia\", 39, 101, 64000),\n",
    "    (16, \"William\", 26, 105, 55000),\n",
    "    (17, \"Ava\", 30, 102, 60000),\n",
    "    (18, \"Alexander\", 37, 101, 62000),\n",
    "    (19, \"Isabella\", 32, 103, 57000),\n",
    "    (20, \"Ethan\", 28, 105, 56000),\n",
    "    (21, \"Mia\", 41, 101, 65000),\n",
    "    (22, \"Michael\", 33, 103, 59000),\n",
    "    (23, \"Charlotte\", 35, 102, 58000),\n",
    "    (24, \"Daniel\", 29, 104, 60000),\n",
    "    (25, \"Sophia\", 31, 103, 59000),\n",
    "    (26, \"Lucas\", 37, 104, 61000),\n",
    "    (27, \"Amelia\", 30, 101, 63000),\n",
    "    (28, \"Benjamin\", 39, 103, 60000),\n",
    "    (29, \"Evelyn\", 33, 102, 57000),\n",
    "    (30, \"Logan\", 28, 105, 59000),\n",
    "]"
   ]
  },
  {
   "cell_type": "code",
   "execution_count": 8,
   "id": "33bdec58-4c40-4dee-a459-eb26c8243c9a",
   "metadata": {
    "tags": []
   },
   "outputs": [],
   "source": [
    "# Sample data for departments\n",
    "department_data = [\n",
    "    (101, \"Engineering\", \"New York\"),\n",
    "    (102, \"Marketing\", \"Los Angeles\"),\n",
    "    (103, \"Finance\", \"Chicago\"),\n",
    "    (104, \"Human Resources\", \"Houston\"),\n",
    "    (105, \"Sales\", \"San Francisco\"),\n",
    "]"
   ]
  },
  {
   "cell_type": "code",
   "execution_count": 9,
   "id": "d293814f-0ab4-4f78-9286-84731970fc73",
   "metadata": {
    "tags": []
   },
   "outputs": [],
   "source": [
    "# Create DataFrame\n",
    "employee_df = spark.createDataFrame(employee_data, employee_schema)\n",
    "department_df = spark.createDataFrame(department_data, department_schema)"
   ]
  },
  {
   "cell_type": "code",
   "execution_count": 10,
   "id": "a887fd3f-de8c-470f-b3a3-d874a47f336a",
   "metadata": {
    "tags": []
   },
   "outputs": [],
   "source": [
    "# Register DataFrames as temporary views\n",
    "employee_df.createOrReplaceTempView(\"employees\")\n",
    "department_df.createOrReplaceTempView(\"departments\")"
   ]
  },
  {
   "cell_type": "markdown",
   "id": "6e91ca35-c633-46d5-9ae1-c2673afddcba",
   "metadata": {},
   "source": [
    "## Performing SQL Operations"
   ]
  },
  {
   "cell_type": "markdown",
   "id": "63969aa5-c33d-4c85-92da-0c588515e68c",
   "metadata": {},
   "source": [
    "### 01. Selecting all Employees"
   ]
  },
  {
   "cell_type": "code",
   "execution_count": 11,
   "id": "89c02199-437e-41e8-a90b-9800ec3b27dc",
   "metadata": {
    "tags": []
   },
   "outputs": [
    {
     "name": "stdout",
     "output_type": "stream",
     "text": [
      "+-----------+---------+---+-------------+------+\n",
      "|employee_id|     name|age|department_id|salary|\n",
      "+-----------+---------+---+-------------+------+\n",
      "|          1|     John| 35|          101| 60000|\n",
      "|          2|    Alice| 28|          102| 55000|\n",
      "|          3|      Bob| 40|          101| 62000|\n",
      "|          4|     Mary| 32|          103| 58000|\n",
      "|          5|    David| 29|          102| 56000|\n",
      "|          6|  Michael| 45|          101| 65000|\n",
      "|          7|    Emily| 31|          103| 59000|\n",
      "|          8|   Daniel| 33|          102| 57000|\n",
      "|          9|    Sarah| 36|          101| 61000|\n",
      "|         10|    James| 27|          103| 57000|\n",
      "|         11|     Emma| 29|          102| 59000|\n",
      "|         12|     Ryan| 38|          101| 63000|\n",
      "|         13|   Sophia| 34|          103| 60000|\n",
      "|         14|  Matthew| 31|          102| 58000|\n",
      "|         15|   Olivia| 39|          101| 64000|\n",
      "|         16|  William| 26|          105| 55000|\n",
      "|         17|      Ava| 30|          102| 60000|\n",
      "|         18|Alexander| 37|          101| 62000|\n",
      "|         19| Isabella| 32|          103| 57000|\n",
      "|         20|    Ethan| 28|          105| 56000|\n",
      "+-----------+---------+---+-------------+------+\n",
      "only showing top 20 rows\n",
      "\n"
     ]
    }
   ],
   "source": [
    "all_employees = spark.sql(\"SELECT * FROM employees\")\n",
    "all_employees.show()"
   ]
  },
  {
   "cell_type": "markdown",
   "id": "38bb8a01-1f84-466f-ac9d-42e0414c6585",
   "metadata": {},
   "source": [
    "### 02. Filter employees by age"
   ]
  },
  {
   "cell_type": "code",
   "execution_count": 12,
   "id": "d7af759e-c1da-47a0-97c0-757a410fc99f",
   "metadata": {
    "tags": []
   },
   "outputs": [
    {
     "name": "stdout",
     "output_type": "stream",
     "text": [
      "+-----------+---------+---+-------------+------+\n",
      "|employee_id|     name|age|department_id|salary|\n",
      "+-----------+---------+---+-------------+------+\n",
      "|          1|     John| 35|          101| 60000|\n",
      "|          3|      Bob| 40|          101| 62000|\n",
      "|          4|     Mary| 32|          103| 58000|\n",
      "|          6|  Michael| 45|          101| 65000|\n",
      "|          7|    Emily| 31|          103| 59000|\n",
      "|          8|   Daniel| 33|          102| 57000|\n",
      "|          9|    Sarah| 36|          101| 61000|\n",
      "|         12|     Ryan| 38|          101| 63000|\n",
      "|         13|   Sophia| 34|          103| 60000|\n",
      "|         14|  Matthew| 31|          102| 58000|\n",
      "|         15|   Olivia| 39|          101| 64000|\n",
      "|         18|Alexander| 37|          101| 62000|\n",
      "|         19| Isabella| 32|          103| 57000|\n",
      "|         21|      Mia| 41|          101| 65000|\n",
      "|         22|  Michael| 33|          103| 59000|\n",
      "|         23|Charlotte| 35|          102| 58000|\n",
      "|         25|   Sophia| 31|          103| 59000|\n",
      "|         26|    Lucas| 37|          104| 61000|\n",
      "|         28| Benjamin| 39|          103| 60000|\n",
      "|         29|   Evelyn| 33|          102| 57000|\n",
      "+-----------+---------+---+-------------+------+\n",
      "\n"
     ]
    }
   ],
   "source": [
    "senior_employees = spark.sql(\"SELECT * FROM employees WHERE age>30\")\n",
    "senior_employees.show()"
   ]
  },
  {
   "cell_type": "markdown",
   "id": "62501469-f4b6-4b59-bdcf-8a2900c2dbc7",
   "metadata": {},
   "source": [
    "### 03. Group employees by department & calculate average salary"
   ]
  },
  {
   "cell_type": "code",
   "execution_count": 14,
   "id": "2e621f56-2362-4d4f-a157-127e71f7660d",
   "metadata": {
    "tags": []
   },
   "outputs": [
    {
     "name": "stdout",
     "output_type": "stream",
     "text": [
      "+-------------+------------------+\n",
      "|department_id|        avg_salary|\n",
      "+-------------+------------------+\n",
      "|          101| 62777.77777777778|\n",
      "|          102|           57500.0|\n",
      "|          103|           58625.0|\n",
      "|          105|56666.666666666664|\n",
      "|          104|           60500.0|\n",
      "+-------------+------------------+\n",
      "\n"
     ]
    }
   ],
   "source": [
    "avg_salary_by_department = spark.sql(\"\"\"\n",
    "    SELECT department_id, AVG(salary) as avg_salary\n",
    "    FROM employees\n",
    "    GROUP BY department_id\n",
    "\"\"\")\n",
    "\n",
    "avg_salary_by_department.show()"
   ]
  },
  {
   "cell_type": "markdown",
   "id": "403b620c-d720-4b33-9396-3a845ede1303",
   "metadata": {},
   "source": [
    "### 04. Join employees & departments"
   ]
  },
  {
   "cell_type": "code",
   "execution_count": 15,
   "id": "b209d463-829a-4020-9ee9-e57ef6643257",
   "metadata": {
    "tags": []
   },
   "outputs": [
    {
     "name": "stdout",
     "output_type": "stream",
     "text": [
      "+-----------+---------+---+-------------+------+---------------+\n",
      "|employee_id|     name|age|department_id|salary|department_name|\n",
      "+-----------+---------+---+-------------+------+---------------+\n",
      "|          1|     John| 35|          101| 60000|    Engineering|\n",
      "|          3|      Bob| 40|          101| 62000|    Engineering|\n",
      "|          6|  Michael| 45|          101| 65000|    Engineering|\n",
      "|          9|    Sarah| 36|          101| 61000|    Engineering|\n",
      "|         12|     Ryan| 38|          101| 63000|    Engineering|\n",
      "|         15|   Olivia| 39|          101| 64000|    Engineering|\n",
      "|         18|Alexander| 37|          101| 62000|    Engineering|\n",
      "|         21|      Mia| 41|          101| 65000|    Engineering|\n",
      "|         27|   Amelia| 30|          101| 63000|    Engineering|\n",
      "|          2|    Alice| 28|          102| 55000|      Marketing|\n",
      "|          5|    David| 29|          102| 56000|      Marketing|\n",
      "|          8|   Daniel| 33|          102| 57000|      Marketing|\n",
      "|         11|     Emma| 29|          102| 59000|      Marketing|\n",
      "|         14|  Matthew| 31|          102| 58000|      Marketing|\n",
      "|         17|      Ava| 30|          102| 60000|      Marketing|\n",
      "|         23|Charlotte| 35|          102| 58000|      Marketing|\n",
      "|         29|   Evelyn| 33|          102| 57000|      Marketing|\n",
      "|          4|     Mary| 32|          103| 58000|        Finance|\n",
      "|          7|    Emily| 31|          103| 59000|        Finance|\n",
      "|         10|    James| 27|          103| 57000|        Finance|\n",
      "+-----------+---------+---+-------------+------+---------------+\n",
      "only showing top 20 rows\n",
      "\n"
     ]
    }
   ],
   "source": [
    "employee_department_join = spark.sql(\"\"\"\n",
    "    SELECT e.*, d.department_name\n",
    "    FROM employees e\n",
    "    INNER JOIN departments d\n",
    "    on e.department_id = d.department_id\n",
    "\"\"\")\n",
    "\n",
    "employee_department_join.show()"
   ]
  },
  {
   "cell_type": "markdown",
   "id": "c17d2a9e-504b-4b38-ac38-b390cf39c3a0",
   "metadata": {},
   "source": [
    "### 05. Count employees in each department"
   ]
  },
  {
   "cell_type": "code",
   "execution_count": 16,
   "id": "92f3a1db-e0e7-4626-b869-f535fe1c69dc",
   "metadata": {
    "tags": []
   },
   "outputs": [
    {
     "name": "stdout",
     "output_type": "stream",
     "text": [
      "+-------------+--------+\n",
      "|department_id|count(1)|\n",
      "+-------------+--------+\n",
      "|          101|       9|\n",
      "|          102|       8|\n",
      "|          103|       8|\n",
      "|          105|       3|\n",
      "|          104|       2|\n",
      "+-------------+--------+\n",
      "\n"
     ]
    }
   ],
   "source": [
    "employee_count_by_department = spark.sql(\"\"\"\n",
    "    SELECT department_id, COUNT(*)\n",
    "    FROM employees\n",
    "    GROUP BY department_id\n",
    "\"\"\")\n",
    "\n",
    "employee_count_by_department.show()"
   ]
  },
  {
   "cell_type": "markdown",
   "id": "0e746db4-e70c-47f1-b683-23da9bdc764b",
   "metadata": {},
   "source": [
    "### 06. Median"
   ]
  },
  {
   "cell_type": "code",
   "execution_count": 21,
   "id": "9e30e7b2-0906-44e0-9ee7-4fcbf94c9eee",
   "metadata": {
    "tags": []
   },
   "outputs": [
    {
     "name": "stdout",
     "output_type": "stream",
     "text": [
      "+-------------+---------------+-------------+\n",
      "|department_id|department_name|median_salary|\n",
      "+-------------+---------------+-------------+\n",
      "|          101|    Engineering|        63000|\n",
      "|          102|      Marketing|        57000|\n",
      "|          103|        Finance|        59000|\n",
      "|          104|Human Resources|        60000|\n",
      "|          105|          Sales|        56000|\n",
      "+-------------+---------------+-------------+\n",
      "\n"
     ]
    }
   ],
   "source": [
    "# Calculate the median salary for each department\n",
    "from pyspark.sql.functions import expr\n",
    "\n",
    "median_salary_by_department = spark.sql(\"\"\"\n",
    "    SELECT e.department_id, d.department_name,\n",
    "           percentile_approx(salary, 0.5) AS median_salary\n",
    "    FROM employees e\n",
    "    INNER JOIN departments d\n",
    "    ON e.department_id = d.department_id\n",
    "    GROUP BY e.department_id, d.department_name\n",
    "\"\"\")\n",
    "median_salary_by_department.show()"
   ]
  },
  {
   "cell_type": "markdown",
   "id": "9731dc49-0df6-4631-942f-971067424231",
   "metadata": {},
   "source": [
    "### 07. Highest Salary of Each Department"
   ]
  },
  {
   "cell_type": "code",
   "execution_count": 23,
   "id": "7ae6805e-8a3f-45b0-9cfe-9bacd4f4b7e3",
   "metadata": {
    "tags": []
   },
   "outputs": [
    {
     "name": "stdout",
     "output_type": "stream",
     "text": [
      "+-----------+---------+---+-------------+------+---------------+--------------+\n",
      "|employee_id|     name|age|department_id|salary|department_name|highest_salary|\n",
      "+-----------+---------+---+-------------+------+---------------+--------------+\n",
      "|          1|     John| 35|          101| 60000|    Engineering|         65000|\n",
      "|          3|      Bob| 40|          101| 62000|    Engineering|         65000|\n",
      "|          6|  Michael| 45|          101| 65000|    Engineering|         65000|\n",
      "|          9|    Sarah| 36|          101| 61000|    Engineering|         65000|\n",
      "|         12|     Ryan| 38|          101| 63000|    Engineering|         65000|\n",
      "|         15|   Olivia| 39|          101| 64000|    Engineering|         65000|\n",
      "|         18|Alexander| 37|          101| 62000|    Engineering|         65000|\n",
      "|         21|      Mia| 41|          101| 65000|    Engineering|         65000|\n",
      "|         27|   Amelia| 30|          101| 63000|    Engineering|         65000|\n",
      "|          4|     Mary| 32|          103| 58000|        Finance|         60000|\n",
      "|          7|    Emily| 31|          103| 59000|        Finance|         60000|\n",
      "|         10|    James| 27|          103| 57000|        Finance|         60000|\n",
      "|         13|   Sophia| 34|          103| 60000|        Finance|         60000|\n",
      "|         19| Isabella| 32|          103| 57000|        Finance|         60000|\n",
      "|         22|  Michael| 33|          103| 59000|        Finance|         60000|\n",
      "|         25|   Sophia| 31|          103| 59000|        Finance|         60000|\n",
      "|         28| Benjamin| 39|          103| 60000|        Finance|         60000|\n",
      "|         24|   Daniel| 29|          104| 60000|Human Resources|         61000|\n",
      "|         26|    Lucas| 37|          104| 61000|Human Resources|         61000|\n",
      "|          2|    Alice| 28|          102| 55000|      Marketing|         60000|\n",
      "+-----------+---------+---+-------------+------+---------------+--------------+\n",
      "only showing top 20 rows\n",
      "\n"
     ]
    }
   ],
   "source": [
    "highest_salary = spark.sql(\"\"\"\n",
    "    SELECT e.*, d.department_name,\n",
    "    MAX(e.salary) OVER (PARTITION BY department_name) AS highest_salary\n",
    "    FROM employees e\n",
    "    INNER JOIN departments d\n",
    "    on e.department_id = d.department_id\n",
    "\"\"\")\n",
    "\n",
    "highest_salary.show()"
   ]
  },
  {
   "cell_type": "code",
   "execution_count": null,
   "id": "b514c5fe-f73b-4f4f-9292-23ba0d97d82e",
   "metadata": {},
   "outputs": [],
   "source": []
  }
 ],
 "metadata": {
  "kernelspec": {
   "display_name": "Python 3 (ipykernel)",
   "language": "python",
   "name": "python3"
  },
  "language_info": {
   "codemirror_mode": {
    "name": "ipython",
    "version": 3
   },
   "file_extension": ".py",
   "mimetype": "text/x-python",
   "name": "python",
   "nbconvert_exporter": "python",
   "pygments_lexer": "ipython3",
   "version": "3.9.18"
  }
 },
 "nbformat": 4,
 "nbformat_minor": 5
}
