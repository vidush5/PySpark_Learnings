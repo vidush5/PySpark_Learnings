{
 "cells": [
  {
   "cell_type": "code",
   "execution_count": 11,
   "id": "1ad64cf9-59ee-4c33-8bf1-069da6eb4b5d",
   "metadata": {
    "tags": []
   },
   "outputs": [],
   "source": [
    "import findspark\n",
    "findspark.init()\n",
    "\n",
    "import pyspark\n",
    "from pyspark.sql import SparkSession\n",
    "from pyspark.sql.types import StringType, StructField, StructType, IntegerType, ArrayType\n",
    "from pyspark.sql.functions import col, lit, array, explode, map_keys, map_values\n",
    "from pyspark.sql import Row\n",
    "\n",
    "spark = SparkSession.builder.appName(\"show\").getOrCreate()"
   ]
  },
  {
   "cell_type": "code",
   "execution_count": 12,
   "id": "72defd13-b5c0-4633-8cf9-6af8235304cf",
   "metadata": {},
   "outputs": [],
   "source": [
    "col1 = lit('abcd')"
   ]
  },
  {
   "cell_type": "code",
   "execution_count": 13,
   "id": "f8680032-f776-45e7-a341-79ab1b413268",
   "metadata": {
    "tags": []
   },
   "outputs": [
    {
     "data": {
      "text/plain": [
       "pyspark.sql.column.Column"
      ]
     },
     "execution_count": 13,
     "metadata": {},
     "output_type": "execute_result"
    }
   ],
   "source": [
    "type(col1)"
   ]
  },
  {
   "cell_type": "code",
   "execution_count": 14,
   "id": "05fa4acd-7fbf-4f3a-bf89-04199ec10972",
   "metadata": {
    "tags": []
   },
   "outputs": [
    {
     "name": "stdout",
     "output_type": "stream",
     "text": [
      "+------+------+------+\n",
      "|  name|gender|salary|\n",
      "+------+------+------+\n",
      "|maheer|  male|  2000|\n",
      "|  wafa|  male|  4000|\n",
      "+------+------+------+\n",
      "\n",
      "root\n",
      " |-- name: string (nullable = true)\n",
      " |-- gender: string (nullable = true)\n",
      " |-- salary: long (nullable = true)\n",
      "\n"
     ]
    }
   ],
   "source": [
    "data = [('maheer', 'male', 2000), ('wafa', 'male',4000)]\n",
    "schema = ['name', 'gender', 'salary']\n",
    "\n",
    "df = spark.createDataFrame(data, schema)\n",
    "\n",
    "df.show()\n",
    "\n",
    "df.printSchema()"
   ]
  },
  {
   "cell_type": "code",
   "execution_count": 15,
   "id": "4703f82f-1af3-4280-a2ce-ee0ad1e21785",
   "metadata": {
    "tags": []
   },
   "outputs": [
    {
     "name": "stdout",
     "output_type": "stream",
     "text": [
      "+------+------+------+------+\n",
      "|  name|gender|salary|newCol|\n",
      "+------+------+------+------+\n",
      "|maheer|  male|  2000|newCol|\n",
      "|  wafa|  male|  4000|newCol|\n",
      "+------+------+------+------+\n",
      "\n",
      "root\n",
      " |-- name: string (nullable = true)\n",
      " |-- gender: string (nullable = true)\n",
      " |-- salary: long (nullable = true)\n",
      " |-- newCol: string (nullable = false)\n",
      "\n"
     ]
    }
   ],
   "source": [
    "df1 = df.withColumn('newCol', lit('newCol'))\n",
    "\n",
    "df1.show()\n",
    "df1.printSchema()"
   ]
  },
  {
   "cell_type": "code",
   "execution_count": 16,
   "id": "8f64c441-4e26-4620-9594-16b42c5bc6e4",
   "metadata": {
    "tags": []
   },
   "outputs": [
    {
     "name": "stdout",
     "output_type": "stream",
     "text": [
      "+------+\n",
      "|gender|\n",
      "+------+\n",
      "|  male|\n",
      "|  male|\n",
      "+------+\n",
      "\n"
     ]
    }
   ],
   "source": [
    "df.select(df.gender).show()"
   ]
  },
  {
   "cell_type": "code",
   "execution_count": 17,
   "id": "2374ea32-c625-4a8a-8b46-dabdf6f07c05",
   "metadata": {
    "tags": []
   },
   "outputs": [
    {
     "name": "stdout",
     "output_type": "stream",
     "text": [
      "+------+\n",
      "|gender|\n",
      "+------+\n",
      "|  male|\n",
      "|  male|\n",
      "+------+\n",
      "\n"
     ]
    }
   ],
   "source": [
    "df.select(df['gender']).show()"
   ]
  },
  {
   "cell_type": "code",
   "execution_count": 19,
   "id": "ddfb0107-a990-4510-a405-bc08e56c0334",
   "metadata": {
    "tags": []
   },
   "outputs": [
    {
     "name": "stdout",
     "output_type": "stream",
     "text": [
      "+------+\n",
      "|gender|\n",
      "+------+\n",
      "|  male|\n",
      "|  male|\n",
      "+------+\n",
      "\n"
     ]
    }
   ],
   "source": [
    "df.select(col('gender')).show()"
   ]
  },
  {
   "cell_type": "code",
   "execution_count": 27,
   "id": "3862e45c-d9e2-42e2-91e2-719e64375e0c",
   "metadata": {
    "tags": []
   },
   "outputs": [
    {
     "name": "stdout",
     "output_type": "stream",
     "text": [
      "+------+------+------+--------------+\n",
      "|  name|gender|salary|         props|\n",
      "+------+------+------+--------------+\n",
      "|maheer|  male|  2000|{black, brown}|\n",
      "|  wafa|  male|  4000|{black, brown}|\n",
      "+------+------+------+--------------+\n",
      "\n",
      "root\n",
      " |-- name: string (nullable = true)\n",
      " |-- gender: string (nullable = true)\n",
      " |-- salary: integer (nullable = true)\n",
      " |-- props: struct (nullable = true)\n",
      " |    |-- hair: string (nullable = true)\n",
      " |    |-- eye: string (nullable = true)\n",
      "\n"
     ]
    }
   ],
   "source": [
    "data2 = [('maheer', 'male', 2000, ('black', 'brown')), \n",
    "         ('wafa', 'male',4000, ('black', 'brown'))]\n",
    "\n",
    "propsType = StructType([StructField('hair', StringType()),\n",
    "                       StructField('eye', StringType())])\n",
    "\n",
    "schema2 = StructType([StructField(\"name\", StringType()),StructField(\"gender\", StringType()),StructField(\"salary\", IntegerType()),StructField(\"props\", propsType)])\n",
    "\n",
    "dfx = spark.createDataFrame(data2, schema2)\n",
    "\n",
    "dfx.show()\n",
    "\n",
    "dfx.printSchema()"
   ]
  },
  {
   "cell_type": "code",
   "execution_count": 28,
   "id": "64cf4aad-0c5d-49d8-8f86-16e75a64d657",
   "metadata": {
    "tags": []
   },
   "outputs": [
    {
     "name": "stdout",
     "output_type": "stream",
     "text": [
      "+---------+\n",
      "|props.eye|\n",
      "+---------+\n",
      "|    brown|\n",
      "|    brown|\n",
      "+---------+\n",
      "\n"
     ]
    }
   ],
   "source": [
    "dfx.select(dfx.props.eye).show()"
   ]
  },
  {
   "cell_type": "code",
   "execution_count": null,
   "id": "e4d5c28a-e333-4aa5-b48a-7762d98017d8",
   "metadata": {},
   "outputs": [],
   "source": []
  }
 ],
 "metadata": {
  "kernelspec": {
   "display_name": "Python 3 (ipykernel)",
   "language": "python",
   "name": "python3"
  },
  "language_info": {
   "codemirror_mode": {
    "name": "ipython",
    "version": 3
   },
   "file_extension": ".py",
   "mimetype": "text/x-python",
   "name": "python",
   "nbconvert_exporter": "python",
   "pygments_lexer": "ipython3",
   "version": "3.9.18"
  }
 },
 "nbformat": 4,
 "nbformat_minor": 5
}
