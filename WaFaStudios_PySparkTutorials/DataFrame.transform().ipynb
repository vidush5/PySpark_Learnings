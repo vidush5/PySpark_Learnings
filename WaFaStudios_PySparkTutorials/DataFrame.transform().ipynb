{
 "cells": [
  {
   "cell_type": "code",
   "execution_count": 1,
   "id": "1ad64cf9-59ee-4c33-8bf1-069da6eb4b5d",
   "metadata": {
    "tags": []
   },
   "outputs": [],
   "source": [
    "import findspark\n",
    "findspark.init()\n",
    "\n",
    "import pyspark\n",
    "from pyspark.sql import SparkSession\n",
    "from pyspark.sql.types import StringType, StructField, StructType, IntegerType, ArrayType\n",
    "from pyspark.sql.functions import col, lit, array, explode, map_keys, map_values\n",
    "from pyspark.sql import Row\n",
    "\n",
    "spark = SparkSession.builder.appName(\"show\").getOrCreate()"
   ]
  },
  {
   "cell_type": "code",
   "execution_count": 2,
   "id": "e4d5c28a-e333-4aa5-b48a-7762d98017d8",
   "metadata": {},
   "outputs": [],
   "source": [
    "from pyspark.sql.functions import when"
   ]
  },
  {
   "cell_type": "code",
   "execution_count": 3,
   "id": "e1f364e5-398b-44e5-9688-c5e4251312ae",
   "metadata": {},
   "outputs": [
    {
     "name": "stdout",
     "output_type": "stream",
     "text": [
      "+---+------+------+\n",
      "| id|  name|salary|\n",
      "+---+------+------+\n",
      "|  1|Maheer|  2000|\n",
      "|  2|  wafa|  3000|\n",
      "+---+------+------+\n",
      "\n"
     ]
    }
   ],
   "source": [
    "data = [(1, 'Maheer', 2000),\n",
    "       (2, 'wafa', 3000)]\n",
    "\n",
    "schema = ['id', 'name', 'salary']\n",
    "\n",
    "df = spark.createDataFrame(data, schema)\n",
    "\n",
    "df.show()"
   ]
  },
  {
   "cell_type": "code",
   "execution_count": 4,
   "id": "a1188a13-58d2-4903-96de-894c53c76c2f",
   "metadata": {},
   "outputs": [],
   "source": [
    "from pyspark.sql.functions import upper"
   ]
  },
  {
   "cell_type": "code",
   "execution_count": 5,
   "id": "3e967f03-dc62-4aac-b1d0-11445264cf78",
   "metadata": {
    "tags": []
   },
   "outputs": [],
   "source": [
    "def convertToUpper(df):\n",
    "    return df.withColumn('name', upper(df.name))\n",
    "\n",
    "def doubleTheSalary(df):\n",
    "    return df.withColumn('salary', df.salary * 2)"
   ]
  },
  {
   "cell_type": "code",
   "execution_count": 6,
   "id": "fe9eb343-e9be-4023-b74a-5d80acf61cb5",
   "metadata": {
    "tags": []
   },
   "outputs": [
    {
     "name": "stdout",
     "output_type": "stream",
     "text": [
      "+---+------+------+\n",
      "| id|  name|salary|\n",
      "+---+------+------+\n",
      "|  1|MAHEER|  4000|\n",
      "|  2|  WAFA|  6000|\n",
      "+---+------+------+\n",
      "\n"
     ]
    }
   ],
   "source": [
    "df1 = df.transform(convertToUpper)\\\n",
    "        .transform(doubleTheSalary)\n",
    "\n",
    "df1.show()"
   ]
  },
  {
   "cell_type": "code",
   "execution_count": null,
   "id": "e7784604-9896-4269-b64d-f41102731d51",
   "metadata": {},
   "outputs": [],
   "source": []
  }
 ],
 "metadata": {
  "kernelspec": {
   "display_name": "Python 3 (ipykernel)",
   "language": "python",
   "name": "python3"
  },
  "language_info": {
   "codemirror_mode": {
    "name": "ipython",
    "version": 3
   },
   "file_extension": ".py",
   "mimetype": "text/x-python",
   "name": "python",
   "nbconvert_exporter": "python",
   "pygments_lexer": "ipython3",
   "version": "3.9.18"
  }
 },
 "nbformat": 4,
 "nbformat_minor": 5
}
