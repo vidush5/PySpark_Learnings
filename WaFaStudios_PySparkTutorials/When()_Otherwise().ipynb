{
 "cells": [
  {
   "cell_type": "code",
   "execution_count": 1,
   "id": "1ad64cf9-59ee-4c33-8bf1-069da6eb4b5d",
   "metadata": {
    "tags": []
   },
   "outputs": [],
   "source": [
    "import findspark\n",
    "findspark.init()\n",
    "\n",
    "import pyspark\n",
    "from pyspark.sql import SparkSession\n",
    "from pyspark.sql.types import StringType, StructField, StructType, IntegerType, ArrayType\n",
    "from pyspark.sql.functions import col, lit, array, explode, map_keys, map_values\n",
    "from pyspark.sql import Row\n",
    "\n",
    "spark = SparkSession.builder.appName(\"show\").getOrCreate()"
   ]
  },
  {
   "cell_type": "code",
   "execution_count": 2,
   "id": "e4d5c28a-e333-4aa5-b48a-7762d98017d8",
   "metadata": {},
   "outputs": [],
   "source": [
    "from pyspark.sql.functions import when"
   ]
  },
  {
   "cell_type": "code",
   "execution_count": 3,
   "id": "3935b395-4949-4006-9b7a-9adf660e4839",
   "metadata": {
    "tags": []
   },
   "outputs": [
    {
     "name": "stdout",
     "output_type": "stream",
     "text": [
      "+---+------+------+------+\n",
      "| id|  name|gender|salary|\n",
      "+---+------+------+------+\n",
      "|  1|maheer|     M|  2000|\n",
      "|  2|  Asif|     F|  3000|\n",
      "|  3|  abcd|      |  2000|\n",
      "+---+------+------+------+\n",
      "\n"
     ]
    }
   ],
   "source": [
    "data = [(1, 'maheer', 'M', 2000),\n",
    "       (2, 'Asif', 'F', 3000),\n",
    "       (3, 'abcd', '', 2000)]\n",
    "\n",
    "schema = [\"id\", \"name\", \"gender\", \"salary\"]\n",
    "\n",
    "df = spark.createDataFrame(data, schema)\n",
    "\n",
    "df.show()"
   ]
  },
  {
   "cell_type": "code",
   "execution_count": 4,
   "id": "0d28605c-6de2-4ab5-a149-55f40d909fdc",
   "metadata": {
    "tags": []
   },
   "outputs": [
    {
     "name": "stdout",
     "output_type": "stream",
     "text": [
      "+---+------+-------+\n",
      "| id|  name| gender|\n",
      "+---+------+-------+\n",
      "|  1|maheer|   Male|\n",
      "|  2|  Asif| FeMale|\n",
      "|  3|  abcd|unknown|\n",
      "+---+------+-------+\n",
      "\n"
     ]
    }
   ],
   "source": [
    "df1 = df.select(df.id,\n",
    "                df.name,\n",
    "               when(condition=df.gender=='M', value='Male')\\\n",
    "               .when(condition=df.gender=='F', value='FeMale')\\\n",
    "                .otherwise('unknown').alias('gender'))\n",
    "\n",
    "df1.show()"
   ]
  },
  {
   "cell_type": "code",
   "execution_count": 6,
   "id": "05e27761-c538-4f99-a499-db9ef76deddb",
   "metadata": {
    "tags": []
   },
   "outputs": [
    {
     "name": "stdout",
     "output_type": "stream",
     "text": [
      "+---+------+------+------+--------------+\n",
      "| id|  name|gender|salary|gender_details|\n",
      "+---+------+------+------+--------------+\n",
      "|  1|maheer|     M|  2000|          Male|\n",
      "|  2|  Asif|     F|  3000|        FeMale|\n",
      "|  3|  abcd|      |  2000|       unknown|\n",
      "+---+------+------+------+--------------+\n",
      "\n"
     ]
    }
   ],
   "source": [
    "df2 = df.withColumn('gender_details',when(condition=df.gender=='M', value='Male')\\\n",
    "               .when(condition=df.gender=='F', value='FeMale')\\\n",
    "                .otherwise('unknown'))\n",
    "\n",
    "df2.show()"
   ]
  },
  {
   "cell_type": "code",
   "execution_count": null,
   "id": "7331e875-834f-4b06-9b21-b6798fc0301b",
   "metadata": {},
   "outputs": [],
   "source": []
  }
 ],
 "metadata": {
  "kernelspec": {
   "display_name": "Python 3 (ipykernel)",
   "language": "python",
   "name": "python3"
  },
  "language_info": {
   "codemirror_mode": {
    "name": "ipython",
    "version": 3
   },
   "file_extension": ".py",
   "mimetype": "text/x-python",
   "name": "python",
   "nbconvert_exporter": "python",
   "pygments_lexer": "ipython3",
   "version": "3.9.18"
  }
 },
 "nbformat": 4,
 "nbformat_minor": 5
}
