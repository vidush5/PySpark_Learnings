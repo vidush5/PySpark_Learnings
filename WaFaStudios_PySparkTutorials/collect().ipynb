{
 "cells": [
  {
   "cell_type": "code",
   "execution_count": 1,
   "id": "1ad64cf9-59ee-4c33-8bf1-069da6eb4b5d",
   "metadata": {
    "tags": []
   },
   "outputs": [],
   "source": [
    "import findspark\n",
    "findspark.init()\n",
    "\n",
    "import pyspark\n",
    "from pyspark.sql import SparkSession\n",
    "from pyspark.sql.types import StringType, StructField, StructType, IntegerType, ArrayType\n",
    "from pyspark.sql.functions import col, lit, array, explode, map_keys, map_values\n",
    "from pyspark.sql import Row\n",
    "\n",
    "spark = SparkSession.builder.appName(\"show\").getOrCreate()"
   ]
  },
  {
   "cell_type": "code",
   "execution_count": 2,
   "id": "e4d5c28a-e333-4aa5-b48a-7762d98017d8",
   "metadata": {},
   "outputs": [],
   "source": [
    "from pyspark.sql.functions import when"
   ]
  },
  {
   "cell_type": "code",
   "execution_count": 3,
   "id": "e1f364e5-398b-44e5-9688-c5e4251312ae",
   "metadata": {},
   "outputs": [
    {
     "name": "stdout",
     "output_type": "stream",
     "text": [
      "+---+------+------+------+----+\n",
      "| id|  name|gender|salary| dep|\n",
      "+---+------+------+------+----+\n",
      "|  1|Maheer|  male|  1000|NULL|\n",
      "|  2|   Asi|Female|  1000|  IT|\n",
      "|  3|  abcd|  NULL|  1000|  HR|\n",
      "+---+------+------+------+----+\n",
      "\n"
     ]
    }
   ],
   "source": [
    "data = [(1, 'Maheer', 'male', 1000, None),\n",
    "       (2, 'Asi', 'Female', 1000, 'IT'),\n",
    "       (3, 'abcd', None, 1000, 'HR')]\n",
    "\n",
    "schema = ['id', 'name', 'gender', 'salary', 'dep']\n",
    "\n",
    "df = spark.createDataFrame(data, schema)\n",
    "\n",
    "df.show()"
   ]
  },
  {
   "cell_type": "code",
   "execution_count": 4,
   "id": "ee7f8133-c552-4d5b-a92a-d60a31b61765",
   "metadata": {
    "tags": []
   },
   "outputs": [],
   "source": [
    "dataRows = df.collect()"
   ]
  },
  {
   "cell_type": "code",
   "execution_count": 5,
   "id": "3ec21179-e71a-4090-a14f-70d113cce10e",
   "metadata": {
    "tags": []
   },
   "outputs": [
    {
     "name": "stdout",
     "output_type": "stream",
     "text": [
      "[Row(id=1, name='Maheer', gender='male', salary=1000, dep=None), Row(id=2, name='Asi', gender='Female', salary=1000, dep='IT'), Row(id=3, name='abcd', gender=None, salary=1000, dep='HR')]\n"
     ]
    }
   ],
   "source": [
    "print(dataRows)"
   ]
  },
  {
   "cell_type": "code",
   "execution_count": null,
   "id": "a1188a13-58d2-4903-96de-894c53c76c2f",
   "metadata": {},
   "outputs": [],
   "source": []
  }
 ],
 "metadata": {
  "kernelspec": {
   "display_name": "Python 3 (ipykernel)",
   "language": "python",
   "name": "python3"
  },
  "language_info": {
   "codemirror_mode": {
    "name": "ipython",
    "version": 3
   },
   "file_extension": ".py",
   "mimetype": "text/x-python",
   "name": "python",
   "nbconvert_exporter": "python",
   "pygments_lexer": "ipython3",
   "version": "3.9.18"
  }
 },
 "nbformat": 4,
 "nbformat_minor": 5
}
