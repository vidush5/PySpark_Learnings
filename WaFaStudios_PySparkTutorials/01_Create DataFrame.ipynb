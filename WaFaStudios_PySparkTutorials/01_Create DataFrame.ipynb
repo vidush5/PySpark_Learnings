{
 "cells": [
  {
   "cell_type": "code",
   "execution_count": 3,
   "id": "55dbbc7d",
   "metadata": {},
   "outputs": [],
   "source": [
    "import findspark\n",
    "findspark.init()"
   ]
  },
  {
   "cell_type": "code",
   "execution_count": 4,
   "id": "b8b5738d",
   "metadata": {},
   "outputs": [],
   "source": [
    "import pyspark\n",
    "from pyspark.sql import SparkSession"
   ]
  },
  {
   "cell_type": "code",
   "execution_count": 5,
   "id": "94def32e",
   "metadata": {},
   "outputs": [],
   "source": [
    "spark = SparkSession.builder.appName(\"Create DataFrame\").getOrCreate()"
   ]
  },
  {
   "cell_type": "markdown",
   "id": "3463c365",
   "metadata": {},
   "source": [
    "### Method 01"
   ]
  },
  {
   "cell_type": "code",
   "execution_count": 8,
   "id": "9ed2973a",
   "metadata": {},
   "outputs": [
    {
     "name": "stdout",
     "output_type": "stream",
     "text": [
      "+---+------+\n",
      "| id|  name|\n",
      "+---+------+\n",
      "|  1|Maheer|\n",
      "|  2|  Wafa|\n",
      "+---+------+\n",
      "\n"
     ]
    }
   ],
   "source": [
    "data01 = [(1, 'Maheer'), (2, 'Wafa')]\n",
    "schema01 = ['id', 'name']\n",
    "\n",
    "df01 = spark.createDataFrame(data01, schema01) \n",
    "df01.show()"
   ]
  },
  {
   "cell_type": "markdown",
   "id": "1dfcbbd0",
   "metadata": {},
   "source": [
    "### Method 02"
   ]
  },
  {
   "cell_type": "code",
   "execution_count": 9,
   "id": "9bc14ed6",
   "metadata": {},
   "outputs": [
    {
     "name": "stdout",
     "output_type": "stream",
     "text": [
      "+---+------+\n",
      "| id|  name|\n",
      "+---+------+\n",
      "|  1|Maheer|\n",
      "|  2|  Wafa|\n",
      "+---+------+\n",
      "\n"
     ]
    }
   ],
   "source": [
    "data02 = [{'id':1, 'name':'Maheer'}, {'id':2, 'name':'Wafa'}]\n",
    "\n",
    "df02 = spark.createDataFrame(data02)\n",
    "df02.show()"
   ]
  },
  {
   "cell_type": "markdown",
   "id": "23ec2059",
   "metadata": {},
   "source": [
    "### Method 03"
   ]
  },
  {
   "cell_type": "code",
   "execution_count": 10,
   "id": "c646e7b7",
   "metadata": {},
   "outputs": [],
   "source": [
    "from pyspark.sql.types import *"
   ]
  },
  {
   "cell_type": "code",
   "execution_count": 12,
   "id": "18316305",
   "metadata": {},
   "outputs": [
    {
     "name": "stdout",
     "output_type": "stream",
     "text": [
      "+---+------+\n",
      "| id|  name|\n",
      "+---+------+\n",
      "|  1|Maheer|\n",
      "|  2|  Wafa|\n",
      "+---+------+\n",
      "\n"
     ]
    }
   ],
   "source": [
    "data03 = [{'id':1, 'name':'Maheer'}, {'id':2, 'name':'Wafa'}]\n",
    "\n",
    "schema03 = StructType(\n",
    "            [StructField(name='id', dataType=IntegerType()),\n",
    "            StructField(name='name', dataType=StringType())]\n",
    "                        )\n",
    "\n",
    "df03 = spark.createDataFrame(data03, schema03)\n",
    "df03.show()"
   ]
  },
  {
   "cell_type": "code",
   "execution_count": 13,
   "id": "91d5c282",
   "metadata": {},
   "outputs": [
    {
     "data": {
      "text/plain": [
       "pyspark.sql.dataframe.DataFrame"
      ]
     },
     "execution_count": 13,
     "metadata": {},
     "output_type": "execute_result"
    }
   ],
   "source": [
    "type(df03)"
   ]
  },
  {
   "cell_type": "code",
   "execution_count": 14,
   "id": "2974a0c5",
   "metadata": {},
   "outputs": [
    {
     "data": {
      "text/plain": [
       "pyspark.sql.session.SparkSession"
      ]
     },
     "execution_count": 14,
     "metadata": {},
     "output_type": "execute_result"
    }
   ],
   "source": [
    "type(spark)"
   ]
  },
  {
   "cell_type": "code",
   "execution_count": 15,
   "id": "26f9a369",
   "metadata": {},
   "outputs": [
    {
     "data": {
      "text/plain": [
       "['Builder',\n",
       " '__annotations__',\n",
       " '__class__',\n",
       " '__delattr__',\n",
       " '__dict__',\n",
       " '__dir__',\n",
       " '__doc__',\n",
       " '__enter__',\n",
       " '__eq__',\n",
       " '__exit__',\n",
       " '__format__',\n",
       " '__ge__',\n",
       " '__getattribute__',\n",
       " '__gt__',\n",
       " '__hash__',\n",
       " '__init__',\n",
       " '__init_subclass__',\n",
       " '__le__',\n",
       " '__lt__',\n",
       " '__module__',\n",
       " '__ne__',\n",
       " '__new__',\n",
       " '__reduce__',\n",
       " '__reduce_ex__',\n",
       " '__repr__',\n",
       " '__setattr__',\n",
       " '__sizeof__',\n",
       " '__str__',\n",
       " '__subclasshook__',\n",
       " '__weakref__',\n",
       " '_activeSession',\n",
       " '_convert_from_pandas',\n",
       " '_createFromLocal',\n",
       " '_createFromRDD',\n",
       " '_create_dataframe',\n",
       " '_create_from_pandas_with_arrow',\n",
       " '_create_shell_session',\n",
       " '_getActiveSessionOrCreate',\n",
       " '_get_numpy_record_dtype',\n",
       " '_inferSchema',\n",
       " '_inferSchemaFromList',\n",
       " '_instantiatedSession',\n",
       " '_jconf',\n",
       " '_jsc',\n",
       " '_jsparkSession',\n",
       " '_jvm',\n",
       " '_repr_html_',\n",
       " '_sc',\n",
       " 'active',\n",
       " 'addArtifact',\n",
       " 'addArtifacts',\n",
       " 'addTag',\n",
       " 'builder',\n",
       " 'catalog',\n",
       " 'clearTags',\n",
       " 'client',\n",
       " 'conf',\n",
       " 'copyFromLocalToFs',\n",
       " 'createDataFrame',\n",
       " 'getActiveSession',\n",
       " 'getTags',\n",
       " 'interruptAll',\n",
       " 'interruptOperation',\n",
       " 'interruptTag',\n",
       " 'newSession',\n",
       " 'range',\n",
       " 'read',\n",
       " 'readStream',\n",
       " 'removeTag',\n",
       " 'sparkContext',\n",
       " 'sql',\n",
       " 'stop',\n",
       " 'streams',\n",
       " 'table',\n",
       " 'udf',\n",
       " 'udtf',\n",
       " 'version']"
      ]
     },
     "execution_count": 15,
     "metadata": {},
     "output_type": "execute_result"
    }
   ],
   "source": [
    "dir(spark)"
   ]
  },
  {
   "cell_type": "code",
   "execution_count": null,
   "id": "09cbc3a4",
   "metadata": {},
   "outputs": [],
   "source": []
  }
 ],
 "metadata": {
  "kernelspec": {
   "display_name": "Python 3 (ipykernel)",
   "language": "python",
   "name": "python3"
  },
  "language_info": {
   "codemirror_mode": {
    "name": "ipython",
    "version": 3
   },
   "file_extension": ".py",
   "mimetype": "text/x-python",
   "name": "python",
   "nbconvert_exporter": "python",
   "pygments_lexer": "ipython3",
   "version": "3.9.18"
  }
 },
 "nbformat": 4,
 "nbformat_minor": 5
}
