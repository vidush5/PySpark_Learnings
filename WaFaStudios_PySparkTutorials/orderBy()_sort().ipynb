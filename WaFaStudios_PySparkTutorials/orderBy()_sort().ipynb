{
 "cells": [
  {
   "cell_type": "code",
   "execution_count": 1,
   "id": "1ad64cf9-59ee-4c33-8bf1-069da6eb4b5d",
   "metadata": {
    "tags": []
   },
   "outputs": [],
   "source": [
    "import findspark\n",
    "findspark.init()\n",
    "\n",
    "import pyspark\n",
    "from pyspark.sql import SparkSession\n",
    "from pyspark.sql.types import StringType, StructField, StructType, IntegerType, ArrayType\n",
    "from pyspark.sql.functions import col, lit, array, explode, map_keys, map_values\n",
    "from pyspark.sql import Row\n",
    "\n",
    "spark = SparkSession.builder.appName(\"show\").getOrCreate()"
   ]
  },
  {
   "cell_type": "code",
   "execution_count": 2,
   "id": "e4d5c28a-e333-4aa5-b48a-7762d98017d8",
   "metadata": {},
   "outputs": [],
   "source": [
    "from pyspark.sql.functions import when"
   ]
  },
  {
   "cell_type": "code",
   "execution_count": 3,
   "id": "3935b395-4949-4006-9b7a-9adf660e4839",
   "metadata": {
    "tags": []
   },
   "outputs": [
    {
     "name": "stdout",
     "output_type": "stream",
     "text": [
      "+---+--------+------+------+-------+\n",
      "| id|    name|gender|salary|    dep|\n",
      "+---+--------+------+------+-------+\n",
      "|  1|  maheer|     M|  2000|     IT|\n",
      "|  2|    wafa|     M|  4000|     HR|\n",
      "|  3|     asi|     F|  3000|Payroll|\n",
      "|  4|sarfaraj|     M|  3000|     HR|\n",
      "+---+--------+------+------+-------+\n",
      "\n"
     ]
    }
   ],
   "source": [
    "data = [(1, 'maheer', 'M', 2000, 'IT'),\n",
    "       (2, 'wafa', 'M', 4000, 'HR'),\n",
    "       (3, 'asi', 'F', 3000, 'Payroll'),\n",
    "       (4, 'sarfaraj', 'M', 3000, 'HR'),]\n",
    "\n",
    "schema = [\"id\", \"name\", \"gender\", \"salary\", \"dep\"]\n",
    "\n",
    "df = spark.createDataFrame(data, schema)\n",
    "\n",
    "df.show()"
   ]
  },
  {
   "cell_type": "code",
   "execution_count": 4,
   "id": "c1509902-83c4-4744-a9fd-30d3bfed255e",
   "metadata": {},
   "outputs": [
    {
     "name": "stdout",
     "output_type": "stream",
     "text": [
      "+---+--------+------+------+-------+\n",
      "| id|    name|gender|salary|    dep|\n",
      "+---+--------+------+------+-------+\n",
      "|  4|sarfaraj|     M|  3000|     HR|\n",
      "|  2|    wafa|     M|  4000|     HR|\n",
      "|  1|  maheer|     M|  2000|     IT|\n",
      "|  3|     asi|     F|  3000|Payroll|\n",
      "+---+--------+------+------+-------+\n",
      "\n"
     ]
    }
   ],
   "source": [
    "df.sort('dep', 'salary').show()"
   ]
  },
  {
   "cell_type": "code",
   "execution_count": 5,
   "id": "68a9c655-9ace-48f4-99d4-142ce10a646e",
   "metadata": {
    "tags": []
   },
   "outputs": [
    {
     "name": "stdout",
     "output_type": "stream",
     "text": [
      "+---+--------+------+------+-------+\n",
      "| id|    name|gender|salary|    dep|\n",
      "+---+--------+------+------+-------+\n",
      "|  3|     asi|     F|  3000|Payroll|\n",
      "|  1|  maheer|     M|  2000|     IT|\n",
      "|  2|    wafa|     M|  4000|     HR|\n",
      "|  4|sarfaraj|     M|  3000|     HR|\n",
      "+---+--------+------+------+-------+\n",
      "\n"
     ]
    }
   ],
   "source": [
    "df.sort(df.dep.desc(), df.salary.desc()).show()"
   ]
  },
  {
   "cell_type": "code",
   "execution_count": 6,
   "id": "c2ebae28-5048-4fb7-bf1c-60be1fbbea49",
   "metadata": {
    "tags": []
   },
   "outputs": [
    {
     "name": "stdout",
     "output_type": "stream",
     "text": [
      "+---+--------+------+------+-------+\n",
      "| id|    name|gender|salary|    dep|\n",
      "+---+--------+------+------+-------+\n",
      "|  3|     asi|     F|  3000|Payroll|\n",
      "|  1|  maheer|     M|  2000|     IT|\n",
      "|  4|sarfaraj|     M|  3000|     HR|\n",
      "|  2|    wafa|     M|  4000|     HR|\n",
      "+---+--------+------+------+-------+\n",
      "\n"
     ]
    }
   ],
   "source": [
    "df.orderBy(df.dep.desc(), df.salary.asc()).show()"
   ]
  },
  {
   "cell_type": "code",
   "execution_count": 7,
   "id": "e7553c80-aaf9-4497-8dfe-c6ac9e601260",
   "metadata": {
    "tags": []
   },
   "outputs": [
    {
     "name": "stdout",
     "output_type": "stream",
     "text": [
      "+---+--------+------+------+-------+\n",
      "| id|    name|gender|salary|    dep|\n",
      "+---+--------+------+------+-------+\n",
      "|  4|sarfaraj|     M|  3000|     HR|\n",
      "|  2|    wafa|     M|  4000|     HR|\n",
      "|  1|  maheer|     M|  2000|     IT|\n",
      "|  3|     asi|     F|  3000|Payroll|\n",
      "+---+--------+------+------+-------+\n",
      "\n"
     ]
    }
   ],
   "source": [
    "df.orderBy('dep', 'salary').show()"
   ]
  },
  {
   "cell_type": "code",
   "execution_count": null,
   "id": "e6d2ad05-129b-49b5-b755-c060cb662047",
   "metadata": {},
   "outputs": [],
   "source": []
  }
 ],
 "metadata": {
  "kernelspec": {
   "display_name": "Python 3 (ipykernel)",
   "language": "python",
   "name": "python3"
  },
  "language_info": {
   "codemirror_mode": {
    "name": "ipython",
    "version": 3
   },
   "file_extension": ".py",
   "mimetype": "text/x-python",
   "name": "python",
   "nbconvert_exporter": "python",
   "pygments_lexer": "ipython3",
   "version": "3.9.18"
  }
 },
 "nbformat": 4,
 "nbformat_minor": 5
}
