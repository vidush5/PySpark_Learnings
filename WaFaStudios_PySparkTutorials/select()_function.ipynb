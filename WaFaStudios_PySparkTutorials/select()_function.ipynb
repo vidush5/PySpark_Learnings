{
 "cells": [
  {
   "cell_type": "code",
   "execution_count": 1,
   "id": "1ad64cf9-59ee-4c33-8bf1-069da6eb4b5d",
   "metadata": {
    "tags": []
   },
   "outputs": [],
   "source": [
    "import findspark\n",
    "findspark.init()\n",
    "\n",
    "import pyspark\n",
    "from pyspark.sql import SparkSession\n",
    "from pyspark.sql.types import StringType, StructField, StructType, IntegerType, ArrayType\n",
    "from pyspark.sql.functions import col, lit, array, explode, map_keys, map_values\n",
    "from pyspark.sql import Row\n",
    "\n",
    "spark = SparkSession.builder.appName(\"show\").getOrCreate()"
   ]
  },
  {
   "cell_type": "code",
   "execution_count": 2,
   "id": "e4d5c28a-e333-4aa5-b48a-7762d98017d8",
   "metadata": {},
   "outputs": [],
   "source": [
    "from pyspark.sql.functions import when"
   ]
  },
  {
   "cell_type": "code",
   "execution_count": 5,
   "id": "81f14a72-aaef-4209-a534-5af6ee061156",
   "metadata": {},
   "outputs": [
    {
     "name": "stdout",
     "output_type": "stream",
     "text": [
      "+---+------+------+------+\n",
      "| id|  name|gender|salary|\n",
      "+---+------+------+------+\n",
      "|  1|maheer|  male|  2000|\n",
      "|  2|  wafa|  male|  3000|\n",
      "|  3|   asi|female|  2500|\n",
      "+---+------+------+------+\n",
      "\n"
     ]
    }
   ],
   "source": [
    "data = [(1, 'maheer', 'male', 2000),\n",
    "       (2, 'wafa', 'male', 3000),\n",
    "       (3, 'asi', 'female', 2500)]\n",
    "\n",
    "schema = ['id', 'name', 'gender', 'salary']\n",
    "\n",
    "df = spark.createDataFrame(data, schema)\n",
    "\n",
    "df.show()"
   ]
  },
  {
   "cell_type": "code",
   "execution_count": 6,
   "id": "953e79f8-a88c-4828-afa9-e8c927ffc089",
   "metadata": {},
   "outputs": [
    {
     "name": "stdout",
     "output_type": "stream",
     "text": [
      "+---+------+\n",
      "| id|  name|\n",
      "+---+------+\n",
      "|  1|maheer|\n",
      "|  2|  wafa|\n",
      "|  3|   asi|\n",
      "+---+------+\n",
      "\n"
     ]
    }
   ],
   "source": [
    "df.select('id', 'name').show()"
   ]
  },
  {
   "cell_type": "code",
   "execution_count": 7,
   "id": "05d4ff8d-696a-433f-9ce8-03099dfdff7f",
   "metadata": {
    "tags": []
   },
   "outputs": [
    {
     "name": "stdout",
     "output_type": "stream",
     "text": [
      "+---+------+\n",
      "| id|  name|\n",
      "+---+------+\n",
      "|  1|maheer|\n",
      "|  2|  wafa|\n",
      "|  3|   asi|\n",
      "+---+------+\n",
      "\n"
     ]
    }
   ],
   "source": [
    "df.select(df.id, df.name).show()"
   ]
  },
  {
   "cell_type": "code",
   "execution_count": 8,
   "id": "b7f4b47a-37b7-4fad-b2eb-8f15147d27ad",
   "metadata": {
    "tags": []
   },
   "outputs": [
    {
     "name": "stdout",
     "output_type": "stream",
     "text": [
      "+---+------+\n",
      "| id|  name|\n",
      "+---+------+\n",
      "|  1|maheer|\n",
      "|  2|  wafa|\n",
      "|  3|   asi|\n",
      "+---+------+\n",
      "\n"
     ]
    }
   ],
   "source": [
    "df.select(df['id'], df['name']).show()"
   ]
  },
  {
   "cell_type": "code",
   "execution_count": 9,
   "id": "1825be7d-2021-4436-9ec0-913be258affe",
   "metadata": {
    "tags": []
   },
   "outputs": [],
   "source": [
    "# using col() function"
   ]
  },
  {
   "cell_type": "code",
   "execution_count": 10,
   "id": "5e29ab28-379a-4fac-87dd-b4780e4fd4e1",
   "metadata": {
    "tags": []
   },
   "outputs": [],
   "source": [
    "from pyspark.sql.functions import col"
   ]
  },
  {
   "cell_type": "code",
   "execution_count": 11,
   "id": "e993637e-2f05-4b91-bbb6-61f0697b95a7",
   "metadata": {
    "tags": []
   },
   "outputs": [
    {
     "name": "stdout",
     "output_type": "stream",
     "text": [
      "+---+------+\n",
      "| id|  name|\n",
      "+---+------+\n",
      "|  1|maheer|\n",
      "|  2|  wafa|\n",
      "|  3|   asi|\n",
      "+---+------+\n",
      "\n"
     ]
    }
   ],
   "source": [
    "df.select(col('id'), col('name')).show()"
   ]
  },
  {
   "cell_type": "code",
   "execution_count": 12,
   "id": "32529b92-957d-4485-a63d-493df745de4e",
   "metadata": {
    "tags": []
   },
   "outputs": [
    {
     "name": "stdout",
     "output_type": "stream",
     "text": [
      "+---+------+\n",
      "| id|  name|\n",
      "+---+------+\n",
      "|  1|maheer|\n",
      "|  2|  wafa|\n",
      "|  3|   asi|\n",
      "+---+------+\n",
      "\n"
     ]
    }
   ],
   "source": [
    "df.select(['id', 'name']).show()"
   ]
  },
  {
   "cell_type": "code",
   "execution_count": 13,
   "id": "ac669070-7029-4527-b6ea-fb670b9f1c9b",
   "metadata": {
    "tags": []
   },
   "outputs": [
    {
     "name": "stdout",
     "output_type": "stream",
     "text": [
      "+---+------+------+------+\n",
      "| id|  name|gender|salary|\n",
      "+---+------+------+------+\n",
      "|  1|maheer|  male|  2000|\n",
      "|  2|  wafa|  male|  3000|\n",
      "|  3|   asi|female|  2500|\n",
      "+---+------+------+------+\n",
      "\n"
     ]
    }
   ],
   "source": [
    "df.select([col for col in df.columns]).show()"
   ]
  },
  {
   "cell_type": "code",
   "execution_count": 14,
   "id": "a0f295db-dab1-4307-86d0-d18f61ffb974",
   "metadata": {
    "tags": []
   },
   "outputs": [
    {
     "name": "stdout",
     "output_type": "stream",
     "text": [
      "+---+------+------+------+\n",
      "| id|  name|gender|salary|\n",
      "+---+------+------+------+\n",
      "|  1|maheer|  male|  2000|\n",
      "|  2|  wafa|  male|  3000|\n",
      "|  3|   asi|female|  2500|\n",
      "+---+------+------+------+\n",
      "\n"
     ]
    }
   ],
   "source": [
    "df.select(\"*\").show()"
   ]
  },
  {
   "cell_type": "code",
   "execution_count": null,
   "id": "2dcc00c1-5822-49be-ae32-f11a19bef0b3",
   "metadata": {},
   "outputs": [],
   "source": []
  }
 ],
 "metadata": {
  "kernelspec": {
   "display_name": "Python 3 (ipykernel)",
   "language": "python",
   "name": "python3"
  },
  "language_info": {
   "codemirror_mode": {
    "name": "ipython",
    "version": 3
   },
   "file_extension": ".py",
   "mimetype": "text/x-python",
   "name": "python",
   "nbconvert_exporter": "python",
   "pygments_lexer": "ipython3",
   "version": "3.9.18"
  }
 },
 "nbformat": 4,
 "nbformat_minor": 5
}
