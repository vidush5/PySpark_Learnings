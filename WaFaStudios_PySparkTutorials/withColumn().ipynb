{
 "cells": [
  {
   "cell_type": "code",
   "execution_count": 9,
   "id": "1ad64cf9-59ee-4c33-8bf1-069da6eb4b5d",
   "metadata": {
    "tags": []
   },
   "outputs": [],
   "source": [
    "import findspark\n",
    "findspark.init()\n",
    "\n",
    "import pyspark\n",
    "from pyspark.sql import SparkSession\n",
    "\n",
    "spark = SparkSession.builder.appName(\"show\").getOrCreate()"
   ]
  },
  {
   "cell_type": "code",
   "execution_count": 10,
   "id": "7f9c9990-bab0-421e-9077-5f648795ce47",
   "metadata": {
    "tags": []
   },
   "outputs": [],
   "source": [
    "from pyspark.sql.functions import col, lit"
   ]
  },
  {
   "cell_type": "code",
   "execution_count": 11,
   "id": "4b5b76be-824d-4a39-8caa-741e442b787f",
   "metadata": {
    "tags": []
   },
   "outputs": [],
   "source": [
    "data = [(1, 'Maheer', '3000'),(1, 'Wafa', '4000')]\n",
    "schema = ['id', 'name', 'salary']\n",
    "\n",
    "df = spark.createDataFrame(data, schema)"
   ]
  },
  {
   "cell_type": "code",
   "execution_count": 12,
   "id": "91039adf-78e9-43dd-8cf0-ecc7ce129515",
   "metadata": {
    "tags": []
   },
   "outputs": [
    {
     "name": "stdout",
     "output_type": "stream",
     "text": [
      "+---+------+------+\n",
      "| id|  name|salary|\n",
      "+---+------+------+\n",
      "|  1|Maheer|  3000|\n",
      "|  1|  Wafa|  4000|\n",
      "+---+------+------+\n",
      "\n"
     ]
    }
   ],
   "source": [
    "df.show()"
   ]
  },
  {
   "cell_type": "code",
   "execution_count": 13,
   "id": "9007b150-4c2a-49b4-8f7a-d4c055be7bea",
   "metadata": {
    "tags": []
   },
   "outputs": [
    {
     "name": "stdout",
     "output_type": "stream",
     "text": [
      "root\n",
      " |-- id: long (nullable = true)\n",
      " |-- name: string (nullable = true)\n",
      " |-- salary: string (nullable = true)\n",
      "\n"
     ]
    }
   ],
   "source": [
    "df.printSchema()"
   ]
  },
  {
   "cell_type": "markdown",
   "id": "2bd152b6-3a3c-4fd7-9c39-2331d4cae47e",
   "metadata": {},
   "source": [
    "### Change column datatype"
   ]
  },
  {
   "cell_type": "code",
   "execution_count": 14,
   "id": "56e9a9de-a45c-49d8-843b-12e7b0c3dab0",
   "metadata": {
    "tags": []
   },
   "outputs": [],
   "source": [
    "df1 = df.withColumn(\"salary\", col(\"salary\").cast(\"Integer\"))"
   ]
  },
  {
   "cell_type": "code",
   "execution_count": 15,
   "id": "b0b0654b-f287-4dc9-96c5-eb8ef575aa7e",
   "metadata": {
    "tags": []
   },
   "outputs": [
    {
     "name": "stdout",
     "output_type": "stream",
     "text": [
      "root\n",
      " |-- id: long (nullable = true)\n",
      " |-- name: string (nullable = true)\n",
      " |-- salary: integer (nullable = true)\n",
      "\n"
     ]
    }
   ],
   "source": [
    "df1.printSchema()"
   ]
  },
  {
   "cell_type": "markdown",
   "id": "3789c650-f60a-472f-b9b7-fd6616f333bc",
   "metadata": {},
   "source": [
    "### Change Values in a Column"
   ]
  },
  {
   "cell_type": "code",
   "execution_count": 16,
   "id": "475a809b-a631-4c0d-a0ca-57e65f62f66b",
   "metadata": {
    "tags": []
   },
   "outputs": [
    {
     "name": "stdout",
     "output_type": "stream",
     "text": [
      "+---+------+------+\n",
      "| id|  name|salary|\n",
      "+---+------+------+\n",
      "|  1|Maheer|  6000|\n",
      "|  1|  Wafa|  8000|\n",
      "+---+------+------+\n",
      "\n"
     ]
    }
   ],
   "source": [
    "df2 = df1.withColumn(\"salary\", col(\"salary\") * 2)\n",
    "df2.show()"
   ]
  },
  {
   "cell_type": "markdown",
   "id": "ed71fdd4-25c4-499d-a39b-95045a81945d",
   "metadata": {},
   "source": [
    "### Create new column"
   ]
  },
  {
   "cell_type": "code",
   "execution_count": 17,
   "id": "e5ab2964-7089-4124-a313-9af92d015765",
   "metadata": {
    "tags": []
   },
   "outputs": [
    {
     "name": "stdout",
     "output_type": "stream",
     "text": [
      "+---+------+------+\n",
      "| id|  name|salary|\n",
      "+---+------+------+\n",
      "|  1|Maheer|  6000|\n",
      "|  1|  Wafa|  8000|\n",
      "+---+------+------+\n",
      "\n"
     ]
    }
   ],
   "source": [
    "df2.withColumn('country', lit('india'))\n",
    "df2.show()"
   ]
  }
 ],
 "metadata": {
  "kernelspec": {
   "display_name": "Python 3 (ipykernel)",
   "language": "python",
   "name": "python3"
  },
  "language_info": {
   "codemirror_mode": {
    "name": "ipython",
    "version": 3
   },
   "file_extension": ".py",
   "mimetype": "text/x-python",
   "name": "python",
   "nbconvert_exporter": "python",
   "pygments_lexer": "ipython3",
   "version": "3.9.18"
  }
 },
 "nbformat": 4,
 "nbformat_minor": 5
}
