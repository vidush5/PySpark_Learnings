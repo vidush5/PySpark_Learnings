{
 "cells": [
  {
   "cell_type": "code",
   "execution_count": 7,
   "id": "1ad64cf9-59ee-4c33-8bf1-069da6eb4b5d",
   "metadata": {
    "tags": []
   },
   "outputs": [],
   "source": [
    "import findspark\n",
    "findspark.init()\n",
    "\n",
    "import pyspark\n",
    "from pyspark.sql import SparkSession\n",
    "from pyspark.sql.types import StringType, StructField, StructType, IntegerType, ArrayType\n",
    "from pyspark.sql.functions import col, lit, array, explode, map_keys, map_values\n",
    "from pyspark.sql import Row\n",
    "\n",
    "spark = SparkSession.builder.appName(\"show\").getOrCreate()"
   ]
  },
  {
   "cell_type": "code",
   "execution_count": 8,
   "id": "e4d5c28a-e333-4aa5-b48a-7762d98017d8",
   "metadata": {},
   "outputs": [],
   "source": [
    "from pyspark.sql.functions import when"
   ]
  },
  {
   "cell_type": "code",
   "execution_count": 9,
   "id": "3935b395-4949-4006-9b7a-9adf660e4839",
   "metadata": {
    "tags": []
   },
   "outputs": [
    {
     "name": "stdout",
     "output_type": "stream",
     "text": [
      "+---+--------+------+------+-------+\n",
      "| id|    name|gender|salary|    dep|\n",
      "+---+--------+------+------+-------+\n",
      "|  1|  maheer|     M|  2000|     IT|\n",
      "|  2|    wafa|     M|  4000|     HR|\n",
      "|  3|     asi|     F|  3000|Payroll|\n",
      "|  4|sarfaraj|     M|  3000|     HR|\n",
      "+---+--------+------+------+-------+\n",
      "\n",
      "+---+--------+------+------+-------+\n",
      "| id|    name|gender|salary|    dep|\n",
      "+---+--------+------+------+-------+\n",
      "|  1|  maheer|     M|  2000|     IT|\n",
      "|  2|    wafa|     M|  4000|     HR|\n",
      "|  3|     asi|     F|  3000|Payroll|\n",
      "|  4|sarfaraj|     M|  3000|     HR|\n",
      "+---+--------+------+------+-------+\n",
      "\n"
     ]
    }
   ],
   "source": [
    "data = [(1, 'maheer', 'M', 2000, 'IT'),\n",
    "       (2, 'wafa', 'M', 4000, 'HR'),\n",
    "       (3, 'asi', 'F', 3000, 'Payroll'),\n",
    "       (4, 'sarfaraj', 'M', 3000, 'HR')]\n",
    "\n",
    "schema = [\"id\", \"name\", \"gender\", \"salary\", \"dep\"]\n",
    "\n",
    "df1 = spark.createDataFrame(data, schema)\n",
    "df2 = spark.createDataFrame(data, schema)\n",
    "\n",
    "df1.show()\n",
    "df2.show()"
   ]
  },
  {
   "cell_type": "code",
   "execution_count": 10,
   "id": "e6d2ad05-129b-49b5-b755-c060cb662047",
   "metadata": {},
   "outputs": [
    {
     "name": "stdout",
     "output_type": "stream",
     "text": [
      "+---+--------+------+------+-------+\n",
      "| id|    name|gender|salary|    dep|\n",
      "+---+--------+------+------+-------+\n",
      "|  1|  maheer|     M|  2000|     IT|\n",
      "|  2|    wafa|     M|  4000|     HR|\n",
      "|  3|     asi|     F|  3000|Payroll|\n",
      "|  4|sarfaraj|     M|  3000|     HR|\n",
      "|  1|  maheer|     M|  2000|     IT|\n",
      "|  2|    wafa|     M|  4000|     HR|\n",
      "|  3|     asi|     F|  3000|Payroll|\n",
      "|  4|sarfaraj|     M|  3000|     HR|\n",
      "+---+--------+------+------+-------+\n",
      "\n"
     ]
    }
   ],
   "source": [
    "df3 = df1.unionAll(df2)\n",
    "\n",
    "df3.show()"
   ]
  },
  {
   "cell_type": "code",
   "execution_count": 11,
   "id": "43e3c0ce-a2f9-4052-8cb9-87b6352f60e5",
   "metadata": {
    "tags": []
   },
   "outputs": [
    {
     "name": "stdout",
     "output_type": "stream",
     "text": [
      "+---+--------+------+------+-------+\n",
      "| id|    name|gender|salary|    dep|\n",
      "+---+--------+------+------+-------+\n",
      "|  1|  maheer|     M|  2000|     IT|\n",
      "|  2|    wafa|     M|  4000|     HR|\n",
      "|  3|     asi|     F|  3000|Payroll|\n",
      "|  4|sarfaraj|     M|  3000|     HR|\n",
      "|  1|  maheer|     M|  2000|     IT|\n",
      "|  2|    wafa|     M|  4000|     HR|\n",
      "|  3|     asi|     F|  3000|Payroll|\n",
      "|  4|sarfaraj|     M|  3000|     HR|\n",
      "+---+--------+------+------+-------+\n",
      "\n"
     ]
    }
   ],
   "source": [
    "df4 = df1.union(df2)\n",
    "\n",
    "df4.show()"
   ]
  },
  {
   "cell_type": "code",
   "execution_count": null,
   "id": "a20a19ec-0072-4dc3-b40e-bd8cedbb9e0b",
   "metadata": {},
   "outputs": [],
   "source": []
  }
 ],
 "metadata": {
  "kernelspec": {
   "display_name": "Python 3 (ipykernel)",
   "language": "python",
   "name": "python3"
  },
  "language_info": {
   "codemirror_mode": {
    "name": "ipython",
    "version": 3
   },
   "file_extension": ".py",
   "mimetype": "text/x-python",
   "name": "python",
   "nbconvert_exporter": "python",
   "pygments_lexer": "ipython3",
   "version": "3.9.18"
  }
 },
 "nbformat": 4,
 "nbformat_minor": 5
}
