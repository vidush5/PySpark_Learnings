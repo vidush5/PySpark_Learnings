{
 "cells": [
  {
   "cell_type": "code",
   "execution_count": 1,
   "id": "1ad64cf9-59ee-4c33-8bf1-069da6eb4b5d",
   "metadata": {
    "tags": []
   },
   "outputs": [],
   "source": [
    "import findspark\n",
    "findspark.init()\n",
    "\n",
    "import pyspark\n",
    "from pyspark.sql import SparkSession\n",
    "from pyspark.sql.types import StringType, StructField, StructType, IntegerType, ArrayType\n",
    "from pyspark.sql.functions import col, lit, array, explode, map_keys, map_values\n",
    "from pyspark.sql import Row\n",
    "\n",
    "spark = SparkSession.builder.appName(\"show\").getOrCreate()"
   ]
  },
  {
   "cell_type": "code",
   "execution_count": 2,
   "id": "e4d5c28a-e333-4aa5-b48a-7762d98017d8",
   "metadata": {},
   "outputs": [],
   "source": [
    "from pyspark.sql.functions import when"
   ]
  },
  {
   "cell_type": "code",
   "execution_count": 3,
   "id": "3935b395-4949-4006-9b7a-9adf660e4839",
   "metadata": {
    "tags": []
   },
   "outputs": [
    {
     "name": "stdout",
     "output_type": "stream",
     "text": [
      "+---+----------+------+------+-------+\n",
      "| id|      name|gender|salary|    dep|\n",
      "+---+----------+------+------+-------+\n",
      "|  1|    maheer|     M|  5000|     IT|\n",
      "|  2|      wafa|     M|  6000|     HR|\n",
      "|  3|       asi|     F|  2500|Payroll|\n",
      "|  4|  sarfaraj|     M|  4000|     HR|\n",
      "|  5|pyairijaan|     F|  2000|     HR|\n",
      "|  6|  Mahaboob|     M|  2000|Payroll|\n",
      "|  7|    ayesha|     F|  3000|     IT|\n",
      "+---+----------+------+------+-------+\n",
      "\n"
     ]
    }
   ],
   "source": [
    "data = [(1, 'maheer', 'M', 5000, 'IT'),\n",
    "       (2, 'wafa', 'M', 6000, 'HR'),\n",
    "       (3, 'asi', 'F', 2500, 'Payroll'),\n",
    "       (4, 'sarfaraj', 'M', 4000, 'HR'),\n",
    "       (5, 'pyairijaan', 'F', 2000, 'HR'),\n",
    "       (6, 'Mahaboob', 'M', 2000, 'Payroll'),\n",
    "       (7, 'ayesha', 'F', 3000, 'IT'),]\n",
    "\n",
    "schema = [\"id\", \"name\", \"gender\", \"salary\", \"dep\"]\n",
    "\n",
    "df1 = spark.createDataFrame(data, schema)\n",
    "\n",
    "df1.show()"
   ]
  },
  {
   "cell_type": "code",
   "execution_count": 4,
   "id": "db36a5b9-c799-472f-ae03-9f981df43901",
   "metadata": {},
   "outputs": [
    {
     "name": "stdout",
     "output_type": "stream",
     "text": [
      "+-------+-----+\n",
      "|    dep|count|\n",
      "+-------+-----+\n",
      "|     IT|    2|\n",
      "|     HR|    3|\n",
      "|Payroll|    2|\n",
      "+-------+-----+\n",
      "\n"
     ]
    }
   ],
   "source": [
    "df1.groupBy('dep').count().show()"
   ]
  },
  {
   "cell_type": "code",
   "execution_count": 5,
   "id": "d93d3e67-e201-4b4e-873f-5386dd3ad0ee",
   "metadata": {
    "tags": []
   },
   "outputs": [],
   "source": [
    "from pyspark.sql.functions import count, min, max"
   ]
  },
  {
   "cell_type": "code",
   "execution_count": 7,
   "id": "f528e360-035a-4727-9a80-9375bbf33b19",
   "metadata": {
    "tags": []
   },
   "outputs": [
    {
     "name": "stdout",
     "output_type": "stream",
     "text": [
      "+-------+-----------+------+------+\n",
      "|    dep|countofEmps|minSal|maxSal|\n",
      "+-------+-----------+------+------+\n",
      "|     IT|          2|  3000|  5000|\n",
      "|     HR|          3|  2000|  6000|\n",
      "|Payroll|          2|  2000|  2500|\n",
      "+-------+-----------+------+------+\n",
      "\n"
     ]
    }
   ],
   "source": [
    "df1.groupBy('dep').agg(count('*').alias('countofEmps'),\\\n",
    "                min('salary').alias('minSal'), \\\n",
    "                max('salary').alias('maxSal')).show()"
   ]
  },
  {
   "cell_type": "code",
   "execution_count": null,
   "id": "81f14a72-aaef-4209-a534-5af6ee061156",
   "metadata": {},
   "outputs": [],
   "source": []
  }
 ],
 "metadata": {
  "kernelspec": {
   "display_name": "Python 3 (ipykernel)",
   "language": "python",
   "name": "python3"
  },
  "language_info": {
   "codemirror_mode": {
    "name": "ipython",
    "version": 3
   },
   "file_extension": ".py",
   "mimetype": "text/x-python",
   "name": "python",
   "nbconvert_exporter": "python",
   "pygments_lexer": "ipython3",
   "version": "3.9.18"
  }
 },
 "nbformat": 4,
 "nbformat_minor": 5
}
