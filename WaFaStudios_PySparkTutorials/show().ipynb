{
 "cells": [
  {
   "cell_type": "code",
   "execution_count": 1,
   "id": "499c47e9-c3a0-4da0-9c71-f44e4e5b8c80",
   "metadata": {
    "tags": []
   },
   "outputs": [],
   "source": [
    "import findspark\n",
    "findspark.init()"
   ]
  },
  {
   "cell_type": "code",
   "execution_count": 2,
   "id": "87922c13-48c7-48fb-a1d6-97f1e9309d14",
   "metadata": {
    "tags": []
   },
   "outputs": [],
   "source": [
    "import pyspark"
   ]
  },
  {
   "cell_type": "code",
   "execution_count": 3,
   "id": "44fa8290-0a67-41b8-887d-b934f63b7799",
   "metadata": {
    "tags": []
   },
   "outputs": [],
   "source": [
    "from pyspark.sql import SparkSession"
   ]
  },
  {
   "cell_type": "code",
   "execution_count": 4,
   "id": "e5071466-83a2-4bca-87bc-afd57d013930",
   "metadata": {
    "tags": []
   },
   "outputs": [],
   "source": [
    "spark = SparkSession.builder.appName(\"show\").getOrCreate()"
   ]
  },
  {
   "cell_type": "code",
   "execution_count": 5,
   "id": "0d46444d-5d0a-4e2d-bd2d-7b24b5b739f3",
   "metadata": {
    "tags": []
   },
   "outputs": [],
   "source": [
    "data = [(\"Vidush\", 1000), (\"Kamal\", 2000)]\n",
    "\n",
    "schema = [\"Name\", \"Salary\"]"
   ]
  },
  {
   "cell_type": "code",
   "execution_count": 6,
   "id": "28a1e426-98f4-4d8e-be76-b6fccabba117",
   "metadata": {
    "tags": []
   },
   "outputs": [],
   "source": [
    "df = spark.createDataFrame(data, schema)"
   ]
  },
  {
   "cell_type": "code",
   "execution_count": 7,
   "id": "c3a6a177-47ab-4afb-9cf5-7f40f77024ca",
   "metadata": {
    "tags": []
   },
   "outputs": [
    {
     "name": "stdout",
     "output_type": "stream",
     "text": [
      "+------+------+\n",
      "|  Name|Salary|\n",
      "+------+------+\n",
      "|Vidush|  1000|\n",
      "| Kamal|  2000|\n",
      "+------+------+\n",
      "\n"
     ]
    }
   ],
   "source": [
    "df.show()"
   ]
  },
  {
   "cell_type": "code",
   "execution_count": 8,
   "id": "67db2ecf-6d13-40a5-ac4f-929c94af0dc2",
   "metadata": {
    "tags": []
   },
   "outputs": [
    {
     "name": "stdout",
     "output_type": "stream",
     "text": [
      "+------+------+\n",
      "|Name  |Salary|\n",
      "+------+------+\n",
      "|Vidush|1000  |\n",
      "|Kamal |2000  |\n",
      "+------+------+\n",
      "\n"
     ]
    }
   ],
   "source": [
    "df.show(truncate=False)"
   ]
  },
  {
   "cell_type": "code",
   "execution_count": null,
   "id": "7a81523c-91e3-477c-89c1-2f41bb53d4fc",
   "metadata": {},
   "outputs": [],
   "source": []
  }
 ],
 "metadata": {
  "kernelspec": {
   "display_name": "Python 3 (ipykernel)",
   "language": "python",
   "name": "python3"
  },
  "language_info": {
   "codemirror_mode": {
    "name": "ipython",
    "version": 3
   },
   "file_extension": ".py",
   "mimetype": "text/x-python",
   "name": "python",
   "nbconvert_exporter": "python",
   "pygments_lexer": "ipython3",
   "version": "3.9.18"
  }
 },
 "nbformat": 4,
 "nbformat_minor": 5
}
