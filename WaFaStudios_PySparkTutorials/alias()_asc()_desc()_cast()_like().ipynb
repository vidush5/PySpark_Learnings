{
 "cells": [
  {
   "cell_type": "code",
   "execution_count": 1,
   "id": "1ad64cf9-59ee-4c33-8bf1-069da6eb4b5d",
   "metadata": {
    "tags": []
   },
   "outputs": [],
   "source": [
    "import findspark\n",
    "findspark.init()\n",
    "\n",
    "import pyspark\n",
    "from pyspark.sql import SparkSession\n",
    "from pyspark.sql.types import StringType, StructField, StructType, IntegerType, ArrayType\n",
    "from pyspark.sql.functions import col, lit, array, explode, map_keys, map_values\n",
    "from pyspark.sql import Row\n",
    "\n",
    "spark = SparkSession.builder.appName(\"show\").getOrCreate()"
   ]
  },
  {
   "cell_type": "code",
   "execution_count": 2,
   "id": "e4d5c28a-e333-4aa5-b48a-7762d98017d8",
   "metadata": {},
   "outputs": [],
   "source": [
    "from pyspark.sql.functions import when"
   ]
  },
  {
   "cell_type": "code",
   "execution_count": 3,
   "id": "3935b395-4949-4006-9b7a-9adf660e4839",
   "metadata": {
    "tags": []
   },
   "outputs": [
    {
     "name": "stdout",
     "output_type": "stream",
     "text": [
      "+---+------+------+------+\n",
      "| id|  name|gender|salary|\n",
      "+---+------+------+------+\n",
      "|  1|maheer|     M|  2000|\n",
      "|  2|  Asif|     F|  3000|\n",
      "|  3|   asi|     F|  3000|\n",
      "+---+------+------+------+\n",
      "\n"
     ]
    }
   ],
   "source": [
    "data = [(1, 'maheer', 'M', 2000),\n",
    "       (2, 'Asif', 'F', 3000),\n",
    "       (3, 'asi', 'F', 3000)]\n",
    "\n",
    "schema = [\"id\", \"name\", \"gender\", \"salary\"]\n",
    "\n",
    "df = spark.createDataFrame(data, schema)\n",
    "\n",
    "df.show()"
   ]
  },
  {
   "cell_type": "markdown",
   "id": "31ab02d7-de04-4fa9-8def-43f6ec8d27e9",
   "metadata": {},
   "source": [
    "### alias()"
   ]
  },
  {
   "cell_type": "code",
   "execution_count": 4,
   "id": "edd58377-180c-4cb8-ab79-a397af019f79",
   "metadata": {
    "tags": []
   },
   "outputs": [
    {
     "name": "stdout",
     "output_type": "stream",
     "text": [
      "+------+--------+\n",
      "|emp_id|emp_name|\n",
      "+------+--------+\n",
      "|     1|  maheer|\n",
      "|     2|    Asif|\n",
      "|     3|     asi|\n",
      "+------+--------+\n",
      "\n"
     ]
    }
   ],
   "source": [
    "df.select(df.id.alias('emp_id'),\n",
    "         df.name.alias('emp_name')).show()"
   ]
  },
  {
   "cell_type": "markdown",
   "id": "95d191e1-ca97-47e3-8556-3f2430d3b08b",
   "metadata": {},
   "source": [
    "### asc() & desc()"
   ]
  },
  {
   "cell_type": "code",
   "execution_count": 5,
   "id": "ef1a5a73-1f0f-445e-992d-d65c638ac668",
   "metadata": {
    "tags": []
   },
   "outputs": [
    {
     "name": "stdout",
     "output_type": "stream",
     "text": [
      "+---+------+------+------+\n",
      "| id|  name|gender|salary|\n",
      "+---+------+------+------+\n",
      "|  1|maheer|     M|  2000|\n",
      "|  3|   asi|     F|  3000|\n",
      "|  2|  Asif|     F|  3000|\n",
      "+---+------+------+------+\n",
      "\n"
     ]
    }
   ],
   "source": [
    "df.sort(df.name.desc()).show()"
   ]
  },
  {
   "cell_type": "markdown",
   "id": "c2d9e544-7909-4c53-9415-9e85f862f5d4",
   "metadata": {},
   "source": [
    "### cast()"
   ]
  },
  {
   "cell_type": "code",
   "execution_count": 6,
   "id": "da021388-db2e-4857-9c1f-c893487dc2f2",
   "metadata": {
    "tags": []
   },
   "outputs": [
    {
     "name": "stdout",
     "output_type": "stream",
     "text": [
      "root\n",
      " |-- id: long (nullable = true)\n",
      " |-- name: string (nullable = true)\n",
      " |-- gender: string (nullable = true)\n",
      " |-- salary: long (nullable = true)\n",
      "\n"
     ]
    }
   ],
   "source": [
    "df.printSchema()"
   ]
  },
  {
   "cell_type": "code",
   "execution_count": 7,
   "id": "450fccd3-004b-4a96-9a09-edf4afacb719",
   "metadata": {
    "tags": []
   },
   "outputs": [
    {
     "name": "stdout",
     "output_type": "stream",
     "text": [
      "root\n",
      " |-- salary: integer (nullable = true)\n",
      "\n"
     ]
    }
   ],
   "source": [
    "df1 = df.select(df.salary.cast('int'))\n",
    "df1.printSchema()"
   ]
  },
  {
   "cell_type": "markdown",
   "id": "584f9fc4-1b22-49a6-bf83-f1dc4b17c958",
   "metadata": {},
   "source": [
    "### like()"
   ]
  },
  {
   "cell_type": "code",
   "execution_count": 8,
   "id": "affb9329-bf7c-4e1f-8a6f-68e4d96c23e3",
   "metadata": {
    "tags": []
   },
   "outputs": [
    {
     "name": "stdout",
     "output_type": "stream",
     "text": [
      "+---+------+------+------+\n",
      "| id|  name|gender|salary|\n",
      "+---+------+------+------+\n",
      "|  1|maheer|     M|  2000|\n",
      "+---+------+------+------+\n",
      "\n"
     ]
    }
   ],
   "source": [
    "df.filter(df.name.like('m%')).show()"
   ]
  },
  {
   "cell_type": "code",
   "execution_count": null,
   "id": "03789089-9792-4277-a1db-046224f41645",
   "metadata": {},
   "outputs": [],
   "source": []
  }
 ],
 "metadata": {
  "kernelspec": {
   "display_name": "Python 3 (ipykernel)",
   "language": "python",
   "name": "python3"
  },
  "language_info": {
   "codemirror_mode": {
    "name": "ipython",
    "version": 3
   },
   "file_extension": ".py",
   "mimetype": "text/x-python",
   "name": "python",
   "nbconvert_exporter": "python",
   "pygments_lexer": "ipython3",
   "version": "3.9.18"
  }
 },
 "nbformat": 4,
 "nbformat_minor": 5
}
