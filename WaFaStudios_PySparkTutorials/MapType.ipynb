{
 "cells": [
  {
   "cell_type": "code",
   "execution_count": 14,
   "id": "1ad64cf9-59ee-4c33-8bf1-069da6eb4b5d",
   "metadata": {
    "tags": []
   },
   "outputs": [],
   "source": [
    "import findspark\n",
    "findspark.init()\n",
    "\n",
    "import pyspark\n",
    "from pyspark.sql import SparkSession\n",
    "from pyspark.sql.types import StringType, StructField, StructType, IntegerType, ArrayType\n",
    "from pyspark.sql.functions import col, lit, array\n",
    "\n",
    "spark = SparkSession.builder.appName(\"show\").getOrCreate()"
   ]
  },
  {
   "cell_type": "code",
   "execution_count": 15,
   "id": "0a8fc396",
   "metadata": {
    "tags": []
   },
   "outputs": [],
   "source": [
    "data = [('maheer', {'hair': 'black', 'eye': 'brown'}),\n",
    "        ('wafa', {'hair': 'black', 'eye': 'blue'})]\n",
    "\n",
    "\n",
    "schema = ['name', 'properties']"
   ]
  },
  {
   "cell_type": "code",
   "execution_count": 16,
   "id": "f25d8ad0-7ed7-4186-bcb5-01c6d5c189af",
   "metadata": {},
   "outputs": [],
   "source": [
    "df = spark.createDataFrame(data, schema)"
   ]
  },
  {
   "cell_type": "code",
   "execution_count": 17,
   "id": "9e4a4ca8-5696-47dc-9faa-60ac9750ca7a",
   "metadata": {
    "tags": []
   },
   "outputs": [
    {
     "name": "stdout",
     "output_type": "stream",
     "text": [
      "+------+-----------------------------+\n",
      "|name  |properties                   |\n",
      "+------+-----------------------------+\n",
      "|maheer|{eye -> brown, hair -> black}|\n",
      "|wafa  |{eye -> blue, hair -> black} |\n",
      "+------+-----------------------------+\n",
      "\n"
     ]
    }
   ],
   "source": [
    "df.show(truncate=False)"
   ]
  },
  {
   "cell_type": "code",
   "execution_count": 18,
   "id": "ab0e0662-ee5e-43e4-ba6e-7c33a329ee26",
   "metadata": {
    "tags": []
   },
   "outputs": [
    {
     "name": "stdout",
     "output_type": "stream",
     "text": [
      "root\n",
      " |-- name: string (nullable = true)\n",
      " |-- properties: map (nullable = true)\n",
      " |    |-- key: string\n",
      " |    |-- value: string (valueContainsNull = true)\n",
      "\n"
     ]
    }
   ],
   "source": [
    "df.printSchema()"
   ]
  },
  {
   "cell_type": "code",
   "execution_count": 19,
   "id": "75206072-a092-473f-8410-abcd7985336f",
   "metadata": {
    "tags": []
   },
   "outputs": [],
   "source": [
    "from pyspark.sql.types import MapType"
   ]
  },
  {
   "cell_type": "code",
   "execution_count": 20,
   "id": "d0a3879e-64e5-4916-9b5d-b6a76084cdee",
   "metadata": {
    "tags": []
   },
   "outputs": [],
   "source": [
    "data = [('maheer', {'hair': 'black', 'eye': 'brown'}),\n",
    "        ('wafa', {'hair': 'black', 'eye': 'blue'})]"
   ]
  },
  {
   "cell_type": "code",
   "execution_count": 21,
   "id": "6fe7184c-318e-4ee9-bf22-8719321bdd9f",
   "metadata": {
    "tags": []
   },
   "outputs": [],
   "source": [
    "sch = StructType([StructField(\"name\", StringType()),StructField(\"properties\", MapType(StringType(), StringType()))])"
   ]
  },
  {
   "cell_type": "code",
   "execution_count": 22,
   "id": "f4697daf-a1a9-4f61-8181-e31c58eac659",
   "metadata": {},
   "outputs": [
    {
     "name": "stdout",
     "output_type": "stream",
     "text": [
      "+------+-----------------------------+\n",
      "|name  |properties                   |\n",
      "+------+-----------------------------+\n",
      "|maheer|{eye -> brown, hair -> black}|\n",
      "|wafa  |{eye -> blue, hair -> black} |\n",
      "+------+-----------------------------+\n",
      "\n"
     ]
    }
   ],
   "source": [
    "dmap = spark.createDataFrame(data, sch)\n",
    "\n",
    "dmap.show(truncate=False)"
   ]
  },
  {
   "cell_type": "code",
   "execution_count": 23,
   "id": "85148ab2-6d8a-4214-af32-25f8ba253d03",
   "metadata": {
    "tags": []
   },
   "outputs": [
    {
     "name": "stdout",
     "output_type": "stream",
     "text": [
      "root\n",
      " |-- name: string (nullable = true)\n",
      " |-- properties: map (nullable = true)\n",
      " |    |-- key: string\n",
      " |    |-- value: string (valueContainsNull = true)\n",
      "\n"
     ]
    }
   ],
   "source": [
    "dmap.printSchema()"
   ]
  },
  {
   "cell_type": "code",
   "execution_count": 25,
   "id": "d70a35a4-c8b8-4d04-a351-c06ea82efc67",
   "metadata": {
    "tags": []
   },
   "outputs": [
    {
     "name": "stdout",
     "output_type": "stream",
     "text": [
      "+------+-----------------------------+-----+\n",
      "|name  |properties                   |hair |\n",
      "+------+-----------------------------+-----+\n",
      "|maheer|{eye -> brown, hair -> black}|black|\n",
      "|wafa  |{eye -> blue, hair -> black} |black|\n",
      "+------+-----------------------------+-----+\n",
      "\n"
     ]
    }
   ],
   "source": [
    "dmap2 = dmap.withColumn('hair', dmap.properties['hair'])\n",
    "\n",
    "dmap2.show(truncate=False)"
   ]
  },
  {
   "cell_type": "code",
   "execution_count": null,
   "id": "f1df7425-b3b9-4950-9bfc-bee9ff70a8cf",
   "metadata": {},
   "outputs": [],
   "source": []
  }
 ],
 "metadata": {
  "kernelspec": {
   "display_name": "Python 3 (ipykernel)",
   "language": "python",
   "name": "python3"
  },
  "language_info": {
   "codemirror_mode": {
    "name": "ipython",
    "version": 3
   },
   "file_extension": ".py",
   "mimetype": "text/x-python",
   "name": "python",
   "nbconvert_exporter": "python",
   "pygments_lexer": "ipython3",
   "version": "3.9.18"
  }
 },
 "nbformat": 4,
 "nbformat_minor": 5
}
