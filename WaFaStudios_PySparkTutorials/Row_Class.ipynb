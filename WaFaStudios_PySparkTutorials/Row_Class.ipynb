{
 "cells": [
  {
   "cell_type": "code",
   "execution_count": 1,
   "id": "1ad64cf9-59ee-4c33-8bf1-069da6eb4b5d",
   "metadata": {
    "tags": []
   },
   "outputs": [],
   "source": [
    "import findspark\n",
    "findspark.init()\n",
    "\n",
    "import pyspark\n",
    "from pyspark.sql import SparkSession\n",
    "from pyspark.sql.types import StringType, StructField, StructType, IntegerType, ArrayType\n",
    "from pyspark.sql.functions import col, lit, array, explode, map_keys, map_values\n",
    "from pyspark.sql import Row\n",
    "\n",
    "spark = SparkSession.builder.appName(\"show\").getOrCreate()"
   ]
  },
  {
   "cell_type": "code",
   "execution_count": 3,
   "id": "f455a83d-f4fc-4da8-97c2-31e1fa1141aa",
   "metadata": {
    "tags": []
   },
   "outputs": [
    {
     "name": "stdout",
     "output_type": "stream",
     "text": [
      "maheer\n"
     ]
    }
   ],
   "source": [
    "row = Row('maheer', 2000)\n",
    "\n",
    "print(row[0])"
   ]
  },
  {
   "cell_type": "code",
   "execution_count": 4,
   "id": "04f46120-141b-4921-b3bd-4f19f2edf32c",
   "metadata": {
    "tags": []
   },
   "outputs": [
    {
     "name": "stdout",
     "output_type": "stream",
     "text": [
      "+------+------+\n",
      "|  name|salary|\n",
      "+------+------+\n",
      "|maheer|  2000|\n",
      "|  wafa|  3000|\n",
      "+------+------+\n",
      "\n"
     ]
    }
   ],
   "source": [
    "row1 = Row(name='maheer', salary=2000)\n",
    "row2 = Row(name='wafa', salary=3000)\n",
    "\n",
    "data=[row1, row2]\n",
    "\n",
    "df = spark.createDataFrame(data)\n",
    "df.show()"
   ]
  },
  {
   "cell_type": "code",
   "execution_count": 5,
   "id": "36abab0e-f822-41eb-b6ff-c246776b0b86",
   "metadata": {
    "tags": []
   },
   "outputs": [
    {
     "name": "stdout",
     "output_type": "stream",
     "text": [
      "root\n",
      " |-- name: string (nullable = true)\n",
      " |-- salary: long (nullable = true)\n",
      "\n"
     ]
    }
   ],
   "source": [
    "df.printSchema()"
   ]
  },
  {
   "cell_type": "code",
   "execution_count": 6,
   "id": "b2c5d1b9-955d-43e8-b971-fce9c3bc28ab",
   "metadata": {
    "tags": []
   },
   "outputs": [
    {
     "name": "stdout",
     "output_type": "stream",
     "text": [
      "+------+---+\n",
      "|  name|age|\n",
      "+------+---+\n",
      "|maheer| 30|\n",
      "|  wafa| 25|\n",
      "+------+---+\n",
      "\n"
     ]
    }
   ],
   "source": [
    "Person = Row('name', 'age')\n",
    "\n",
    "person1 = Person('maheer', 30)\n",
    "person2 = Person('wafa', 25)\n",
    "\n",
    "personDf = spark.createDataFrame([person1, person2])\n",
    "personDf.show()"
   ]
  },
  {
   "cell_type": "code",
   "execution_count": null,
   "id": "72defd13-b5c0-4633-8cf9-6af8235304cf",
   "metadata": {},
   "outputs": [],
   "source": []
  }
 ],
 "metadata": {
  "kernelspec": {
   "display_name": "Python 3 (ipykernel)",
   "language": "python",
   "name": "python3"
  },
  "language_info": {
   "codemirror_mode": {
    "name": "ipython",
    "version": 3
   },
   "file_extension": ".py",
   "mimetype": "text/x-python",
   "name": "python",
   "nbconvert_exporter": "python",
   "pygments_lexer": "ipython3",
   "version": "3.9.18"
  }
 },
 "nbformat": 4,
 "nbformat_minor": 5
}
