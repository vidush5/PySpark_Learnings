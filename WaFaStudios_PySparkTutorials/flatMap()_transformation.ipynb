{
 "cells": [
  {
   "cell_type": "code",
   "execution_count": 6,
   "id": "3887cbe5-41c1-4c76-9395-2cca219d48dd",
   "metadata": {
    "tags": []
   },
   "outputs": [],
   "source": [
    "import findspark\n",
    "findspark.init()\n",
    "\n",
    "import pyspark\n",
    "from pyspark.sql import SparkSession\n",
    "from pyspark.sql.types import StringType, StructField, StructType, IntegerType, ArrayType\n",
    "from pyspark.sql.functions import col, lit, array, explode, map_keys, map_values\n",
    "from pyspark.sql import Row\n",
    "\n",
    "spark = SparkSession.builder.appName(\"show\").getOrCreate()"
   ]
  },
  {
   "cell_type": "code",
   "execution_count": 7,
   "id": "6ba8410e-26db-4c32-ae80-1f915d2a27ae",
   "metadata": {
    "tags": []
   },
   "outputs": [],
   "source": [
    "data = ['maheer shaik', 'wafa shaik']\n",
    "\n",
    "rdd = spark.sparkContext.parallelize(data)"
   ]
  },
  {
   "cell_type": "code",
   "execution_count": 8,
   "id": "68585f25-f2dc-4429-902d-db4b21ba432d",
   "metadata": {
    "tags": []
   },
   "outputs": [
    {
     "name": "stdout",
     "output_type": "stream",
     "text": [
      "maheer shaik\n",
      "wafa shaik\n"
     ]
    }
   ],
   "source": [
    "for item in rdd.collect():\n",
    "    print(item)"
   ]
  },
  {
   "cell_type": "code",
   "execution_count": 9,
   "id": "e2ba3b1e-29ce-4a09-b4c6-8c4a58b26a6e",
   "metadata": {
    "tags": []
   },
   "outputs": [
    {
     "data": {
      "text/plain": [
       "PythonRDD[3] at RDD at PythonRDD.scala:53"
      ]
     },
     "execution_count": 9,
     "metadata": {},
     "output_type": "execute_result"
    }
   ],
   "source": [
    "rdd1 = rdd.flatMap(lambda x: x.split(' '))\n",
    "rdd1"
   ]
  },
  {
   "cell_type": "code",
   "execution_count": 10,
   "id": "46a2b839-68a9-48cc-91b9-5126730dc63b",
   "metadata": {
    "tags": []
   },
   "outputs": [
    {
     "name": "stdout",
     "output_type": "stream",
     "text": [
      "maheer\n",
      "shaik\n",
      "wafa\n",
      "shaik\n"
     ]
    }
   ],
   "source": [
    "for item in rdd1.collect():\n",
    "    print(item)"
   ]
  },
  {
   "cell_type": "code",
   "execution_count": null,
   "id": "16756c22-dd94-4518-9253-ecd6d1dc3191",
   "metadata": {},
   "outputs": [],
   "source": []
  }
 ],
 "metadata": {
  "kernelspec": {
   "display_name": "Python 3 (ipykernel)",
   "language": "python",
   "name": "python3"
  },
  "language_info": {
   "codemirror_mode": {
    "name": "ipython",
    "version": 3
   },
   "file_extension": ".py",
   "mimetype": "text/x-python",
   "name": "python",
   "nbconvert_exporter": "python",
   "pygments_lexer": "ipython3",
   "version": "3.9.18"
  }
 },
 "nbformat": 4,
 "nbformat_minor": 5
}
