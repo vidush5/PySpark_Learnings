{
 "cells": [
  {
   "cell_type": "code",
   "execution_count": 27,
   "id": "1ad64cf9-59ee-4c33-8bf1-069da6eb4b5d",
   "metadata": {
    "tags": []
   },
   "outputs": [],
   "source": [
    "import findspark\n",
    "findspark.init()\n",
    "\n",
    "import pyspark\n",
    "from pyspark.sql import SparkSession\n",
    "from pyspark.sql.types import StringType, StructField, StructType, IntegerType, ArrayType\n",
    "from pyspark.sql.functions import col, lit, array\n",
    "\n",
    "spark = SparkSession.builder.appName(\"show\").getOrCreate()"
   ]
  },
  {
   "cell_type": "code",
   "execution_count": 28,
   "id": "0a8fc396",
   "metadata": {
    "tags": []
   },
   "outputs": [],
   "source": [
    "data = [('abc', [1,2]),('mno', [4,5]),('xyz', [7,8]) ]\n",
    "schema = ['id', 'numbers']"
   ]
  },
  {
   "cell_type": "code",
   "execution_count": 29,
   "id": "f25d8ad0-7ed7-4186-bcb5-01c6d5c189af",
   "metadata": {},
   "outputs": [],
   "source": [
    "df = spark.createDataFrame(data, schema)"
   ]
  },
  {
   "cell_type": "code",
   "execution_count": 30,
   "id": "9e4a4ca8-5696-47dc-9faa-60ac9750ca7a",
   "metadata": {
    "tags": []
   },
   "outputs": [
    {
     "name": "stdout",
     "output_type": "stream",
     "text": [
      "+---+-------+\n",
      "| id|numbers|\n",
      "+---+-------+\n",
      "|abc| [1, 2]|\n",
      "|mno| [4, 5]|\n",
      "|xyz| [7, 8]|\n",
      "+---+-------+\n",
      "\n"
     ]
    }
   ],
   "source": [
    "df.show()"
   ]
  },
  {
   "cell_type": "code",
   "execution_count": 31,
   "id": "ab0e0662-ee5e-43e4-ba6e-7c33a329ee26",
   "metadata": {
    "tags": []
   },
   "outputs": [
    {
     "name": "stdout",
     "output_type": "stream",
     "text": [
      "root\n",
      " |-- id: string (nullable = true)\n",
      " |-- numbers: array (nullable = true)\n",
      " |    |-- element: long (containsNull = true)\n",
      "\n"
     ]
    }
   ],
   "source": [
    "df.printSchema()"
   ]
  },
  {
   "cell_type": "markdown",
   "id": "59b5e54e-3859-40e1-a4fa-fd37338c96f3",
   "metadata": {},
   "source": [
    "### ArrayType"
   ]
  },
  {
   "cell_type": "code",
   "execution_count": 32,
   "id": "37198f16-50b7-49a8-8261-75fe22a88f8c",
   "metadata": {
    "tags": []
   },
   "outputs": [],
   "source": [
    "data2 = [('abc', [1,2]),('mno', [4,5]),('xyz', [7,8]) ]"
   ]
  },
  {
   "cell_type": "code",
   "execution_count": 33,
   "id": "d56c009b-8f18-4032-b2e4-2c45d0632a31",
   "metadata": {
    "tags": []
   },
   "outputs": [],
   "source": [
    "schema2 = StructType([StructField(name=\"id\", dataType=StringType()),StructField(name=\"numbers\", dataType=ArrayType(IntegerType()))])"
   ]
  },
  {
   "cell_type": "code",
   "execution_count": 34,
   "id": "bb22b7a8-442f-4f5b-a12b-ceefd2df22d7",
   "metadata": {
    "tags": []
   },
   "outputs": [],
   "source": [
    "df2 = spark.createDataFrame(data2, schema2)"
   ]
  },
  {
   "cell_type": "code",
   "execution_count": 35,
   "id": "049c0cfa-49b1-4e93-b278-6a97a725b2a3",
   "metadata": {
    "tags": []
   },
   "outputs": [
    {
     "name": "stdout",
     "output_type": "stream",
     "text": [
      "+---+-------+\n",
      "| id|numbers|\n",
      "+---+-------+\n",
      "|abc| [1, 2]|\n",
      "|mno| [4, 5]|\n",
      "|xyz| [7, 8]|\n",
      "+---+-------+\n",
      "\n"
     ]
    }
   ],
   "source": [
    "df2.show()"
   ]
  },
  {
   "cell_type": "code",
   "execution_count": 36,
   "id": "387e530c-8efe-4246-afc2-cf4c3d09fc05",
   "metadata": {
    "tags": []
   },
   "outputs": [
    {
     "name": "stdout",
     "output_type": "stream",
     "text": [
      "root\n",
      " |-- id: string (nullable = true)\n",
      " |-- numbers: array (nullable = true)\n",
      " |    |-- element: integer (containsNull = true)\n",
      "\n"
     ]
    }
   ],
   "source": [
    "df2.printSchema()"
   ]
  },
  {
   "cell_type": "code",
   "execution_count": 37,
   "id": "7e5f0501-8f3b-4805-945c-2b99fbcf0a20",
   "metadata": {
    "tags": []
   },
   "outputs": [
    {
     "name": "stdout",
     "output_type": "stream",
     "text": [
      "+---+-------+-----------+\n",
      "| id|numbers|firstNumber|\n",
      "+---+-------+-----------+\n",
      "|abc| [1, 2]|          1|\n",
      "|mno| [4, 5]|          4|\n",
      "|xyz| [7, 8]|          7|\n",
      "+---+-------+-----------+\n",
      "\n"
     ]
    }
   ],
   "source": [
    "df2.withColumn('firstNumber', col('numbers')[0]).show()"
   ]
  },
  {
   "cell_type": "code",
   "execution_count": 39,
   "id": "3617cc9b-8ed0-455c-871d-8530a9d525c0",
   "metadata": {
    "tags": []
   },
   "outputs": [
    {
     "name": "stdout",
     "output_type": "stream",
     "text": [
      "+----+----+-------+\n",
      "|num1|num2|numbers|\n",
      "+----+----+-------+\n",
      "|   1|   2| [1, 2]|\n",
      "|   3|   4| [3, 4]|\n",
      "+----+----+-------+\n",
      "\n"
     ]
    }
   ],
   "source": [
    "d = [(1,2), (3,4)]\n",
    "s = ['num1', 'num2']\n",
    "\n",
    "df = spark.createDataFrame(d, s)\n",
    "df1 = df.withColumn('numbers', array(col('num1'), col('num2')))\n",
    "df1.show()"
   ]
  },
  {
   "cell_type": "code",
   "execution_count": null,
   "id": "fd27b05c-d346-4bfc-b002-5e065f5aa768",
   "metadata": {},
   "outputs": [],
   "source": []
  }
 ],
 "metadata": {
  "kernelspec": {
   "display_name": "Python 3 (ipykernel)",
   "language": "python",
   "name": "python3"
  },
  "language_info": {
   "codemirror_mode": {
    "name": "ipython",
    "version": 3
   },
   "file_extension": ".py",
   "mimetype": "text/x-python",
   "name": "python",
   "nbconvert_exporter": "python",
   "pygments_lexer": "ipython3",
   "version": "3.9.18"
  }
 },
 "nbformat": 4,
 "nbformat_minor": 5
}
