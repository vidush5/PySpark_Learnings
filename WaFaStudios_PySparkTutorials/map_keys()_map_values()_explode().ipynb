{
 "cells": [
  {
   "cell_type": "code",
   "execution_count": 8,
   "id": "1ad64cf9-59ee-4c33-8bf1-069da6eb4b5d",
   "metadata": {
    "tags": []
   },
   "outputs": [],
   "source": [
    "import findspark\n",
    "findspark.init()\n",
    "\n",
    "import pyspark\n",
    "from pyspark.sql import SparkSession\n",
    "from pyspark.sql.types import StringType, StructField, StructType, IntegerType, ArrayType\n",
    "from pyspark.sql.functions import col, lit, array, explode, map_keys, map_values\n",
    "\n",
    "spark = SparkSession.builder.appName(\"show\").getOrCreate()"
   ]
  },
  {
   "cell_type": "code",
   "execution_count": 9,
   "id": "0a8fc396",
   "metadata": {
    "tags": []
   },
   "outputs": [],
   "source": [
    "data = [('maheer', {'hair': 'black', 'eye': 'brown'}),\n",
    "        ('wafa', {'hair': 'black', 'eye': 'blue'})]\n",
    "\n",
    "\n",
    "schema = ['name', 'properties']"
   ]
  },
  {
   "cell_type": "code",
   "execution_count": 10,
   "id": "f25d8ad0-7ed7-4186-bcb5-01c6d5c189af",
   "metadata": {},
   "outputs": [],
   "source": [
    "df = spark.createDataFrame(data, schema)"
   ]
  },
  {
   "cell_type": "code",
   "execution_count": 11,
   "id": "9e4a4ca8-5696-47dc-9faa-60ac9750ca7a",
   "metadata": {
    "tags": []
   },
   "outputs": [
    {
     "name": "stdout",
     "output_type": "stream",
     "text": [
      "+------+-----------------------------+\n",
      "|name  |properties                   |\n",
      "+------+-----------------------------+\n",
      "|maheer|{eye -> brown, hair -> black}|\n",
      "|wafa  |{eye -> blue, hair -> black} |\n",
      "+------+-----------------------------+\n",
      "\n"
     ]
    }
   ],
   "source": [
    "df.show(truncate=False)"
   ]
  },
  {
   "cell_type": "code",
   "execution_count": 12,
   "id": "ab0e0662-ee5e-43e4-ba6e-7c33a329ee26",
   "metadata": {
    "tags": []
   },
   "outputs": [
    {
     "name": "stdout",
     "output_type": "stream",
     "text": [
      "root\n",
      " |-- name: string (nullable = true)\n",
      " |-- properties: map (nullable = true)\n",
      " |    |-- key: string\n",
      " |    |-- value: string (valueContainsNull = true)\n",
      "\n"
     ]
    }
   ],
   "source": [
    "df.printSchema()"
   ]
  },
  {
   "cell_type": "code",
   "execution_count": 13,
   "id": "75206072-a092-473f-8410-abcd7985336f",
   "metadata": {
    "tags": []
   },
   "outputs": [],
   "source": [
    "from pyspark.sql.types import MapType"
   ]
  },
  {
   "cell_type": "markdown",
   "id": "7cfbb80e-2f52-4fda-a679-d5b659e0a4f2",
   "metadata": {},
   "source": [
    "### explode()"
   ]
  },
  {
   "cell_type": "code",
   "execution_count": 14,
   "id": "5da408d8-3964-4f4f-a4f7-fda2059a1b28",
   "metadata": {
    "tags": []
   },
   "outputs": [
    {
     "name": "stdout",
     "output_type": "stream",
     "text": [
      "+------+-----------------------------+----+-----+\n",
      "|name  |properties                   |key |value|\n",
      "+------+-----------------------------+----+-----+\n",
      "|maheer|{eye -> brown, hair -> black}|eye |brown|\n",
      "|maheer|{eye -> brown, hair -> black}|hair|black|\n",
      "|wafa  |{eye -> blue, hair -> black} |eye |blue |\n",
      "|wafa  |{eye -> blue, hair -> black} |hair|black|\n",
      "+------+-----------------------------+----+-----+\n",
      "\n"
     ]
    }
   ],
   "source": [
    "df.select('name', 'properties', explode(df.properties)).show(truncate=False)"
   ]
  },
  {
   "cell_type": "markdown",
   "id": "91b9726a-f601-4b90-9595-b7bd4f71e6b2",
   "metadata": {},
   "source": [
    "### map_keys()"
   ]
  },
  {
   "cell_type": "code",
   "execution_count": 17,
   "id": "3cbe50c9-bfd4-4600-bc0d-50d18461db5c",
   "metadata": {
    "tags": []
   },
   "outputs": [
    {
     "name": "stdout",
     "output_type": "stream",
     "text": [
      "+------+-----------------------------+-----------+\n",
      "|name  |properties                   |keys       |\n",
      "+------+-----------------------------+-----------+\n",
      "|maheer|{eye -> brown, hair -> black}|[eye, hair]|\n",
      "|wafa  |{eye -> blue, hair -> black} |[eye, hair]|\n",
      "+------+-----------------------------+-----------+\n",
      "\n"
     ]
    }
   ],
   "source": [
    "df.select('name', 'properties', map_keys(df.properties).alias('keys')).show(truncate=False)"
   ]
  },
  {
   "cell_type": "markdown",
   "id": "d8d41765-b238-4771-8a71-ad00473932df",
   "metadata": {},
   "source": [
    "### map_values()"
   ]
  },
  {
   "cell_type": "code",
   "execution_count": 18,
   "id": "cfc17189-6de7-4e57-adc3-838c435bacfe",
   "metadata": {
    "tags": []
   },
   "outputs": [
    {
     "name": "stdout",
     "output_type": "stream",
     "text": [
      "+------+-----------------------------+--------------+\n",
      "|name  |properties                   |values        |\n",
      "+------+-----------------------------+--------------+\n",
      "|maheer|{eye -> brown, hair -> black}|[brown, black]|\n",
      "|wafa  |{eye -> blue, hair -> black} |[blue, black] |\n",
      "+------+-----------------------------+--------------+\n",
      "\n"
     ]
    }
   ],
   "source": [
    "df.select('name', 'properties', map_values(df.properties).alias('values')).show(truncate=False)"
   ]
  },
  {
   "cell_type": "code",
   "execution_count": null,
   "id": "411fa6df-10c5-48b8-974d-a4058b9712ac",
   "metadata": {},
   "outputs": [],
   "source": []
  }
 ],
 "metadata": {
  "kernelspec": {
   "display_name": "Python 3 (ipykernel)",
   "language": "python",
   "name": "python3"
  },
  "language_info": {
   "codemirror_mode": {
    "name": "ipython",
    "version": 3
   },
   "file_extension": ".py",
   "mimetype": "text/x-python",
   "name": "python",
   "nbconvert_exporter": "python",
   "pygments_lexer": "ipython3",
   "version": "3.9.18"
  }
 },
 "nbformat": 4,
 "nbformat_minor": 5
}
