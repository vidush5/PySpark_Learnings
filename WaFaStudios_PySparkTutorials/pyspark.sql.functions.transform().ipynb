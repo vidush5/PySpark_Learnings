{
 "cells": [
  {
   "cell_type": "code",
   "execution_count": 1,
   "id": "1ad64cf9-59ee-4c33-8bf1-069da6eb4b5d",
   "metadata": {
    "tags": []
   },
   "outputs": [],
   "source": [
    "import findspark\n",
    "findspark.init()\n",
    "\n",
    "import pyspark\n",
    "from pyspark.sql import SparkSession\n",
    "from pyspark.sql.types import StringType, StructField, StructType, IntegerType, ArrayType\n",
    "from pyspark.sql.functions import col, lit, array, explode, map_keys, map_values\n",
    "from pyspark.sql import Row\n",
    "\n",
    "spark = SparkSession.builder.appName(\"show\").getOrCreate()"
   ]
  },
  {
   "cell_type": "code",
   "execution_count": 2,
   "id": "e4d5c28a-e333-4aa5-b48a-7762d98017d8",
   "metadata": {},
   "outputs": [],
   "source": [
    "from pyspark.sql.functions import when"
   ]
  },
  {
   "cell_type": "code",
   "execution_count": 3,
   "id": "e1f364e5-398b-44e5-9688-c5e4251312ae",
   "metadata": {},
   "outputs": [
    {
     "name": "stdout",
     "output_type": "stream",
     "text": [
      "+---+------+--------------+\n",
      "| id|  name|        skills|\n",
      "+---+------+--------------+\n",
      "|  1|Maheer|[azure, dotnt]|\n",
      "|  2|  wafa|   [aws, java]|\n",
      "+---+------+--------------+\n",
      "\n"
     ]
    }
   ],
   "source": [
    "data = [(1, 'Maheer', ['azure', 'dotnt']),\n",
    "       (2, 'wafa', ['aws', 'java'])]\n",
    "\n",
    "schema = ['id', 'name', 'skills']\n",
    "\n",
    "df = spark.createDataFrame(data, schema)\n",
    "\n",
    "df.show()"
   ]
  },
  {
   "cell_type": "code",
   "execution_count": 4,
   "id": "e7784604-9896-4269-b64d-f41102731d51",
   "metadata": {},
   "outputs": [
    {
     "name": "stdout",
     "output_type": "stream",
     "text": [
      "root\n",
      " |-- id: long (nullable = true)\n",
      " |-- name: string (nullable = true)\n",
      " |-- skills: array (nullable = true)\n",
      " |    |-- element: string (containsNull = true)\n",
      "\n"
     ]
    }
   ],
   "source": [
    "df.printSchema()"
   ]
  },
  {
   "cell_type": "code",
   "execution_count": 7,
   "id": "797478b8-90e3-4b2e-a326-8fd88cfc0bae",
   "metadata": {
    "tags": []
   },
   "outputs": [],
   "source": [
    "from pyspark.sql.functions import transform, upper"
   ]
  },
  {
   "cell_type": "code",
   "execution_count": 8,
   "id": "64ffc34d-79ec-4368-a98d-efe64836350e",
   "metadata": {
    "tags": []
   },
   "outputs": [
    {
     "name": "stdout",
     "output_type": "stream",
     "text": [
      "+---+------+--------------+\n",
      "| id|  name|        skills|\n",
      "+---+------+--------------+\n",
      "|  1|Maheer|[AZURE, DOTNT]|\n",
      "|  2|  wafa|   [AWS, JAVA]|\n",
      "+---+------+--------------+\n",
      "\n"
     ]
    }
   ],
   "source": [
    "df.select('id', 'name', transform('skills', lambda x: upper(x)).alias('skills')).show()"
   ]
  },
  {
   "cell_type": "code",
   "execution_count": 9,
   "id": "b597bd43-2014-4cf3-9730-4169060b3cda",
   "metadata": {
    "tags": []
   },
   "outputs": [],
   "source": [
    "def convertToUpper1(x):\n",
    "    return upper(x)"
   ]
  },
  {
   "cell_type": "code",
   "execution_count": 10,
   "id": "0230a21b-f777-4bdf-a432-1cf338a2f839",
   "metadata": {
    "tags": []
   },
   "outputs": [
    {
     "name": "stdout",
     "output_type": "stream",
     "text": [
      "+--------------------------------------------------------------------------------------+\n",
      "|transform(skills, lambdafunction(upper(namedlambdavariable()), namedlambdavariable()))|\n",
      "+--------------------------------------------------------------------------------------+\n",
      "|                                                                        [AZURE, DOTNT]|\n",
      "|                                                                           [AWS, JAVA]|\n",
      "+--------------------------------------------------------------------------------------+\n",
      "\n"
     ]
    }
   ],
   "source": [
    "df.select(transform('skills', convertToUpper1)).show()"
   ]
  },
  {
   "cell_type": "code",
   "execution_count": null,
   "id": "6bfeb0ab-61a7-4d16-a2e7-8412c6aca8db",
   "metadata": {},
   "outputs": [],
   "source": []
  }
 ],
 "metadata": {
  "kernelspec": {
   "display_name": "Python 3 (ipykernel)",
   "language": "python",
   "name": "python3"
  },
  "language_info": {
   "codemirror_mode": {
    "name": "ipython",
    "version": 3
   },
   "file_extension": ".py",
   "mimetype": "text/x-python",
   "name": "python",
   "nbconvert_exporter": "python",
   "pygments_lexer": "ipython3",
   "version": "3.9.18"
  }
 },
 "nbformat": 4,
 "nbformat_minor": 5
}
