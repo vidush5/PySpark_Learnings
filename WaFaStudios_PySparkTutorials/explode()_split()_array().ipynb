{
 "cells": [
  {
   "cell_type": "code",
   "execution_count": 51,
   "id": "1ad64cf9-59ee-4c33-8bf1-069da6eb4b5d",
   "metadata": {
    "tags": []
   },
   "outputs": [],
   "source": [
    "import findspark\n",
    "findspark.init()\n",
    "\n",
    "import pyspark\n",
    "from pyspark.sql import SparkSession\n",
    "from pyspark.sql.types import StringType, StructField, StructType, IntegerType, ArrayType\n",
    "from pyspark.sql.functions import col, lit, array\n",
    "\n",
    "spark = SparkSession.builder.appName(\"show\").getOrCreate()"
   ]
  },
  {
   "cell_type": "code",
   "execution_count": 52,
   "id": "800bed51-2114-4e11-a5c5-5b83fa399dc9",
   "metadata": {
    "tags": []
   },
   "outputs": [],
   "source": [
    "from pyspark.sql.functions import explode"
   ]
  },
  {
   "cell_type": "code",
   "execution_count": 53,
   "id": "0a8fc396",
   "metadata": {
    "tags": []
   },
   "outputs": [],
   "source": [
    "data = [('abc', [1,2]),('mno', [4,5]),('xyz', [7,8]) ]"
   ]
  },
  {
   "cell_type": "code",
   "execution_count": 54,
   "id": "368c46c3-3b01-4cd8-9fbb-da4261a779da",
   "metadata": {},
   "outputs": [],
   "source": [
    "schema = StructType([ StructField(\"id\", StringType()), StructField(\"numbers\", ArrayType(IntegerType()))])"
   ]
  },
  {
   "cell_type": "code",
   "execution_count": 55,
   "id": "f25d8ad0-7ed7-4186-bcb5-01c6d5c189af",
   "metadata": {},
   "outputs": [],
   "source": [
    "df = spark.createDataFrame(data, schema)"
   ]
  },
  {
   "cell_type": "code",
   "execution_count": 56,
   "id": "9e4a4ca8-5696-47dc-9faa-60ac9750ca7a",
   "metadata": {
    "tags": []
   },
   "outputs": [
    {
     "name": "stdout",
     "output_type": "stream",
     "text": [
      "+---+-------+\n",
      "| id|numbers|\n",
      "+---+-------+\n",
      "|abc| [1, 2]|\n",
      "|mno| [4, 5]|\n",
      "|xyz| [7, 8]|\n",
      "+---+-------+\n",
      "\n"
     ]
    }
   ],
   "source": [
    "df.show()"
   ]
  },
  {
   "cell_type": "code",
   "execution_count": 57,
   "id": "ab0e0662-ee5e-43e4-ba6e-7c33a329ee26",
   "metadata": {
    "tags": []
   },
   "outputs": [
    {
     "name": "stdout",
     "output_type": "stream",
     "text": [
      "root\n",
      " |-- id: string (nullable = true)\n",
      " |-- numbers: array (nullable = true)\n",
      " |    |-- element: integer (containsNull = true)\n",
      "\n"
     ]
    }
   ],
   "source": [
    "df.printSchema()"
   ]
  },
  {
   "cell_type": "markdown",
   "id": "d253d210-1312-40f9-be65-52f31ca4cd18",
   "metadata": {},
   "source": [
    "### explode()"
   ]
  },
  {
   "cell_type": "code",
   "execution_count": 58,
   "id": "f4f5e93b-e9c9-4f89-a08a-1f081b0674e0",
   "metadata": {
    "tags": []
   },
   "outputs": [
    {
     "name": "stdout",
     "output_type": "stream",
     "text": [
      "+---+-------+-----------+\n",
      "| id|numbers|explodedCol|\n",
      "+---+-------+-----------+\n",
      "|abc| [1, 2]|          1|\n",
      "|abc| [1, 2]|          2|\n",
      "|mno| [4, 5]|          4|\n",
      "|mno| [4, 5]|          5|\n",
      "|xyz| [7, 8]|          7|\n",
      "|xyz| [7, 8]|          8|\n",
      "+---+-------+-----------+\n",
      "\n"
     ]
    }
   ],
   "source": [
    "df1 = df.withColumn('explodedCol', explode(col('numbers')))\n",
    "df1.show()"
   ]
  },
  {
   "cell_type": "code",
   "execution_count": 59,
   "id": "fd27b05c-d346-4bfc-b002-5e065f5aa768",
   "metadata": {},
   "outputs": [
    {
     "name": "stdout",
     "output_type": "stream",
     "text": [
      "+---+-----------+\n",
      "| id|explodedCol|\n",
      "+---+-----------+\n",
      "|abc|          1|\n",
      "|abc|          2|\n",
      "|mno|          4|\n",
      "|mno|          5|\n",
      "|xyz|          7|\n",
      "|xyz|          8|\n",
      "+---+-----------+\n",
      "\n"
     ]
    }
   ],
   "source": [
    "df2 = df.withColumn('explodedCol', explode(col('numbers'))).select('id', 'explodedCol')\n",
    "df2.show()"
   ]
  },
  {
   "cell_type": "markdown",
   "id": "21ffb39a-a99d-4048-ac50-a452ccb23ad9",
   "metadata": {},
   "source": [
    "### split()"
   ]
  },
  {
   "cell_type": "code",
   "execution_count": 60,
   "id": "88fd1003-3ff6-484b-9f22-f1960d96c557",
   "metadata": {
    "tags": []
   },
   "outputs": [],
   "source": [
    "from pyspark.sql.functions import split\n",
    "\n",
    "datas = [(1, 'maheer', '.net, azure, sql'), \n",
    "        (2, 'wafa', 'java, aws, sql')]\n",
    "\n",
    "schemas = [\"id\", \"name\", \"skills\"]"
   ]
  },
  {
   "cell_type": "code",
   "execution_count": 61,
   "id": "f9096c10-0173-44c3-83af-231a3c5a1cfb",
   "metadata": {
    "tags": []
   },
   "outputs": [],
   "source": [
    "dtf = spark.createDataFrame(datas, schemas)"
   ]
  },
  {
   "cell_type": "code",
   "execution_count": 62,
   "id": "b4a3c9a2-8733-416a-a5c0-eaf18503a33d",
   "metadata": {
    "tags": []
   },
   "outputs": [
    {
     "name": "stdout",
     "output_type": "stream",
     "text": [
      "+---+------+----------------+\n",
      "| id|  name|          skills|\n",
      "+---+------+----------------+\n",
      "|  1|maheer|.net, azure, sql|\n",
      "|  2|  wafa|  java, aws, sql|\n",
      "+---+------+----------------+\n",
      "\n"
     ]
    }
   ],
   "source": [
    "dtf.show()"
   ]
  },
  {
   "cell_type": "code",
   "execution_count": 63,
   "id": "35669d29-07ba-4679-b0f6-7e460e5f7ea5",
   "metadata": {
    "tags": []
   },
   "outputs": [
    {
     "name": "stdout",
     "output_type": "stream",
     "text": [
      "+---+------+--------------------+\n",
      "| id|  name|              skills|\n",
      "+---+------+--------------------+\n",
      "|  1|maheer|[.net,  azure,  sql]|\n",
      "|  2|  wafa|  [java,  aws,  sql]|\n",
      "+---+------+--------------------+\n",
      "\n"
     ]
    }
   ],
   "source": [
    "dtf = dtf.withColumn('skills', split('skills', ','))\n",
    "\n",
    "dtf.show()"
   ]
  },
  {
   "cell_type": "markdown",
   "id": "c6d35cf4-fd09-40cc-9ba5-55e7b194aa3b",
   "metadata": {},
   "source": [
    "### array()"
   ]
  },
  {
   "cell_type": "code",
   "execution_count": 64,
   "id": "30981e6c-006c-433a-8b4f-bcfdbbe46abd",
   "metadata": {
    "tags": []
   },
   "outputs": [],
   "source": [
    "from pyspark.sql.functions import array"
   ]
  },
  {
   "cell_type": "code",
   "execution_count": 65,
   "id": "07611e7b-75e7-42da-b4bb-5943d6ccfcda",
   "metadata": {
    "tags": []
   },
   "outputs": [],
   "source": [
    "dta = [(1, 'maheer', '.net', 'azure'), (2, 'wafa', 'java', 'aws')]\n",
    "\n",
    "sch = [\"id\", \"name\", \"primarySkill\", \"secondarySkill\"]\n",
    "\n",
    "dfa = spark.createDataFrame(dta, sch)"
   ]
  },
  {
   "cell_type": "code",
   "execution_count": 66,
   "id": "5d379aa7-3f02-4108-af51-8b63694d3a48",
   "metadata": {
    "tags": []
   },
   "outputs": [
    {
     "name": "stdout",
     "output_type": "stream",
     "text": [
      "+---+------+------------+--------------+\n",
      "| id|  name|primarySkill|secondarySkill|\n",
      "+---+------+------------+--------------+\n",
      "|  1|maheer|        .net|         azure|\n",
      "|  2|  wafa|        java|           aws|\n",
      "+---+------+------------+--------------+\n",
      "\n"
     ]
    }
   ],
   "source": [
    "dfa.show()"
   ]
  },
  {
   "cell_type": "code",
   "execution_count": 67,
   "id": "64bce9a2-2e57-4707-a6aa-ab55c07853c3",
   "metadata": {
    "tags": []
   },
   "outputs": [
    {
     "name": "stdout",
     "output_type": "stream",
     "text": [
      "+---+------+------------+--------------+-------------+\n",
      "| id|  name|primarySkill|secondarySkill|       skills|\n",
      "+---+------+------------+--------------+-------------+\n",
      "|  1|maheer|        .net|         azure|[.net, azure]|\n",
      "|  2|  wafa|        java|           aws|  [java, aws]|\n",
      "+---+------+------------+--------------+-------------+\n",
      "\n"
     ]
    }
   ],
   "source": [
    "dfa2 = dfa.withColumn(\"skills\", array(col('primarySkill'), col('secondarySkill')))\n",
    "\n",
    "dfa2.show()"
   ]
  },
  {
   "cell_type": "markdown",
   "id": "0ff8241b-11c9-4159-92fc-09ec1803e0d4",
   "metadata": {},
   "source": [
    "### array_contains()"
   ]
  },
  {
   "cell_type": "code",
   "execution_count": 68,
   "id": "3dc5c4fa-389b-4acd-87cc-c4f7038308ec",
   "metadata": {
    "tags": []
   },
   "outputs": [],
   "source": [
    "from pyspark.sql.functions import array_contains"
   ]
  },
  {
   "cell_type": "code",
   "execution_count": 70,
   "id": "1bc669fe-7f5f-4a37-9918-230002d4ffee",
   "metadata": {
    "tags": []
   },
   "outputs": [
    {
     "name": "stdout",
     "output_type": "stream",
     "text": [
      "+---+------+-------------+\n",
      "| id|  name|       skills|\n",
      "+---+------+-------------+\n",
      "|  1|maheer|[.net, azure]|\n",
      "|  2|  wafa|  [java, sql]|\n",
      "+---+------+-------------+\n",
      "\n"
     ]
    }
   ],
   "source": [
    "d = [(1, 'maheer', ['.net', 'azure']), (2, 'wafa', ['java', 'sql'])]\n",
    "\n",
    "s = ['id', 'name', 'skills']\n",
    "\n",
    "dfs = spark.createDataFrame(d, s)\n",
    "dfs.show()"
   ]
  },
  {
   "cell_type": "code",
   "execution_count": 71,
   "id": "aa553042-b97d-44bf-a89d-29e2d0b62660",
   "metadata": {
    "tags": []
   },
   "outputs": [
    {
     "name": "stdout",
     "output_type": "stream",
     "text": [
      "+---+------+-------------+------------+\n",
      "| id|  name|       skills|HasJavaSkill|\n",
      "+---+------+-------------+------------+\n",
      "|  1|maheer|[.net, azure]|       false|\n",
      "|  2|  wafa|  [java, sql]|        true|\n",
      "+---+------+-------------+------------+\n",
      "\n"
     ]
    }
   ],
   "source": [
    "dfc = dfs.withColumn('HasJavaSkill', array_contains(col('skills'), 'java'))\n",
    "\n",
    "dfc.show()"
   ]
  },
  {
   "cell_type": "code",
   "execution_count": null,
   "id": "e3083dd2-c796-4b65-b4da-6b8624ead163",
   "metadata": {},
   "outputs": [],
   "source": []
  }
 ],
 "metadata": {
  "kernelspec": {
   "display_name": "Python 3 (ipykernel)",
   "language": "python",
   "name": "python3"
  },
  "language_info": {
   "codemirror_mode": {
    "name": "ipython",
    "version": 3
   },
   "file_extension": ".py",
   "mimetype": "text/x-python",
   "name": "python",
   "nbconvert_exporter": "python",
   "pygments_lexer": "ipython3",
   "version": "3.9.18"
  }
 },
 "nbformat": 4,
 "nbformat_minor": 5
}
