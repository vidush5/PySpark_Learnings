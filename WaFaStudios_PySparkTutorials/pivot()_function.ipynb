{
 "cells": [
  {
   "cell_type": "code",
   "execution_count": 13,
   "id": "1ad64cf9-59ee-4c33-8bf1-069da6eb4b5d",
   "metadata": {
    "tags": []
   },
   "outputs": [],
   "source": [
    "import findspark\n",
    "findspark.init()\n",
    "\n",
    "import pyspark\n",
    "from pyspark.sql import SparkSession\n",
    "from pyspark.sql.types import StringType, StructField, StructType, IntegerType, ArrayType\n",
    "from pyspark.sql.functions import col, lit, array, explode, map_keys, map_values\n",
    "from pyspark.sql import Row\n",
    "\n",
    "spark = SparkSession.builder.appName(\"show\").getOrCreate()"
   ]
  },
  {
   "cell_type": "code",
   "execution_count": 14,
   "id": "e4d5c28a-e333-4aa5-b48a-7762d98017d8",
   "metadata": {},
   "outputs": [],
   "source": [
    "from pyspark.sql.functions import when"
   ]
  },
  {
   "cell_type": "code",
   "execution_count": 15,
   "id": "81f14a72-aaef-4209-a534-5af6ee061156",
   "metadata": {},
   "outputs": [
    {
     "name": "stdout",
     "output_type": "stream",
     "text": [
      "+---+--------+------+---+\n",
      "| id|    name|gender|dep|\n",
      "+---+--------+------+---+\n",
      "|  1|  maheer|  male| IT|\n",
      "|  2|    wafa|  male| IT|\n",
      "|  3|     asi|female| HR|\n",
      "|  4|    annu|female| IT|\n",
      "|  5|  shakti|female| IT|\n",
      "|  6| pradeep|  male| HR|\n",
      "|  7|sarfaraj|  male| HR|\n",
      "|  8|  ayesha|female| IT|\n",
      "+---+--------+------+---+\n",
      "\n"
     ]
    }
   ],
   "source": [
    "data = [(1, 'maheer', 'male', 'IT'),\n",
    "        (2, 'wafa','male', 'IT'),\n",
    "        (3, 'asi', 'female', 'HR'),\n",
    "        (4, 'annu','female', 'IT'),\n",
    "        (5, 'shakti','female', 'IT'),\n",
    "        (6, 'pradeep','male', 'HR'),\n",
    "        (7, 'sarfaraj','male', 'HR'),\n",
    "        (8, 'ayesha','female', 'IT'),]\n",
    "\n",
    "schema = ['id', 'name', 'gender', 'dep']\n",
    "\n",
    "\n",
    "df = spark.createDataFrame(data, schema)\n",
    "\n",
    "df.show()"
   ]
  },
  {
   "cell_type": "code",
   "execution_count": 16,
   "id": "33ad54c7-5bd7-40c4-8b8b-db2524aa742c",
   "metadata": {
    "tags": []
   },
   "outputs": [
    {
     "name": "stdout",
     "output_type": "stream",
     "text": [
      "+---+------+----+\n",
      "|dep|female|male|\n",
      "+---+------+----+\n",
      "| HR|     1|   2|\n",
      "| IT|     3|   2|\n",
      "+---+------+----+\n",
      "\n"
     ]
    }
   ],
   "source": [
    "df.groupBy('dep').pivot('gender').count().show()"
   ]
  },
  {
   "cell_type": "code",
   "execution_count": 17,
   "id": "e0c08ed6-afc1-4ff9-b614-a2e2f1658316",
   "metadata": {
    "tags": []
   },
   "outputs": [
    {
     "name": "stdout",
     "output_type": "stream",
     "text": [
      "+---+------+-----+\n",
      "|dep|gender|count|\n",
      "+---+------+-----+\n",
      "| IT|  male|    2|\n",
      "| HR|female|    1|\n",
      "| IT|female|    3|\n",
      "| HR|  male|    2|\n",
      "+---+------+-----+\n",
      "\n"
     ]
    }
   ],
   "source": [
    "df.groupBy('dep', 'gender').count().show()"
   ]
  },
  {
   "cell_type": "code",
   "execution_count": null,
   "id": "2456d6d4-e9ca-4df1-8820-9ac2c8a129c5",
   "metadata": {},
   "outputs": [],
   "source": []
  }
 ],
 "metadata": {
  "kernelspec": {
   "display_name": "Python 3 (ipykernel)",
   "language": "python",
   "name": "python3"
  },
  "language_info": {
   "codemirror_mode": {
    "name": "ipython",
    "version": 3
   },
   "file_extension": ".py",
   "mimetype": "text/x-python",
   "name": "python",
   "nbconvert_exporter": "python",
   "pygments_lexer": "ipython3",
   "version": "3.9.18"
  }
 },
 "nbformat": 4,
 "nbformat_minor": 5
}
