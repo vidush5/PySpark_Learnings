{
 "cells": [
  {
   "cell_type": "code",
   "execution_count": 1,
   "id": "e1d8d0a7-9569-4847-ba71-0713391a5951",
   "metadata": {},
   "outputs": [],
   "source": [
    "# Create SparkSession\n",
    "\n",
    "import findspark\n",
    "findspark.init()\n",
    "\n",
    "import pyspark\n",
    "\n",
    "from pyspark.sql import SparkSession"
   ]
  },
  {
   "cell_type": "code",
   "execution_count": 2,
   "id": "0069d75f-e5fc-44bc-b6ec-8c5a5d423567",
   "metadata": {},
   "outputs": [],
   "source": [
    "spark = SparkSession.builder.appName(\"Basic Transformation\").getOrCreate()"
   ]
  },
  {
   "cell_type": "code",
   "execution_count": 3,
   "id": "730502c8-b1b3-4d2b-a718-650faad960a0",
   "metadata": {},
   "outputs": [],
   "source": [
    "# Emp Data & Schema\n",
    "\n",
    "emp_data = [\n",
    "    [\"001\",\"101\",\"John Doe\",\"30\",\"Male\",\"50000\",\"2015-01-01\"],\n",
    "    [\"002\",\"101\",\"Jane Smith\",\"25\",\"Female\",\"45000\",\"2016-02-15\"],\n",
    "    [\"003\",\"102\",\"Bob Brown\",\"35\",\"Male\",\"55000\",\"2014-05-01\"],\n",
    "    [\"004\",\"102\",\"Alice Lee\",\"28\",\"Female\",\"48000\",\"2017-09-30\"],\n",
    "    [\"005\",\"103\",\"Jack Chan\",\"40\",\"Male\",\"60000\",\"2013-04-01\"],\n",
    "    [\"006\",\"103\",\"Jill Wong\",\"32\",\"Female\",\"52000\",\"2018-07-01\"],\n",
    "    [\"007\",\"101\",\"James Johnson\",\"42\",\"Male\",\"70000\",\"2012-03-15\"],\n",
    "    [\"008\",\"102\",\"Kate Kim\",\"29\",\"Female\",\"51000\",\"2019-10-01\"],\n",
    "    [\"009\",\"103\",\"Tom Tan\",\"33\",\"Male\",\"58000\",\"2016-06-01\"],\n",
    "    [\"010\",\"104\",\"Lisa Lee\",\"27\",\"Female\",\"47000\",\"2018-08-01\"],\n",
    "    [\"011\",\"104\",\"David Park\",\"38\",\"Male\",\"65000\",\"2015-11-01\"],\n",
    "    [\"012\",\"105\",\"Susan Chen\",\"31\",\"Female\",\"54000\",\"2017-02-15\"],\n",
    "    [\"013\",\"106\",\"Brian Kim\",\"45\",\"Male\",\"75000\",\"2011-07-01\"],\n",
    "    [\"014\",\"107\",\"Emily Lee\",\"26\",\"Female\",\"46000\",\"2019-01-01\"],\n",
    "    [\"015\",\"106\",\"Michael Lee\",\"37\",\"Male\",\"63000\",\"2014-09-30\"],\n",
    "    [\"016\",\"107\",\"Kelly Zhang\",\"30\",\"Female\",\"49000\",\"2018-04-01\"],\n",
    "    [\"017\",\"105\",\"George Wang\",\"34\",\"Male\",\"57000\",\"2016-03-15\"],\n",
    "    [\"018\",\"104\",\"Nancy Liu\",\"29\",\"Female\",\"50000\",\"2017-06-01\"],\n",
    "    [\"019\",\"103\",\"Steven Chen\",\"36\",\"Male\",\"62000\",\"2015-08-01\"],\n",
    "    [\"020\",\"102\",\"Grace Kim\",\"32\",\"Female\",\"53000\",\"2018-11-01\"]\n",
    "]"
   ]
  },
  {
   "cell_type": "code",
   "execution_count": 4,
   "id": "24c4ff6b-4728-4e9c-a6fa-9cafec10fd15",
   "metadata": {},
   "outputs": [],
   "source": [
    "emp_schema = \"employee_id string, department_id string, name string, age string, gender string, salary string, hire_date string\""
   ]
  },
  {
   "cell_type": "code",
   "execution_count": 5,
   "id": "b9d9e9d9-ed19-4679-8414-a4c6b364ecb1",
   "metadata": {},
   "outputs": [],
   "source": [
    "# Create emp DataFrame\n",
    "\n",
    "emp = spark.createDataFrame(data=emp_data, schema=emp_schema)"
   ]
  },
  {
   "cell_type": "code",
   "execution_count": 6,
   "id": "fcd16976-74be-4cc5-9aff-7f63a0fde7d9",
   "metadata": {},
   "outputs": [
    {
     "name": "stdout",
     "output_type": "stream",
     "text": [
      "+-----------+-------------+-------------+---+------+------+----------+\n",
      "|employee_id|department_id|         name|age|gender|salary| hire_date|\n",
      "+-----------+-------------+-------------+---+------+------+----------+\n",
      "|        001|          101|     John Doe| 30|  Male| 50000|2015-01-01|\n",
      "|        002|          101|   Jane Smith| 25|Female| 45000|2016-02-15|\n",
      "|        003|          102|    Bob Brown| 35|  Male| 55000|2014-05-01|\n",
      "|        004|          102|    Alice Lee| 28|Female| 48000|2017-09-30|\n",
      "|        005|          103|    Jack Chan| 40|  Male| 60000|2013-04-01|\n",
      "|        006|          103|    Jill Wong| 32|Female| 52000|2018-07-01|\n",
      "|        007|          101|James Johnson| 42|  Male| 70000|2012-03-15|\n",
      "|        008|          102|     Kate Kim| 29|Female| 51000|2019-10-01|\n",
      "|        009|          103|      Tom Tan| 33|  Male| 58000|2016-06-01|\n",
      "|        010|          104|     Lisa Lee| 27|Female| 47000|2018-08-01|\n",
      "|        011|          104|   David Park| 38|  Male| 65000|2015-11-01|\n",
      "|        012|          105|   Susan Chen| 31|Female| 54000|2017-02-15|\n",
      "|        013|          106|    Brian Kim| 45|  Male| 75000|2011-07-01|\n",
      "|        014|          107|    Emily Lee| 26|Female| 46000|2019-01-01|\n",
      "|        015|          106|  Michael Lee| 37|  Male| 63000|2014-09-30|\n",
      "|        016|          107|  Kelly Zhang| 30|Female| 49000|2018-04-01|\n",
      "|        017|          105|  George Wang| 34|  Male| 57000|2016-03-15|\n",
      "|        018|          104|    Nancy Liu| 29|Female| 50000|2017-06-01|\n",
      "|        019|          103|  Steven Chen| 36|  Male| 62000|2015-08-01|\n",
      "|        020|          102|    Grace Kim| 32|Female| 53000|2018-11-01|\n",
      "+-----------+-------------+-------------+---+------+------+----------+\n",
      "\n"
     ]
    }
   ],
   "source": [
    "# Show data (ACTION)\n",
    "\n",
    "emp.show()"
   ]
  },
  {
   "cell_type": "code",
   "execution_count": 10,
   "id": "5805406b-215e-4496-9440-f58745d4c855",
   "metadata": {},
   "outputs": [],
   "source": [
    "# Casting Column\n",
    "#select employee_id, name, age, cast(salary as double) as salary from emp\n",
    "\n",
    "from pyspark.sql.functions import col, cast\n",
    "\n",
    "emp_casted = emp.select(\"employee_id\", \"name\", \"age\", col(\"salary\").cast(\"double\"))"
   ]
  },
  {
   "cell_type": "code",
   "execution_count": 11,
   "id": "495e2c7a-0333-4b6e-8d08-46c11940988b",
   "metadata": {},
   "outputs": [
    {
     "name": "stdout",
     "output_type": "stream",
     "text": [
      "+-----------+-------------+---+-------+\n",
      "|employee_id|         name|age| salary|\n",
      "+-----------+-------------+---+-------+\n",
      "|        001|     John Doe| 30|50000.0|\n",
      "|        002|   Jane Smith| 25|45000.0|\n",
      "|        003|    Bob Brown| 35|55000.0|\n",
      "|        004|    Alice Lee| 28|48000.0|\n",
      "|        005|    Jack Chan| 40|60000.0|\n",
      "|        006|    Jill Wong| 32|52000.0|\n",
      "|        007|James Johnson| 42|70000.0|\n",
      "|        008|     Kate Kim| 29|51000.0|\n",
      "|        009|      Tom Tan| 33|58000.0|\n",
      "|        010|     Lisa Lee| 27|47000.0|\n",
      "|        011|   David Park| 38|65000.0|\n",
      "|        012|   Susan Chen| 31|54000.0|\n",
      "|        013|    Brian Kim| 45|75000.0|\n",
      "|        014|    Emily Lee| 26|46000.0|\n",
      "|        015|  Michael Lee| 37|63000.0|\n",
      "|        016|  Kelly Zhang| 30|49000.0|\n",
      "|        017|  George Wang| 34|57000.0|\n",
      "|        018|    Nancy Liu| 29|50000.0|\n",
      "|        019|  Steven Chen| 36|62000.0|\n",
      "|        020|    Grace Kim| 32|53000.0|\n",
      "+-----------+-------------+---+-------+\n",
      "\n"
     ]
    }
   ],
   "source": [
    "emp_casted.show()"
   ]
  },
  {
   "cell_type": "code",
   "execution_count": 12,
   "id": "feba66cc-8b3b-4faa-ac33-1fa80564ec66",
   "metadata": {},
   "outputs": [
    {
     "name": "stdout",
     "output_type": "stream",
     "text": [
      "root\n",
      " |-- employee_id: string (nullable = true)\n",
      " |-- name: string (nullable = true)\n",
      " |-- age: string (nullable = true)\n",
      " |-- salary: double (nullable = true)\n",
      "\n"
     ]
    }
   ],
   "source": [
    "emp_casted.printSchema()"
   ]
  },
  {
   "cell_type": "code",
   "execution_count": 13,
   "id": "c6003d29-7755-4293-9a53-2b1be0875fbc",
   "metadata": {},
   "outputs": [],
   "source": [
    "# Adding Columns\n",
    "\n",
    "# select employee_id, name, age, salary, (salary * 0.2) as tax from emp_casted\n",
    "\n",
    "emp_taxed = emp_casted.withColumn(\"tax\", col(\"salary\") * 0.2)"
   ]
  },
  {
   "cell_type": "code",
   "execution_count": 14,
   "id": "56be30cd-e5f5-4859-b157-926fd3b2e223",
   "metadata": {},
   "outputs": [
    {
     "name": "stdout",
     "output_type": "stream",
     "text": [
      "+-----------+-------------+---+-------+-------+\n",
      "|employee_id|         name|age| salary|    tax|\n",
      "+-----------+-------------+---+-------+-------+\n",
      "|        001|     John Doe| 30|50000.0|10000.0|\n",
      "|        002|   Jane Smith| 25|45000.0| 9000.0|\n",
      "|        003|    Bob Brown| 35|55000.0|11000.0|\n",
      "|        004|    Alice Lee| 28|48000.0| 9600.0|\n",
      "|        005|    Jack Chan| 40|60000.0|12000.0|\n",
      "|        006|    Jill Wong| 32|52000.0|10400.0|\n",
      "|        007|James Johnson| 42|70000.0|14000.0|\n",
      "|        008|     Kate Kim| 29|51000.0|10200.0|\n",
      "|        009|      Tom Tan| 33|58000.0|11600.0|\n",
      "|        010|     Lisa Lee| 27|47000.0| 9400.0|\n",
      "|        011|   David Park| 38|65000.0|13000.0|\n",
      "|        012|   Susan Chen| 31|54000.0|10800.0|\n",
      "|        013|    Brian Kim| 45|75000.0|15000.0|\n",
      "|        014|    Emily Lee| 26|46000.0| 9200.0|\n",
      "|        015|  Michael Lee| 37|63000.0|12600.0|\n",
      "|        016|  Kelly Zhang| 30|49000.0| 9800.0|\n",
      "|        017|  George Wang| 34|57000.0|11400.0|\n",
      "|        018|    Nancy Liu| 29|50000.0|10000.0|\n",
      "|        019|  Steven Chen| 36|62000.0|12400.0|\n",
      "|        020|    Grace Kim| 32|53000.0|10600.0|\n",
      "+-----------+-------------+---+-------+-------+\n",
      "\n"
     ]
    }
   ],
   "source": [
    "emp_taxed.show()"
   ]
  },
  {
   "cell_type": "code",
   "execution_count": 15,
   "id": "6fbfa549-5082-47a9-b556-6d5b182e8d44",
   "metadata": {},
   "outputs": [],
   "source": [
    "# Literals \n",
    "\n",
    "# select employee_id, name, age, salary, tax, 1 as columnOne, 'two' as columnTwo from emp_taxed\n",
    "\n",
    "from pyspark.sql.functions import lit\n",
    "\n",
    "emp_new_cols = emp_taxed.withColumn(\"columnOne\", lit(1)).withColumn(\"columnTwo\", lit(\"two\"))"
   ]
  },
  {
   "cell_type": "code",
   "execution_count": 16,
   "id": "ff276f88-f6be-4902-a102-d9f852ea28e3",
   "metadata": {},
   "outputs": [
    {
     "name": "stdout",
     "output_type": "stream",
     "text": [
      "+-----------+-------------+---+-------+-------+---------+---------+\n",
      "|employee_id|         name|age| salary|    tax|columnOne|columnTwo|\n",
      "+-----------+-------------+---+-------+-------+---------+---------+\n",
      "|        001|     John Doe| 30|50000.0|10000.0|        1|      two|\n",
      "|        002|   Jane Smith| 25|45000.0| 9000.0|        1|      two|\n",
      "|        003|    Bob Brown| 35|55000.0|11000.0|        1|      two|\n",
      "|        004|    Alice Lee| 28|48000.0| 9600.0|        1|      two|\n",
      "|        005|    Jack Chan| 40|60000.0|12000.0|        1|      two|\n",
      "|        006|    Jill Wong| 32|52000.0|10400.0|        1|      two|\n",
      "|        007|James Johnson| 42|70000.0|14000.0|        1|      two|\n",
      "|        008|     Kate Kim| 29|51000.0|10200.0|        1|      two|\n",
      "|        009|      Tom Tan| 33|58000.0|11600.0|        1|      two|\n",
      "|        010|     Lisa Lee| 27|47000.0| 9400.0|        1|      two|\n",
      "|        011|   David Park| 38|65000.0|13000.0|        1|      two|\n",
      "|        012|   Susan Chen| 31|54000.0|10800.0|        1|      two|\n",
      "|        013|    Brian Kim| 45|75000.0|15000.0|        1|      two|\n",
      "|        014|    Emily Lee| 26|46000.0| 9200.0|        1|      two|\n",
      "|        015|  Michael Lee| 37|63000.0|12600.0|        1|      two|\n",
      "|        016|  Kelly Zhang| 30|49000.0| 9800.0|        1|      two|\n",
      "|        017|  George Wang| 34|57000.0|11400.0|        1|      two|\n",
      "|        018|    Nancy Liu| 29|50000.0|10000.0|        1|      two|\n",
      "|        019|  Steven Chen| 36|62000.0|12400.0|        1|      two|\n",
      "|        020|    Grace Kim| 32|53000.0|10600.0|        1|      two|\n",
      "+-----------+-------------+---+-------+-------+---------+---------+\n",
      "\n"
     ]
    }
   ],
   "source": [
    "emp_new_cols.show()"
   ]
  },
  {
   "cell_type": "code",
   "execution_count": 17,
   "id": "388007fc-235d-4ea8-b760-4b1b91462160",
   "metadata": {},
   "outputs": [],
   "source": [
    "# Renaming Columns\n",
    "\n",
    "# select employee_id as emp_id, name, age, salary, tax, columnOne, columnTwo from emp_new_cols\n",
    "\n",
    "emp_1 = emp_new_cols.withColumnRenamed(\"employee_id\", \"emp_id\")"
   ]
  },
  {
   "cell_type": "code",
   "execution_count": 18,
   "id": "c8607358-9c02-440b-97ed-220af565002c",
   "metadata": {},
   "outputs": [
    {
     "name": "stdout",
     "output_type": "stream",
     "text": [
      "+------+-------------+---+-------+-------+---------+---------+\n",
      "|emp_id|         name|age| salary|    tax|columnOne|columnTwo|\n",
      "+------+-------------+---+-------+-------+---------+---------+\n",
      "|   001|     John Doe| 30|50000.0|10000.0|        1|      two|\n",
      "|   002|   Jane Smith| 25|45000.0| 9000.0|        1|      two|\n",
      "|   003|    Bob Brown| 35|55000.0|11000.0|        1|      two|\n",
      "|   004|    Alice Lee| 28|48000.0| 9600.0|        1|      two|\n",
      "|   005|    Jack Chan| 40|60000.0|12000.0|        1|      two|\n",
      "|   006|    Jill Wong| 32|52000.0|10400.0|        1|      two|\n",
      "|   007|James Johnson| 42|70000.0|14000.0|        1|      two|\n",
      "|   008|     Kate Kim| 29|51000.0|10200.0|        1|      two|\n",
      "|   009|      Tom Tan| 33|58000.0|11600.0|        1|      two|\n",
      "|   010|     Lisa Lee| 27|47000.0| 9400.0|        1|      two|\n",
      "|   011|   David Park| 38|65000.0|13000.0|        1|      two|\n",
      "|   012|   Susan Chen| 31|54000.0|10800.0|        1|      two|\n",
      "|   013|    Brian Kim| 45|75000.0|15000.0|        1|      two|\n",
      "|   014|    Emily Lee| 26|46000.0| 9200.0|        1|      two|\n",
      "|   015|  Michael Lee| 37|63000.0|12600.0|        1|      two|\n",
      "|   016|  Kelly Zhang| 30|49000.0| 9800.0|        1|      two|\n",
      "|   017|  George Wang| 34|57000.0|11400.0|        1|      two|\n",
      "|   018|    Nancy Liu| 29|50000.0|10000.0|        1|      two|\n",
      "|   019|  Steven Chen| 36|62000.0|12400.0|        1|      two|\n",
      "|   020|    Grace Kim| 32|53000.0|10600.0|        1|      two|\n",
      "+------+-------------+---+-------+-------+---------+---------+\n",
      "\n"
     ]
    }
   ],
   "source": [
    "emp_1.show()"
   ]
  },
  {
   "cell_type": "code",
   "execution_count": 19,
   "id": "48ae123e-4e14-4641-b53b-db085806ba58",
   "metadata": {},
   "outputs": [],
   "source": [
    "# dropping a colummn\n",
    "\n",
    "emp_dropped = emp_new_cols.drop(\"columnTwo\")"
   ]
  },
  {
   "cell_type": "code",
   "execution_count": 20,
   "id": "7abad6b9-4fc0-40da-ad7d-e5d6652bde6d",
   "metadata": {},
   "outputs": [
    {
     "name": "stdout",
     "output_type": "stream",
     "text": [
      "+-----------+-------------+---+-------+-------+---------+\n",
      "|employee_id|         name|age| salary|    tax|columnOne|\n",
      "+-----------+-------------+---+-------+-------+---------+\n",
      "|        001|     John Doe| 30|50000.0|10000.0|        1|\n",
      "|        002|   Jane Smith| 25|45000.0| 9000.0|        1|\n",
      "|        003|    Bob Brown| 35|55000.0|11000.0|        1|\n",
      "|        004|    Alice Lee| 28|48000.0| 9600.0|        1|\n",
      "|        005|    Jack Chan| 40|60000.0|12000.0|        1|\n",
      "|        006|    Jill Wong| 32|52000.0|10400.0|        1|\n",
      "|        007|James Johnson| 42|70000.0|14000.0|        1|\n",
      "|        008|     Kate Kim| 29|51000.0|10200.0|        1|\n",
      "|        009|      Tom Tan| 33|58000.0|11600.0|        1|\n",
      "|        010|     Lisa Lee| 27|47000.0| 9400.0|        1|\n",
      "|        011|   David Park| 38|65000.0|13000.0|        1|\n",
      "|        012|   Susan Chen| 31|54000.0|10800.0|        1|\n",
      "|        013|    Brian Kim| 45|75000.0|15000.0|        1|\n",
      "|        014|    Emily Lee| 26|46000.0| 9200.0|        1|\n",
      "|        015|  Michael Lee| 37|63000.0|12600.0|        1|\n",
      "|        016|  Kelly Zhang| 30|49000.0| 9800.0|        1|\n",
      "|        017|  George Wang| 34|57000.0|11400.0|        1|\n",
      "|        018|    Nancy Liu| 29|50000.0|10000.0|        1|\n",
      "|        019|  Steven Chen| 36|62000.0|12400.0|        1|\n",
      "|        020|    Grace Kim| 32|53000.0|10600.0|        1|\n",
      "+-----------+-------------+---+-------+-------+---------+\n",
      "\n"
     ]
    }
   ],
   "source": [
    "emp_dropped.show()"
   ]
  },
  {
   "cell_type": "code",
   "execution_count": 21,
   "id": "023a2aba-25c2-43c4-8bd4-96f50cb1fa88",
   "metadata": {},
   "outputs": [],
   "source": [
    "emp_fil = emp_dropped.where(\"tax > 10000\").limit(5)"
   ]
  },
  {
   "cell_type": "code",
   "execution_count": 22,
   "id": "d0189217-06c7-433d-9603-ad3129c03c93",
   "metadata": {},
   "outputs": [
    {
     "name": "stdout",
     "output_type": "stream",
     "text": [
      "+-----------+-------------+---+-------+-------+---------+\n",
      "|employee_id|         name|age| salary|    tax|columnOne|\n",
      "+-----------+-------------+---+-------+-------+---------+\n",
      "|        003|    Bob Brown| 35|55000.0|11000.0|        1|\n",
      "|        005|    Jack Chan| 40|60000.0|12000.0|        1|\n",
      "|        006|    Jill Wong| 32|52000.0|10400.0|        1|\n",
      "|        007|James Johnson| 42|70000.0|14000.0|        1|\n",
      "|        008|     Kate Kim| 29|51000.0|10200.0|        1|\n",
      "+-----------+-------------+---+-------+-------+---------+\n",
      "\n"
     ]
    }
   ],
   "source": [
    "emp_fil.show()"
   ]
  },
  {
   "cell_type": "code",
   "execution_count": null,
   "id": "8d38ee5f-8daf-4759-ab96-b3e2bb7c4df1",
   "metadata": {},
   "outputs": [],
   "source": []
  }
 ],
 "metadata": {
  "kernelspec": {
   "display_name": "Python 3 (ipykernel)",
   "language": "python",
   "name": "python3"
  },
  "language_info": {
   "codemirror_mode": {
    "name": "ipython",
    "version": 3
   },
   "file_extension": ".py",
   "mimetype": "text/x-python",
   "name": "python",
   "nbconvert_exporter": "python",
   "pygments_lexer": "ipython3",
   "version": "3.9.18"
  }
 },
 "nbformat": 4,
 "nbformat_minor": 5
}
